{
 "cells": [
  {
   "cell_type": "markdown",
   "id": "e12ece56-fcd4-4665-bf8b-773b5e8c789d",
   "metadata": {
    "tags": []
   },
   "source": [
    "# Project 1 - Data Engineering\n",
    "## 2 Data Exploration and Analysis\n",
    "This notebook is for the implementation of task \"2 Data Exploration and Analysis\", as listed in the **Project Instructions**."
   ]
  },
  {
   "cell_type": "markdown",
   "id": "77bc8313-5500-4330-8058-ea86ea59bca5",
   "metadata": {},
   "source": [
    "<div class=\"alert alert-success\">\n",
    "<b>Overview:</b><br>\n",
    "Data Exploration and Analysis consists of the following parts worth 70 points:\n",
    "<ul>\n",
    "    <li><b>E1 - Obtain and Scrub</b> (15 points)</li>\n",
    "    <li><b>E2 - Exploratory data analysis (EDA) </b>(20 points)</li>\n",
    "    <li><b>E3 - Formulate hypotheses </b>(25 points)</li>\n",
    "    <li><b>Follow the guidelines for Data Exploration and Analysis below </b>(10 points)</li>\n",
    "</ul></div>"
   ]
  },
  {
   "cell_type": "markdown",
   "id": "74a11b0d-ec5b-4d24-b2b9-ba6978c507ba",
   "metadata": {},
   "source": [
    "<div class=\"alert alert-success\">\n",
    "<b>Guidelines for Data Exploration and Analysis:</b><br>\n",
    "    <ol>\n",
    "        <li>Use a single Jupyer notebook for your project.</li>\n",
    "        <li>Use only Python-code for your project.</li>\n",
    "        <li>The use of automatic and semi-automatic data analyis tools is not allowed (e. g., PandasGUI, D-Tale, Mito, etc.). Only use packages we used in the coded lectures.</li>\n",
    "        <li>Export your environment for submission as 'prj01-environment.txt'.</li>\n",
    "        <li>Upload your resulting work as a zip file containing only a single jupyter notebook and required files to run the notebook. All cell outputs and <b>figures must display in jupyter lab</b>. (Test this, in particular when you use another environment like VS Code.)</li>\n",
    "        <li>All code cells in your notebook must be runnable without errors or warnings (e. g., deprecated functions). Each error/warning subtracts -2 points (up to the full 10 points for following the  guidelines).</li>\n",
    "        <li>Use only relative paths in your project.</li>\n",
    "        <li>Avoid (excessive) code duplication.</li>\n",
    "        <li>Avoid loops iterating over pandas objects (Series, DataFrames). Explicitly justify each exception via a comment. </li>\n",
    "        <li>All coded steps in your analysis must be commented.</li>\n",
    "        <li>Keep your code as well as outputs short, precise and readable. Each long or unnecessary output subtracts -2 points (up to the full 10 points for following the project guidelines).</li>\n",
    "    </ol>\n",
    "    <b>Late submissions are not accepted and earn you 0 points on the python project. </b>\n",
    "</div>"
   ]
  },
  {
   "cell_type": "markdown",
   "id": "ea992ba9-f942-445d-a515-16dc32837466",
   "metadata": {},
   "source": [
    "Explicitly list which notebook toolset was used (jupyter lab/jupyter notebook/VS Code/etc.) \n",
    "\n",
    "**here**: Jupyter Notebook, Pycharm"
   ]
  },
  {
   "cell_type": "markdown",
   "id": "92f63424-1d61-4b8b-94a6-f50afea65d79",
   "metadata": {
    "tags": []
   },
   "source": [
    "Explicitly and clearly state the chosen dataset number and title:\n",
    "### Arbeitsmarkt ODÖ \n",
    "## 99. Gesamtübersicht über die Arbeitslosigkeit - Bestand, Zugang, Abgang\n"
   ]
  },
  {
   "cell_type": "markdown",
   "id": "0999a549-323a-4537-963f-3a1a746b77fd",
   "metadata": {},
   "source": [
    "## E1 - Obtain and Scrub"
   ]
  },
  {
   "cell_type": "raw",
   "id": "6cf3d8fa17b2545c",
   "metadata": {},
   "source": [
    "### Obtain\n",
    "Download the dataset and understand both: \n",
    "- format: wide vs. long, separaters, decimal points, encoding, etc., and \n",
    "- content: what variables are in the columns, what is their meaning?\n",
    "To this end, identify and download metadata such as headers, category listings, explanatory reports, etc.\n",
    "### Scrub\n",
    "The aim of scrub is to create a clean version of the data for further analysis. \n",
    "- Load the dataset and take care of dtypes (dates, numbers, categories, etc.). Justify why you don't load/use specific columns.\n",
    "- Check for footnotes or any other notifications on special cell content, such as time series breaks. Follow up that information, and document your decision how to deal with it. Remember: A homework contained such info in the cell \"76.1 b\". The metadata defines what that \"b\" stands for.\n",
    "![image.png](attachment:8eab5647-0d31-4875-a3ac-990349e90b76.png)\n",
    "- Choose an appropriate (Multi-)Index.\n",
    "- Identify:\n",
    "    1. missing values and get row and column overviews. Use graphical and/or numeric approaches. Once identified, handle missing values according to column type, time series property and data set size.\n",
    "    2. duplicates (justify the used column subset). Remove duplicates - if any - and inspect what you removed.\n",
    "- Transform to shape (tidy vs. wide) best suited for further analysis.\n",
    "- Export the clean data to a file for inspection with an external data browser (e.g., MS Excel).\n",
    "- Provide an overview of the clean dataset:\n",
    "    1. show the dtypes\n",
    "    2. quantitative column descriptions: \n",
    "        1. categorical columns: number of unique values, counts \n",
    "        2. numeric columns: range and median"
   ]
  },
  {
   "cell_type": "code",
   "execution_count": 7,
   "id": "1575f46ccbe064d",
   "metadata": {
    "ExecuteTime": {
     "end_time": "2024-10-05T22:08:26.048405Z",
     "start_time": "2024-10-05T22:08:25.939682Z"
    }
   },
   "outputs": [],
   "source": [
    "# E0: setup imports\n",
    "import pandas as pd\n",
    "import numpy as np\n",
    "import matplotlib.pyplot as plt\n",
    "import matplotlib.ticker as ticker\n",
    "import seaborn as sns\n",
    "import geopandas as gpd\n",
    "import plotly.express as px\n",
    "import re\n"
   ]
  },
  {
   "cell_type": "code",
   "execution_count": 8,
   "id": "cec63c55-0a55-4b05-943f-565ed1aa2b06",
   "metadata": {
    "ExecuteTime": {
     "end_time": "2024-10-05T16:43:57.265081Z",
     "start_time": "2024-10-05T16:43:52.474174Z"
    }
   },
   "outputs": [
    {
     "name": "stdout",
     "output_type": "stream",
     "text": [
      "<class 'pandas.core.frame.DataFrame'>\n",
      "RangeIndex: 1921893 entries, 0 to 1921892\n",
      "Data columns (total 9 columns):\n",
      " #   Column             Dtype         \n",
      "---  ------             -----         \n",
      " 0   Datum              datetime64[ns]\n",
      " 1   RGSCode            int64         \n",
      " 2   RGSName            object        \n",
      " 3   Geschlecht         object        \n",
      " 4   Altersgruppe       object        \n",
      " 5   Berufs4Steller     object        \n",
      " 6   Berufs4StellerBez  object        \n",
      " 7   BESTAND            int64         \n",
      " 8   Unnamed: 8         float64       \n",
      "dtypes: datetime64[ns](1), float64(1), int64(2), object(5)\n",
      "memory usage: 132.0+ MB\n"
     ]
    },
    {
     "data": {
      "text/plain": [
       "(None, 0)"
      ]
     },
     "execution_count": 8,
     "metadata": {},
     "output_type": "execute_result"
    }
   ],
   "source": [
    "# E1:\n",
    "# Personen in Schulung nach Alter und Berufswunsch - Bestand\n",
    "# read csv file\n",
    "df = pd.read_csv('Bestand_SC_Alter_Berufswunsch_RGS.csv', sep=';', encoding = 'ISO-8859-1', parse_dates=[\"Datum\"])\n",
    "\n",
    "df.info(), df['Unnamed: 8'].nunique()\n",
    "# df['Unnamed 8'].describe()"
   ]
  },
  {
   "cell_type": "code",
   "execution_count": 9,
   "id": "2d913bd1fc1c6f52",
   "metadata": {
    "ExecuteTime": {
     "end_time": "2024-10-05T16:43:57.537434Z",
     "start_time": "2024-10-05T16:43:57.269781Z"
    }
   },
   "outputs": [
    {
     "data": {
      "text/html": [
       "<div>\n",
       "<style scoped>\n",
       "    .dataframe tbody tr th:only-of-type {\n",
       "        vertical-align: middle;\n",
       "    }\n",
       "\n",
       "    .dataframe tbody tr th {\n",
       "        vertical-align: top;\n",
       "    }\n",
       "\n",
       "    .dataframe thead th {\n",
       "        text-align: right;\n",
       "    }\n",
       "</style>\n",
       "<table border=\"1\" class=\"dataframe\">\n",
       "  <thead>\n",
       "    <tr style=\"text-align: right;\">\n",
       "      <th></th>\n",
       "      <th>Datum</th>\n",
       "      <th>RGSCode</th>\n",
       "      <th>RGSName</th>\n",
       "      <th>Geschlecht</th>\n",
       "      <th>Altersgruppe</th>\n",
       "      <th>Berufs4Steller</th>\n",
       "      <th>Berufs4StellerBez</th>\n",
       "      <th>BESTAND</th>\n",
       "    </tr>\n",
       "  </thead>\n",
       "  <tbody>\n",
       "    <tr>\n",
       "      <th>0</th>\n",
       "      <td>2019-01-31</td>\n",
       "      <td>101</td>\n",
       "      <td>Eisenstadt</td>\n",
       "      <td>Frauen</td>\n",
       "      <td>bis 19 Jahre</td>\n",
       "      <td>B0254</td>\n",
       "      <td>Tierzuchtgehilf(en)innen, Tierpfleger/innen</td>\n",
       "      <td>1</td>\n",
       "    </tr>\n",
       "    <tr>\n",
       "      <th>1</th>\n",
       "      <td>2019-01-31</td>\n",
       "      <td>101</td>\n",
       "      <td>Eisenstadt</td>\n",
       "      <td>Frauen</td>\n",
       "      <td>bis 19 Jahre</td>\n",
       "      <td>B1761</td>\n",
       "      <td>Maler/innen, Anstreicher/innen</td>\n",
       "      <td>1</td>\n",
       "    </tr>\n",
       "    <tr>\n",
       "      <th>2</th>\n",
       "      <td>2019-01-31</td>\n",
       "      <td>101</td>\n",
       "      <td>Eisenstadt</td>\n",
       "      <td>Frauen</td>\n",
       "      <td>bis 19 Jahre</td>\n",
       "      <td>B2105</td>\n",
       "      <td>Karosserie-, Kühlerspengler/innen</td>\n",
       "      <td>1</td>\n",
       "    </tr>\n",
       "    <tr>\n",
       "      <th>3</th>\n",
       "      <td>2019-01-31</td>\n",
       "      <td>101</td>\n",
       "      <td>Eisenstadt</td>\n",
       "      <td>Frauen</td>\n",
       "      <td>bis 19 Jahre</td>\n",
       "      <td>B2405</td>\n",
       "      <td>Elektromechaniker/innen</td>\n",
       "      <td>1</td>\n",
       "    </tr>\n",
       "    <tr>\n",
       "      <th>4</th>\n",
       "      <td>2019-01-31</td>\n",
       "      <td>101</td>\n",
       "      <td>Eisenstadt</td>\n",
       "      <td>Frauen</td>\n",
       "      <td>bis 19 Jahre</td>\n",
       "      <td>B3631</td>\n",
       "      <td>Bäcker/innen</td>\n",
       "      <td>1</td>\n",
       "    </tr>\n",
       "  </tbody>\n",
       "</table>\n",
       "</div>"
      ],
      "text/plain": [
       "       Datum  RGSCode     RGSName Geschlecht  Altersgruppe Berufs4Steller  \\\n",
       "0 2019-01-31      101  Eisenstadt     Frauen  bis 19 Jahre          B0254   \n",
       "1 2019-01-31      101  Eisenstadt     Frauen  bis 19 Jahre          B1761   \n",
       "2 2019-01-31      101  Eisenstadt     Frauen  bis 19 Jahre          B2105   \n",
       "3 2019-01-31      101  Eisenstadt     Frauen  bis 19 Jahre          B2405   \n",
       "4 2019-01-31      101  Eisenstadt     Frauen  bis 19 Jahre          B3631   \n",
       "\n",
       "                             Berufs4StellerBez  BESTAND  \n",
       "0  Tierzuchtgehilf(en)innen, Tierpfleger/innen        1  \n",
       "1               Maler/innen, Anstreicher/innen        1  \n",
       "2            Karosserie-, Kühlerspengler/innen        1  \n",
       "3                      Elektromechaniker/innen        1  \n",
       "4                                 Bäcker/innen        1  "
      ]
     },
     "execution_count": 9,
     "metadata": {},
     "output_type": "execute_result"
    }
   ],
   "source": [
    "# drop unnötige Column\n",
    "df.drop('Unnamed: 8', axis = 1, inplace = True)\n",
    "df.head()"
   ]
  },
  {
   "cell_type": "code",
   "execution_count": 10,
   "id": "25cec24954e86da5",
   "metadata": {
    "ExecuteTime": {
     "end_time": "2024-10-05T16:43:57.740008Z",
     "start_time": "2024-10-05T16:43:57.542Z"
    }
   },
   "outputs": [
    {
     "data": {
      "text/html": [
       "<div>\n",
       "<style scoped>\n",
       "    .dataframe tbody tr th:only-of-type {\n",
       "        vertical-align: middle;\n",
       "    }\n",
       "\n",
       "    .dataframe tbody tr th {\n",
       "        vertical-align: top;\n",
       "    }\n",
       "\n",
       "    .dataframe thead th {\n",
       "        text-align: right;\n",
       "    }\n",
       "</style>\n",
       "<table border=\"1\" class=\"dataframe\">\n",
       "  <thead>\n",
       "    <tr style=\"text-align: right;\">\n",
       "      <th></th>\n",
       "      <th>Datum</th>\n",
       "      <th>RGSCode</th>\n",
       "      <th>RGSName</th>\n",
       "      <th>Geschlecht</th>\n",
       "      <th>Altersgruppe</th>\n",
       "      <th>Berufs4Steller</th>\n",
       "      <th>Berufs4StellerBez</th>\n",
       "      <th>BESTAND</th>\n",
       "    </tr>\n",
       "  </thead>\n",
       "  <tbody>\n",
       "    <tr>\n",
       "      <th>0</th>\n",
       "      <td>2019-01-31</td>\n",
       "      <td>101</td>\n",
       "      <td>Eisenstadt</td>\n",
       "      <td>Frauen</td>\n",
       "      <td>bis 19 Jahre</td>\n",
       "      <td>B0254</td>\n",
       "      <td>Tierzuchtgehilf(en)innen, Tierpfleger/innen</td>\n",
       "      <td>1</td>\n",
       "    </tr>\n",
       "    <tr>\n",
       "      <th>1</th>\n",
       "      <td>2019-01-31</td>\n",
       "      <td>101</td>\n",
       "      <td>Eisenstadt</td>\n",
       "      <td>Frauen</td>\n",
       "      <td>bis 19 Jahre</td>\n",
       "      <td>B1761</td>\n",
       "      <td>Maler/innen, Anstreicher/innen</td>\n",
       "      <td>1</td>\n",
       "    </tr>\n",
       "    <tr>\n",
       "      <th>2</th>\n",
       "      <td>2019-01-31</td>\n",
       "      <td>101</td>\n",
       "      <td>Eisenstadt</td>\n",
       "      <td>Frauen</td>\n",
       "      <td>bis 19 Jahre</td>\n",
       "      <td>B2105</td>\n",
       "      <td>Karosserie-, Kühlerspengler/innen</td>\n",
       "      <td>1</td>\n",
       "    </tr>\n",
       "    <tr>\n",
       "      <th>3</th>\n",
       "      <td>2019-01-31</td>\n",
       "      <td>101</td>\n",
       "      <td>Eisenstadt</td>\n",
       "      <td>Frauen</td>\n",
       "      <td>bis 19 Jahre</td>\n",
       "      <td>B2405</td>\n",
       "      <td>Elektromechaniker/innen</td>\n",
       "      <td>1</td>\n",
       "    </tr>\n",
       "    <tr>\n",
       "      <th>4</th>\n",
       "      <td>2019-01-31</td>\n",
       "      <td>101</td>\n",
       "      <td>Eisenstadt</td>\n",
       "      <td>Frauen</td>\n",
       "      <td>bis 19 Jahre</td>\n",
       "      <td>B3631</td>\n",
       "      <td>Bäcker/innen</td>\n",
       "      <td>1</td>\n",
       "    </tr>\n",
       "    <tr>\n",
       "      <th>...</th>\n",
       "      <td>...</td>\n",
       "      <td>...</td>\n",
       "      <td>...</td>\n",
       "      <td>...</td>\n",
       "      <td>...</td>\n",
       "      <td>...</td>\n",
       "      <td>...</td>\n",
       "      <td>...</td>\n",
       "    </tr>\n",
       "    <tr>\n",
       "      <th>1921888</th>\n",
       "      <td>2024-08-31</td>\n",
       "      <td>977</td>\n",
       "      <td>Wien Jugendliche II</td>\n",
       "      <td>Männer</td>\n",
       "      <td>25 bis 29 Jahre</td>\n",
       "      <td>B7712</td>\n",
       "      <td>Laden-, Eintrittskartenkassier(e)innen</td>\n",
       "      <td>2</td>\n",
       "    </tr>\n",
       "    <tr>\n",
       "      <th>1921889</th>\n",
       "      <td>2024-08-31</td>\n",
       "      <td>977</td>\n",
       "      <td>Wien Jugendliche II</td>\n",
       "      <td>Männer</td>\n",
       "      <td>25 bis 29 Jahre</td>\n",
       "      <td>B7801</td>\n",
       "      <td>Industrie-, Gewerbekaufleute (m./w.), Kontoris...</td>\n",
       "      <td>2</td>\n",
       "    </tr>\n",
       "    <tr>\n",
       "      <th>1921890</th>\n",
       "      <td>2024-08-31</td>\n",
       "      <td>977</td>\n",
       "      <td>Wien Jugendliche II</td>\n",
       "      <td>Männer</td>\n",
       "      <td>25 bis 29 Jahre</td>\n",
       "      <td>B8081</td>\n",
       "      <td>Nicht diplomierte Krankenpfleger/innen und ver...</td>\n",
       "      <td>3</td>\n",
       "    </tr>\n",
       "    <tr>\n",
       "      <th>1921891</th>\n",
       "      <td>2024-08-31</td>\n",
       "      <td>977</td>\n",
       "      <td>Wien Jugendliche II</td>\n",
       "      <td>Männer</td>\n",
       "      <td>25 bis 29 Jahre</td>\n",
       "      <td>B8101</td>\n",
       "      <td>Fürsorger/innen, Sozialarbeiter/innen</td>\n",
       "      <td>1</td>\n",
       "    </tr>\n",
       "    <tr>\n",
       "      <th>1921892</th>\n",
       "      <td>2024-08-31</td>\n",
       "      <td>977</td>\n",
       "      <td>Wien Jugendliche II</td>\n",
       "      <td>Männer</td>\n",
       "      <td>25 bis 29 Jahre</td>\n",
       "      <td>B8371</td>\n",
       "      <td>Erzieher/innen</td>\n",
       "      <td>1</td>\n",
       "    </tr>\n",
       "  </tbody>\n",
       "</table>\n",
       "<p>1921893 rows × 8 columns</p>\n",
       "</div>"
      ],
      "text/plain": [
       "             Datum  RGSCode              RGSName Geschlecht     Altersgruppe  \\\n",
       "0       2019-01-31      101           Eisenstadt     Frauen     bis 19 Jahre   \n",
       "1       2019-01-31      101           Eisenstadt     Frauen     bis 19 Jahre   \n",
       "2       2019-01-31      101           Eisenstadt     Frauen     bis 19 Jahre   \n",
       "3       2019-01-31      101           Eisenstadt     Frauen     bis 19 Jahre   \n",
       "4       2019-01-31      101           Eisenstadt     Frauen     bis 19 Jahre   \n",
       "...            ...      ...                  ...        ...              ...   \n",
       "1921888 2024-08-31      977  Wien Jugendliche II     Männer  25 bis 29 Jahre   \n",
       "1921889 2024-08-31      977  Wien Jugendliche II     Männer  25 bis 29 Jahre   \n",
       "1921890 2024-08-31      977  Wien Jugendliche II     Männer  25 bis 29 Jahre   \n",
       "1921891 2024-08-31      977  Wien Jugendliche II     Männer  25 bis 29 Jahre   \n",
       "1921892 2024-08-31      977  Wien Jugendliche II     Männer  25 bis 29 Jahre   \n",
       "\n",
       "        Berufs4Steller                                  Berufs4StellerBez  \\\n",
       "0                B0254        Tierzuchtgehilf(en)innen, Tierpfleger/innen   \n",
       "1                B1761                     Maler/innen, Anstreicher/innen   \n",
       "2                B2105                  Karosserie-, Kühlerspengler/innen   \n",
       "3                B2405                            Elektromechaniker/innen   \n",
       "4                B3631                                       Bäcker/innen   \n",
       "...                ...                                                ...   \n",
       "1921888          B7712             Laden-, Eintrittskartenkassier(e)innen   \n",
       "1921889          B7801  Industrie-, Gewerbekaufleute (m./w.), Kontoris...   \n",
       "1921890          B8081  Nicht diplomierte Krankenpfleger/innen und ver...   \n",
       "1921891          B8101              Fürsorger/innen, Sozialarbeiter/innen   \n",
       "1921892          B8371                                     Erzieher/innen   \n",
       "\n",
       "         BESTAND  \n",
       "0              1  \n",
       "1              1  \n",
       "2              1  \n",
       "3              1  \n",
       "4              1  \n",
       "...          ...  \n",
       "1921888        2  \n",
       "1921889        2  \n",
       "1921890        3  \n",
       "1921891        1  \n",
       "1921892        1  \n",
       "\n",
       "[1921893 rows x 8 columns]"
      ]
     },
     "execution_count": 10,
     "metadata": {},
     "output_type": "execute_result"
    }
   ],
   "source": [
    "# definiere Geschlecht als Category, da nie mehr Werte zugelassen sein sollen\n",
    "df['Geschlecht'] = df['Geschlecht'].astype('category') # only 2 values\n",
    "df"
   ]
  },
  {
   "cell_type": "code",
   "execution_count": 11,
   "id": "48c1910194815791",
   "metadata": {
    "ExecuteTime": {
     "end_time": "2024-10-05T16:47:33.163374Z",
     "start_time": "2024-10-05T16:43:57.745924Z"
    }
   },
   "outputs": [
    {
     "data": {
      "text/html": [
       "<div>\n",
       "<style scoped>\n",
       "    .dataframe tbody tr th:only-of-type {\n",
       "        vertical-align: middle;\n",
       "    }\n",
       "\n",
       "    .dataframe tbody tr th {\n",
       "        vertical-align: top;\n",
       "    }\n",
       "\n",
       "    .dataframe thead th {\n",
       "        text-align: right;\n",
       "    }\n",
       "</style>\n",
       "<table border=\"1\" class=\"dataframe\">\n",
       "  <thead>\n",
       "    <tr style=\"text-align: right;\">\n",
       "      <th></th>\n",
       "      <th>Lower Age</th>\n",
       "      <th>Upper Age</th>\n",
       "    </tr>\n",
       "  </thead>\n",
       "  <tbody>\n",
       "    <tr>\n",
       "      <th>0</th>\n",
       "      <td>0</td>\n",
       "      <td>19</td>\n",
       "    </tr>\n",
       "    <tr>\n",
       "      <th>1</th>\n",
       "      <td>0</td>\n",
       "      <td>19</td>\n",
       "    </tr>\n",
       "    <tr>\n",
       "      <th>2</th>\n",
       "      <td>0</td>\n",
       "      <td>19</td>\n",
       "    </tr>\n",
       "    <tr>\n",
       "      <th>3</th>\n",
       "      <td>0</td>\n",
       "      <td>19</td>\n",
       "    </tr>\n",
       "    <tr>\n",
       "      <th>4</th>\n",
       "      <td>0</td>\n",
       "      <td>19</td>\n",
       "    </tr>\n",
       "    <tr>\n",
       "      <th>...</th>\n",
       "      <td>...</td>\n",
       "      <td>...</td>\n",
       "    </tr>\n",
       "    <tr>\n",
       "      <th>1921888</th>\n",
       "      <td>25</td>\n",
       "      <td>29</td>\n",
       "    </tr>\n",
       "    <tr>\n",
       "      <th>1921889</th>\n",
       "      <td>25</td>\n",
       "      <td>29</td>\n",
       "    </tr>\n",
       "    <tr>\n",
       "      <th>1921890</th>\n",
       "      <td>25</td>\n",
       "      <td>29</td>\n",
       "    </tr>\n",
       "    <tr>\n",
       "      <th>1921891</th>\n",
       "      <td>25</td>\n",
       "      <td>29</td>\n",
       "    </tr>\n",
       "    <tr>\n",
       "      <th>1921892</th>\n",
       "      <td>25</td>\n",
       "      <td>29</td>\n",
       "    </tr>\n",
       "  </tbody>\n",
       "</table>\n",
       "<p>1921893 rows × 2 columns</p>\n",
       "</div>"
      ],
      "text/plain": [
       "         Lower Age  Upper Age\n",
       "0                0         19\n",
       "1                0         19\n",
       "2                0         19\n",
       "3                0         19\n",
       "4                0         19\n",
       "...            ...        ...\n",
       "1921888         25         29\n",
       "1921889         25         29\n",
       "1921890         25         29\n",
       "1921891         25         29\n",
       "1921892         25         29\n",
       "\n",
       "[1921893 rows x 2 columns]"
      ]
     },
     "execution_count": 11,
     "metadata": {},
     "output_type": "execute_result"
    }
   ],
   "source": [
    "from concurrent.futures.thread import ThreadPoolExecutor\n",
    "\n",
    "# Altersgruppe aufteilen, um Nummern separat als Int zu speichern (plotten, sortieren)\n",
    "regex_pattern = re.compile(r'\\d+')\n",
    "def sep_age(age_range):\n",
    "    numbers = regex_pattern.findall(age_range)\n",
    "    if len(numbers) == 1:\n",
    "        if age_range.startswith('bis'):\n",
    "            return (0, int(numbers[0]))  # bis 19 Jahre\n",
    "        else:\n",
    "            return (int(numbers[0]), 99)  # 65 Jahre und Ã¤lter\n",
    "    elif len(numbers) == 2:\n",
    "        return (int(numbers[0]), int(numbers[1]))  # Lower and upper bounds\n",
    "    return (None, None)  # Fallback case (if no match)\n",
    "\n",
    "# Parallel processing using ThreadPoolExecutor\n",
    "def parallel_apply(func, series):\n",
    "    with ThreadPoolExecutor() as executor:\n",
    "        results = list(executor.map(func, series))\n",
    "    return pd.DataFrame(results, columns=['Lower Age', 'Upper Age'])\n",
    "\n",
    "# Applying the optimized function in parallel\n",
    "age = parallel_apply(sep_age, df['Altersgruppe'])\n",
    "age"
   ]
  },
  {
   "cell_type": "code",
   "execution_count": 35,
   "id": "bd8982894a1617e6",
   "metadata": {
    "ExecuteTime": {
     "end_time": "2024-10-05T16:47:33.198807Z",
     "start_time": "2024-10-05T16:47:33.165392Z"
    }
   },
   "outputs": [
    {
     "data": {
      "text/html": [
       "<div>\n",
       "<style scoped>\n",
       "    .dataframe tbody tr th:only-of-type {\n",
       "        vertical-align: middle;\n",
       "    }\n",
       "\n",
       "    .dataframe tbody tr th {\n",
       "        vertical-align: top;\n",
       "    }\n",
       "\n",
       "    .dataframe thead th {\n",
       "        text-align: right;\n",
       "    }\n",
       "</style>\n",
       "<table border=\"1\" class=\"dataframe\">\n",
       "  <thead>\n",
       "    <tr style=\"text-align: right;\">\n",
       "      <th></th>\n",
       "      <th>Datum</th>\n",
       "      <th>RGSCode</th>\n",
       "      <th>RGSName</th>\n",
       "      <th>Geschlecht</th>\n",
       "      <th>Altersgruppe</th>\n",
       "      <th>Berufs4Steller</th>\n",
       "      <th>Berufs4StellerBez</th>\n",
       "      <th>BESTAND</th>\n",
       "      <th>Alter_von</th>\n",
       "      <th>Alter_bis</th>\n",
       "    </tr>\n",
       "  </thead>\n",
       "  <tbody>\n",
       "    <tr>\n",
       "      <th>0</th>\n",
       "      <td>2019-01-31</td>\n",
       "      <td>101</td>\n",
       "      <td>Eisenstadt</td>\n",
       "      <td>Frauen</td>\n",
       "      <td>bis 19 Jahre</td>\n",
       "      <td>B0254</td>\n",
       "      <td>Tierzuchtgehilf(en)innen, Tierpfleger/innen</td>\n",
       "      <td>1</td>\n",
       "      <td>0</td>\n",
       "      <td>19</td>\n",
       "    </tr>\n",
       "    <tr>\n",
       "      <th>1</th>\n",
       "      <td>2019-01-31</td>\n",
       "      <td>101</td>\n",
       "      <td>Eisenstadt</td>\n",
       "      <td>Frauen</td>\n",
       "      <td>bis 19 Jahre</td>\n",
       "      <td>B1761</td>\n",
       "      <td>Maler/innen, Anstreicher/innen</td>\n",
       "      <td>1</td>\n",
       "      <td>0</td>\n",
       "      <td>19</td>\n",
       "    </tr>\n",
       "    <tr>\n",
       "      <th>2</th>\n",
       "      <td>2019-01-31</td>\n",
       "      <td>101</td>\n",
       "      <td>Eisenstadt</td>\n",
       "      <td>Frauen</td>\n",
       "      <td>bis 19 Jahre</td>\n",
       "      <td>B2105</td>\n",
       "      <td>Karosserie-, Kühlerspengler/innen</td>\n",
       "      <td>1</td>\n",
       "      <td>0</td>\n",
       "      <td>19</td>\n",
       "    </tr>\n",
       "    <tr>\n",
       "      <th>3</th>\n",
       "      <td>2019-01-31</td>\n",
       "      <td>101</td>\n",
       "      <td>Eisenstadt</td>\n",
       "      <td>Frauen</td>\n",
       "      <td>bis 19 Jahre</td>\n",
       "      <td>B2405</td>\n",
       "      <td>Elektromechaniker/innen</td>\n",
       "      <td>1</td>\n",
       "      <td>0</td>\n",
       "      <td>19</td>\n",
       "    </tr>\n",
       "    <tr>\n",
       "      <th>4</th>\n",
       "      <td>2019-01-31</td>\n",
       "      <td>101</td>\n",
       "      <td>Eisenstadt</td>\n",
       "      <td>Frauen</td>\n",
       "      <td>bis 19 Jahre</td>\n",
       "      <td>B3631</td>\n",
       "      <td>Bäcker/innen</td>\n",
       "      <td>1</td>\n",
       "      <td>0</td>\n",
       "      <td>19</td>\n",
       "    </tr>\n",
       "    <tr>\n",
       "      <th>...</th>\n",
       "      <td>...</td>\n",
       "      <td>...</td>\n",
       "      <td>...</td>\n",
       "      <td>...</td>\n",
       "      <td>...</td>\n",
       "      <td>...</td>\n",
       "      <td>...</td>\n",
       "      <td>...</td>\n",
       "      <td>...</td>\n",
       "      <td>...</td>\n",
       "    </tr>\n",
       "    <tr>\n",
       "      <th>1921888</th>\n",
       "      <td>2024-08-31</td>\n",
       "      <td>977</td>\n",
       "      <td>Wien Jugendliche II</td>\n",
       "      <td>Männer</td>\n",
       "      <td>25 bis 29 Jahre</td>\n",
       "      <td>B7712</td>\n",
       "      <td>Laden-, Eintrittskartenkassier(e)innen</td>\n",
       "      <td>2</td>\n",
       "      <td>25</td>\n",
       "      <td>29</td>\n",
       "    </tr>\n",
       "    <tr>\n",
       "      <th>1921889</th>\n",
       "      <td>2024-08-31</td>\n",
       "      <td>977</td>\n",
       "      <td>Wien Jugendliche II</td>\n",
       "      <td>Männer</td>\n",
       "      <td>25 bis 29 Jahre</td>\n",
       "      <td>B7801</td>\n",
       "      <td>Industrie-, Gewerbekaufleute (m./w.), Kontoris...</td>\n",
       "      <td>2</td>\n",
       "      <td>25</td>\n",
       "      <td>29</td>\n",
       "    </tr>\n",
       "    <tr>\n",
       "      <th>1921890</th>\n",
       "      <td>2024-08-31</td>\n",
       "      <td>977</td>\n",
       "      <td>Wien Jugendliche II</td>\n",
       "      <td>Männer</td>\n",
       "      <td>25 bis 29 Jahre</td>\n",
       "      <td>B8081</td>\n",
       "      <td>Nicht diplomierte Krankenpfleger/innen und ver...</td>\n",
       "      <td>3</td>\n",
       "      <td>25</td>\n",
       "      <td>29</td>\n",
       "    </tr>\n",
       "    <tr>\n",
       "      <th>1921891</th>\n",
       "      <td>2024-08-31</td>\n",
       "      <td>977</td>\n",
       "      <td>Wien Jugendliche II</td>\n",
       "      <td>Männer</td>\n",
       "      <td>25 bis 29 Jahre</td>\n",
       "      <td>B8101</td>\n",
       "      <td>Fürsorger/innen, Sozialarbeiter/innen</td>\n",
       "      <td>1</td>\n",
       "      <td>25</td>\n",
       "      <td>29</td>\n",
       "    </tr>\n",
       "    <tr>\n",
       "      <th>1921892</th>\n",
       "      <td>2024-08-31</td>\n",
       "      <td>977</td>\n",
       "      <td>Wien Jugendliche II</td>\n",
       "      <td>Männer</td>\n",
       "      <td>25 bis 29 Jahre</td>\n",
       "      <td>B8371</td>\n",
       "      <td>Erzieher/innen</td>\n",
       "      <td>1</td>\n",
       "      <td>25</td>\n",
       "      <td>29</td>\n",
       "    </tr>\n",
       "  </tbody>\n",
       "</table>\n",
       "<p>1921893 rows × 10 columns</p>\n",
       "</div>"
      ],
      "text/plain": [
       "             Datum  RGSCode              RGSName Geschlecht     Altersgruppe  \\\n",
       "0       2019-01-31      101           Eisenstadt     Frauen     bis 19 Jahre   \n",
       "1       2019-01-31      101           Eisenstadt     Frauen     bis 19 Jahre   \n",
       "2       2019-01-31      101           Eisenstadt     Frauen     bis 19 Jahre   \n",
       "3       2019-01-31      101           Eisenstadt     Frauen     bis 19 Jahre   \n",
       "4       2019-01-31      101           Eisenstadt     Frauen     bis 19 Jahre   \n",
       "...            ...      ...                  ...        ...              ...   \n",
       "1921888 2024-08-31      977  Wien Jugendliche II     Männer  25 bis 29 Jahre   \n",
       "1921889 2024-08-31      977  Wien Jugendliche II     Männer  25 bis 29 Jahre   \n",
       "1921890 2024-08-31      977  Wien Jugendliche II     Männer  25 bis 29 Jahre   \n",
       "1921891 2024-08-31      977  Wien Jugendliche II     Männer  25 bis 29 Jahre   \n",
       "1921892 2024-08-31      977  Wien Jugendliche II     Männer  25 bis 29 Jahre   \n",
       "\n",
       "        Berufs4Steller                                  Berufs4StellerBez  \\\n",
       "0                B0254        Tierzuchtgehilf(en)innen, Tierpfleger/innen   \n",
       "1                B1761                     Maler/innen, Anstreicher/innen   \n",
       "2                B2105                  Karosserie-, Kühlerspengler/innen   \n",
       "3                B2405                            Elektromechaniker/innen   \n",
       "4                B3631                                       Bäcker/innen   \n",
       "...                ...                                                ...   \n",
       "1921888          B7712             Laden-, Eintrittskartenkassier(e)innen   \n",
       "1921889          B7801  Industrie-, Gewerbekaufleute (m./w.), Kontoris...   \n",
       "1921890          B8081  Nicht diplomierte Krankenpfleger/innen und ver...   \n",
       "1921891          B8101              Fürsorger/innen, Sozialarbeiter/innen   \n",
       "1921892          B8371                                     Erzieher/innen   \n",
       "\n",
       "         BESTAND  Alter_von  Alter_bis  \n",
       "0              1          0         19  \n",
       "1              1          0         19  \n",
       "2              1          0         19  \n",
       "3              1          0         19  \n",
       "4              1          0         19  \n",
       "...          ...        ...        ...  \n",
       "1921888        2         25         29  \n",
       "1921889        2         25         29  \n",
       "1921890        3         25         29  \n",
       "1921891        1         25         29  \n",
       "1921892        1         25         29  \n",
       "\n",
       "[1921893 rows x 10 columns]"
      ]
     },
     "execution_count": 35,
     "metadata": {},
     "output_type": "execute_result"
    }
   ],
   "source": [
    "# erstellen neuer Columns, um Altersgrenzen zu speichern\n",
    "df['Alter_von'] = age['Lower Age']\n",
    "df['Alter_bis'] = age['Upper Age']\n",
    "df"
   ]
  },
  {
   "cell_type": "code",
   "execution_count": 37,
   "id": "d5cecafc4de657bc",
   "metadata": {
    "ExecuteTime": {
     "end_time": "2024-10-05T16:47:33.547176Z",
     "start_time": "2024-10-05T16:47:33.202365Z"
    }
   },
   "outputs": [
    {
     "name": "stdout",
     "output_type": "stream",
     "text": [
      "460 459\n"
     ]
    },
    {
     "data": {
      "text/plain": [
       "Datum\n",
       "2024-02-29    31869\n",
       "2021-04-30    31620\n",
       "2024-04-30    31255\n",
       "2021-03-31    31234\n",
       "2024-01-31    30984\n",
       "              ...  \n",
       "2020-08-31    24155\n",
       "2020-06-30    23823\n",
       "2020-07-31    23536\n",
       "2020-04-30    23280\n",
       "2020-05-31    21949\n",
       "Name: count, Length: 68, dtype: int64"
      ]
     },
     "execution_count": 37,
     "metadata": {},
     "output_type": "execute_result"
    }
   ],
   "source": [
    "# Anzahlen von BerufsCode und Bezeichnung vergleichen\n",
    "print(df['Berufs4Steller'].nunique(), df['Berufs4StellerBez'].nunique())\n",
    "df['Datum'].value_counts()"
   ]
  },
  {
   "cell_type": "code",
   "execution_count": 38,
   "id": "9b628c9cc70557c8",
   "metadata": {
    "ExecuteTime": {
     "end_time": "2024-10-05T16:47:34.091282Z",
     "start_time": "2024-10-05T16:47:33.548933Z"
    }
   },
   "outputs": [
    {
     "data": {
      "text/plain": [
       "Berufs4StellerBez    0.03\n",
       "Datum                0.00\n",
       "RGSCode              0.00\n",
       "RGSName              0.00\n",
       "Geschlecht           0.00\n",
       "Altersgruppe         0.00\n",
       "Berufs4Steller       0.00\n",
       "BESTAND              0.00\n",
       "Alter_von            0.00\n",
       "Alter_bis            0.00\n",
       "dtype: float64"
      ]
     },
     "execution_count": 38,
     "metadata": {},
     "output_type": "execute_result"
    }
   ],
   "source": [
    "# fehlende Daten pro column anschauen\n",
    "missing_data = df.isnull().sum()\n",
    "missing_percentages = round((missing_data / len(df)) * 100, 2)\n",
    "\n",
    "missing_percentages.sort_values(ascending=False)"
   ]
  },
  {
   "cell_type": "code",
   "execution_count": 39,
   "id": "f1c985eb9e2f4d3c",
   "metadata": {
    "ExecuteTime": {
     "end_time": "2024-10-05T16:47:35.197898Z",
     "start_time": "2024-10-05T16:47:34.093822Z"
    }
   },
   "outputs": [
    {
     "name": "stdout",
     "output_type": "stream",
     "text": [
      "(1921893, 10)\n",
      "(1921372, 10)\n"
     ]
    }
   ],
   "source": [
    "# erstellen eines neuen Datasets, welche Nan-Values enthält - für spätere Untersuchung\n",
    "df_nan = df[df['Berufs4StellerBez'].isnull()] # dataset with NaN values (521 rows)\n",
    "print(df.shape)\n",
    "df.dropna(inplace=True)\n",
    "print(df.shape)"
   ]
  },
  {
   "cell_type": "code",
   "execution_count": 40,
   "id": "fbecf74026996492",
   "metadata": {
    "ExecuteTime": {
     "end_time": "2024-10-05T16:47:35.435719Z",
     "start_time": "2024-10-05T16:47:35.202441Z"
    }
   },
   "outputs": [
    {
     "name": "stdout",
     "output_type": "stream",
     "text": [
      "(23219, 10)\n",
      "Missing values percentage: 1.21\n"
     ]
    },
    {
     "data": {
      "text/html": [
       "<div>\n",
       "<style scoped>\n",
       "    .dataframe tbody tr th:only-of-type {\n",
       "        vertical-align: middle;\n",
       "    }\n",
       "\n",
       "    .dataframe tbody tr th {\n",
       "        vertical-align: top;\n",
       "    }\n",
       "\n",
       "    .dataframe thead th {\n",
       "        text-align: right;\n",
       "    }\n",
       "</style>\n",
       "<table border=\"1\" class=\"dataframe\">\n",
       "  <thead>\n",
       "    <tr style=\"text-align: right;\">\n",
       "      <th></th>\n",
       "      <th>Datum</th>\n",
       "      <th>RGSCode</th>\n",
       "      <th>RGSName</th>\n",
       "      <th>Geschlecht</th>\n",
       "      <th>Altersgruppe</th>\n",
       "      <th>Berufs4Steller</th>\n",
       "      <th>Berufs4StellerBez</th>\n",
       "      <th>BESTAND</th>\n",
       "      <th>Alter_von</th>\n",
       "      <th>Alter_bis</th>\n",
       "    </tr>\n",
       "  </thead>\n",
       "  <tbody>\n",
       "    <tr>\n",
       "      <th>13</th>\n",
       "      <td>2019-01-31</td>\n",
       "      <td>101</td>\n",
       "      <td>Eisenstadt</td>\n",
       "      <td>Frauen</td>\n",
       "      <td>bis 19 Jahre</td>\n",
       "      <td>B9999</td>\n",
       "      <td>unbestimmt (nur Pst)</td>\n",
       "      <td>1</td>\n",
       "      <td>0</td>\n",
       "      <td>19</td>\n",
       "    </tr>\n",
       "    <tr>\n",
       "      <th>110</th>\n",
       "      <td>2019-01-31</td>\n",
       "      <td>101</td>\n",
       "      <td>Eisenstadt</td>\n",
       "      <td>Männer</td>\n",
       "      <td>bis 19 Jahre</td>\n",
       "      <td>B9999</td>\n",
       "      <td>unbestimmt (nur Pst)</td>\n",
       "      <td>1</td>\n",
       "      <td>0</td>\n",
       "      <td>19</td>\n",
       "    </tr>\n",
       "    <tr>\n",
       "      <th>260</th>\n",
       "      <td>2019-01-31</td>\n",
       "      <td>102</td>\n",
       "      <td>Mattersburg</td>\n",
       "      <td>Männer</td>\n",
       "      <td>bis 19 Jahre</td>\n",
       "      <td>B9999</td>\n",
       "      <td>unbestimmt (nur Pst)</td>\n",
       "      <td>2</td>\n",
       "      <td>0</td>\n",
       "      <td>19</td>\n",
       "    </tr>\n",
       "    <tr>\n",
       "      <th>394</th>\n",
       "      <td>2019-01-31</td>\n",
       "      <td>103</td>\n",
       "      <td>Neusiedl am See</td>\n",
       "      <td>Männer</td>\n",
       "      <td>30 bis 34 Jahre</td>\n",
       "      <td>B9999</td>\n",
       "      <td>unbestimmt (nur Pst)</td>\n",
       "      <td>1</td>\n",
       "      <td>30</td>\n",
       "      <td>34</td>\n",
       "    </tr>\n",
       "    <tr>\n",
       "      <th>1173</th>\n",
       "      <td>2019-01-31</td>\n",
       "      <td>202</td>\n",
       "      <td>Hermagor</td>\n",
       "      <td>Frauen</td>\n",
       "      <td>40 bis 44 Jahre</td>\n",
       "      <td>B9999</td>\n",
       "      <td>unbestimmt (nur Pst)</td>\n",
       "      <td>1</td>\n",
       "      <td>40</td>\n",
       "      <td>44</td>\n",
       "    </tr>\n",
       "    <tr>\n",
       "      <th>...</th>\n",
       "      <td>...</td>\n",
       "      <td>...</td>\n",
       "      <td>...</td>\n",
       "      <td>...</td>\n",
       "      <td>...</td>\n",
       "      <td>...</td>\n",
       "      <td>...</td>\n",
       "      <td>...</td>\n",
       "      <td>...</td>\n",
       "      <td>...</td>\n",
       "    </tr>\n",
       "    <tr>\n",
       "      <th>1788158</th>\n",
       "      <td>2024-04-30</td>\n",
       "      <td>501</td>\n",
       "      <td>Bischofshofen</td>\n",
       "      <td>Frauen</td>\n",
       "      <td>35 bis 39 Jahre</td>\n",
       "      <td>B</td>\n",
       "      <td>NaN</td>\n",
       "      <td>1</td>\n",
       "      <td>35</td>\n",
       "      <td>39</td>\n",
       "    </tr>\n",
       "    <tr>\n",
       "      <th>1807003</th>\n",
       "      <td>2024-05-31</td>\n",
       "      <td>106</td>\n",
       "      <td>Stegersbach</td>\n",
       "      <td>Männer</td>\n",
       "      <td>bis 19 Jahre</td>\n",
       "      <td>B</td>\n",
       "      <td>NaN</td>\n",
       "      <td>1</td>\n",
       "      <td>0</td>\n",
       "      <td>19</td>\n",
       "    </tr>\n",
       "    <tr>\n",
       "      <th>1837679</th>\n",
       "      <td>2024-06-30</td>\n",
       "      <td>108</td>\n",
       "      <td>Stegersbach/Jennersdorf</td>\n",
       "      <td>Männer</td>\n",
       "      <td>bis 19 Jahre</td>\n",
       "      <td>B</td>\n",
       "      <td>NaN</td>\n",
       "      <td>1</td>\n",
       "      <td>0</td>\n",
       "      <td>19</td>\n",
       "    </tr>\n",
       "    <tr>\n",
       "      <th>1867228</th>\n",
       "      <td>2024-07-31</td>\n",
       "      <td>108</td>\n",
       "      <td>Stegersbach/Jennersdorf</td>\n",
       "      <td>Männer</td>\n",
       "      <td>bis 19 Jahre</td>\n",
       "      <td>B</td>\n",
       "      <td>NaN</td>\n",
       "      <td>1</td>\n",
       "      <td>0</td>\n",
       "      <td>19</td>\n",
       "    </tr>\n",
       "    <tr>\n",
       "      <th>1895189</th>\n",
       "      <td>2024-08-31</td>\n",
       "      <td>108</td>\n",
       "      <td>Stegersbach/Jennersdorf</td>\n",
       "      <td>Männer</td>\n",
       "      <td>bis 19 Jahre</td>\n",
       "      <td>B</td>\n",
       "      <td>NaN</td>\n",
       "      <td>1</td>\n",
       "      <td>0</td>\n",
       "      <td>19</td>\n",
       "    </tr>\n",
       "  </tbody>\n",
       "</table>\n",
       "<p>23740 rows × 10 columns</p>\n",
       "</div>"
      ],
      "text/plain": [
       "             Datum  RGSCode                  RGSName Geschlecht  \\\n",
       "13      2019-01-31      101               Eisenstadt     Frauen   \n",
       "110     2019-01-31      101               Eisenstadt     Männer   \n",
       "260     2019-01-31      102              Mattersburg     Männer   \n",
       "394     2019-01-31      103          Neusiedl am See     Männer   \n",
       "1173    2019-01-31      202                 Hermagor     Frauen   \n",
       "...            ...      ...                      ...        ...   \n",
       "1788158 2024-04-30      501            Bischofshofen     Frauen   \n",
       "1807003 2024-05-31      106              Stegersbach     Männer   \n",
       "1837679 2024-06-30      108  Stegersbach/Jennersdorf     Männer   \n",
       "1867228 2024-07-31      108  Stegersbach/Jennersdorf     Männer   \n",
       "1895189 2024-08-31      108  Stegersbach/Jennersdorf     Männer   \n",
       "\n",
       "            Altersgruppe Berufs4Steller     Berufs4StellerBez  BESTAND  \\\n",
       "13          bis 19 Jahre          B9999  unbestimmt (nur Pst)        1   \n",
       "110         bis 19 Jahre          B9999  unbestimmt (nur Pst)        1   \n",
       "260         bis 19 Jahre          B9999  unbestimmt (nur Pst)        2   \n",
       "394      30 bis 34 Jahre          B9999  unbestimmt (nur Pst)        1   \n",
       "1173     40 bis 44 Jahre          B9999  unbestimmt (nur Pst)        1   \n",
       "...                  ...            ...                   ...      ...   \n",
       "1788158  35 bis 39 Jahre              B                   NaN        1   \n",
       "1807003     bis 19 Jahre              B                   NaN        1   \n",
       "1837679     bis 19 Jahre              B                   NaN        1   \n",
       "1867228     bis 19 Jahre              B                   NaN        1   \n",
       "1895189     bis 19 Jahre              B                   NaN        1   \n",
       "\n",
       "         Alter_von  Alter_bis  \n",
       "13               0         19  \n",
       "110              0         19  \n",
       "260              0         19  \n",
       "394             30         34  \n",
       "1173            40         44  \n",
       "...            ...        ...  \n",
       "1788158         35         39  \n",
       "1807003          0         19  \n",
       "1837679          0         19  \n",
       "1867228          0         19  \n",
       "1895189          0         19  \n",
       "\n",
       "[23740 rows x 10 columns]"
      ]
     },
     "execution_count": 40,
     "metadata": {},
     "output_type": "execute_result"
    }
   ],
   "source": [
    "# erstellen eines neuen Datasets, welche \"unbestimmte\"-Values enthält - für spätere Untersuchung\n",
    "df_unbest = df[df['Berufs4Steller']=='B9999'] # unbestimmt (nur Pst) ~Personenstammdaten? \n",
    "df_missing = pd.concat([df_unbest, df_nan])\n",
    "print(df_unbest.shape)\n",
    "print(f\"Missing values percentage: {round((len(df_unbest) / len(df)) * 100, 2)}\")\n",
    "df_missing"
   ]
  },
  {
   "cell_type": "code",
   "execution_count": 41,
   "id": "a350bf747a41fe30",
   "metadata": {
    "ExecuteTime": {
     "end_time": "2024-10-05T16:47:36.122772Z",
     "start_time": "2024-10-05T16:47:35.443710Z"
    }
   },
   "outputs": [
    {
     "name": "stdout",
     "output_type": "stream",
     "text": [
      "(1921372, 10)\n",
      "(1898153, 10)\n"
     ]
    }
   ],
   "source": [
    "# \"unbestimmte\" Daten aus dem Haupt-Dataset entfernen\n",
    "print(df.shape)\n",
    "df.drop(df[df['Berufs4Steller']=='B9999'].index, inplace=True)\n",
    "print(df.shape)"
   ]
  },
  {
   "cell_type": "code",
   "execution_count": 42,
   "id": "b2224cbb9a45fad7",
   "metadata": {
    "ExecuteTime": {
     "end_time": "2024-10-05T16:47:40.302360Z",
     "start_time": "2024-10-05T16:47:36.126928Z"
    }
   },
   "outputs": [
    {
     "name": "stdout",
     "output_type": "stream",
     "text": [
      "Empty DataFrame\n",
      "Columns: [Datum, RGSCode, RGSName, Geschlecht, Altersgruppe, Berufs4Steller, Berufs4StellerBez, BESTAND, Alter_von, Alter_bis]\n",
      "Index: []\n",
      "Empty DataFrame\n",
      "Columns: [Datum, RGSCode, RGSName, Geschlecht, Altersgruppe, Berufs4Steller, Berufs4StellerBez, BESTAND, Alter_von, Alter_bis]\n",
      "Index: []\n"
     ]
    }
   ],
   "source": [
    "# duplikate anzeigen; mit allen und einem Subset von Columns\n",
    "print(df[df.duplicated(keep=False)]) # completely duplicated rows\n",
    "subset = df.columns\n",
    "subset = subset.drop('BESTAND')\n",
    "print(df[df.duplicated(subset=subset, keep=False)])"
   ]
  },
  {
   "cell_type": "code",
   "execution_count": 43,
   "id": "fe0b7875ac4d6044",
   "metadata": {
    "ExecuteTime": {
     "end_time": "2024-10-05T16:48:00.920274Z",
     "start_time": "2024-10-05T16:47:40.304346Z"
    }
   },
   "outputs": [],
   "source": [
    "# bereinigte Daten in ein csv File speichern (zu viele Daten für Excel)\n",
    "df.to_csv('clean_data.csv')"
   ]
  },
  {
   "cell_type": "code",
   "execution_count": 44,
   "id": "490314007c7541ca",
   "metadata": {
    "ExecuteTime": {
     "end_time": "2024-10-05T16:48:00.940403Z",
     "start_time": "2024-10-05T16:48:00.922305Z"
    }
   },
   "outputs": [
    {
     "name": "stdout",
     "output_type": "stream",
     "text": [
      "<class 'pandas.core.frame.DataFrame'>\n",
      "Index: 1898153 entries, 0 to 1921892\n",
      "Data columns (total 10 columns):\n",
      " #   Column             Dtype         \n",
      "---  ------             -----         \n",
      " 0   Datum              datetime64[ns]\n",
      " 1   RGSCode            int64         \n",
      " 2   RGSName            object        \n",
      " 3   Geschlecht         category      \n",
      " 4   Altersgruppe       object        \n",
      " 5   Berufs4Steller     object        \n",
      " 6   Berufs4StellerBez  object        \n",
      " 7   BESTAND            int64         \n",
      " 8   Alter_von          int64         \n",
      " 9   Alter_bis          int64         \n",
      "dtypes: category(1), datetime64[ns](1), int64(4), object(4)\n",
      "memory usage: 146.6+ MB\n"
     ]
    }
   ],
   "source": [
    "# alle Datentypen anzeigen\n",
    "df.info()"
   ]
  },
  {
   "cell_type": "code",
   "execution_count": 45,
   "id": "68035fbcff770ace",
   "metadata": {
    "ExecuteTime": {
     "end_time": "2024-10-05T16:48:01.016412Z",
     "start_time": "2024-10-05T16:48:00.942431Z"
    }
   },
   "outputs": [
    {
     "data": {
      "text/plain": [
       "(Timestamp('2019-01-31 00:00:00'),\n",
       " Timestamp('2021-12-31 00:00:00'),\n",
       " Timestamp('2024-08-31 00:00:00'))"
      ]
     },
     "execution_count": 45,
     "metadata": {},
     "output_type": "execute_result"
    }
   ],
   "source": [
    "# kleinstes, größtes und median Datum anzeigen\n",
    "df['Datum'].min(), df['Datum'].median(), df['Datum'].max(),"
   ]
  },
  {
   "cell_type": "code",
   "execution_count": 46,
   "id": "9c72f9a44789a955",
   "metadata": {
    "ExecuteTime": {
     "end_time": "2024-10-05T16:48:01.096628Z",
     "start_time": "2024-10-05T16:48:01.020521Z"
    }
   },
   "outputs": [
    {
     "name": "stdout",
     "output_type": "stream",
     "text": [
      "105\n"
     ]
    },
    {
     "data": {
      "text/plain": [
       "RGSCode\n",
       "964    55830\n",
       "630    52716\n",
       "967    52090\n",
       "965    49220\n",
       "409    48793\n",
       "       ...  \n",
       "505     2486\n",
       "202     1834\n",
       "961     1582\n",
       "613      585\n",
       "108      544\n",
       "Name: count, Length: 105, dtype: int64"
      ]
     },
     "execution_count": 46,
     "metadata": {},
     "output_type": "execute_result"
    }
   ],
   "source": [
    "# Anzahl der einzigartigen RGSCodes anzeigen und ihre Häufigkeit\n",
    "print(df['RGSCode'].nunique())\n",
    "df['RGSCode'].value_counts()"
   ]
  },
  {
   "cell_type": "code",
   "execution_count": 47,
   "id": "5422a4b7d9d56e0c",
   "metadata": {
    "ExecuteTime": {
     "end_time": "2024-10-05T16:48:01.630242Z",
     "start_time": "2024-10-05T16:48:01.100750Z"
    }
   },
   "outputs": [
    {
     "name": "stdout",
     "output_type": "stream",
     "text": [
      "105\n"
     ]
    },
    {
     "data": {
      "text/plain": [
       "RGSName\n",
       "Wien Favoritenstraße        55830\n",
       "Graz-West und Umgebung      52716\n",
       "Wien Huttengasse            52090\n",
       "Wien Schönbrunner Straße    49220\n",
       "Linz neu                    48793\n",
       "                            ...  \n",
       "Tamsweg                      2486\n",
       "Hermagor                     1834\n",
       "Wien Dresdner Straße         1582\n",
       "Knittelfeld                   585\n",
       "Stegersbach/Jennersdorf       544\n",
       "Name: count, Length: 105, dtype: int64"
      ]
     },
     "execution_count": 47,
     "metadata": {},
     "output_type": "execute_result"
    }
   ],
   "source": [
    "# Anzahl der einzigartigen RGSNamen anzeigen und ihre Häufigkeit\n",
    "print(df['RGSName'].nunique())\n",
    "df['RGSName'].value_counts()"
   ]
  },
  {
   "cell_type": "code",
   "execution_count": 48,
   "id": "c5bffa920e865dba",
   "metadata": {
    "ExecuteTime": {
     "end_time": "2024-10-05T16:48:01.692636Z",
     "start_time": "2024-10-05T16:48:01.632636Z"
    }
   },
   "outputs": [
    {
     "name": "stdout",
     "output_type": "stream",
     "text": [
      "2\n"
     ]
    },
    {
     "data": {
      "text/plain": [
       "Geschlecht\n",
       "Männer    955470\n",
       "Frauen    942683\n",
       "Name: count, dtype: int64"
      ]
     },
     "execution_count": 48,
     "metadata": {},
     "output_type": "execute_result"
    }
   ],
   "source": [
    "# Anzahl der einzigartigen Geschlechter anzeigen und ihre Häufigkeit\n",
    "print(df['Geschlecht'].nunique())\n",
    "df['Geschlecht'].value_counts()"
   ]
  },
  {
   "cell_type": "code",
   "execution_count": 49,
   "id": "80536d585181685",
   "metadata": {
    "ExecuteTime": {
     "end_time": "2024-10-05T16:48:02.225471Z",
     "start_time": "2024-10-05T16:48:01.696135Z"
    }
   },
   "outputs": [
    {
     "name": "stdout",
     "output_type": "stream",
     "text": [
      "11\n"
     ]
    },
    {
     "data": {
      "text/plain": [
       "Altersgruppe\n",
       "20 bis 24 Jahre       272416\n",
       "25 bis 29 Jahre       251507\n",
       "30 bis 34 Jahre       244531\n",
       "35 bis 39 Jahre       237233\n",
       "40 bis 44 Jahre       210020\n",
       "bis 19 Jahre          205797\n",
       "45 bis 49 Jahre       183434\n",
       "50 bis 54 Jahre       156802\n",
       "55 bis 59 Jahre       110821\n",
       "60 bis 64 Jahre        25048\n",
       "65 Jahre und älter       544\n",
       "Name: count, dtype: int64"
      ]
     },
     "execution_count": 49,
     "metadata": {},
     "output_type": "execute_result"
    }
   ],
   "source": [
    "# Anzahl der einzigartigen Altersgruppen anzeigen und ihre Häufigkeit\n",
    "print(df['Altersgruppe'].nunique())\n",
    "df['Altersgruppe'].value_counts()"
   ]
  },
  {
   "cell_type": "code",
   "execution_count": 50,
   "id": "f414563518ea8",
   "metadata": {
    "ExecuteTime": {
     "end_time": "2024-10-05T16:48:02.302313Z",
     "start_time": "2024-10-05T16:48:02.228888Z"
    }
   },
   "outputs": [
    {
     "data": {
      "text/plain": [
       "(0, 30.0, 65)"
      ]
     },
     "execution_count": 50,
     "metadata": {},
     "output_type": "execute_result"
    }
   ],
   "source": [
    "# kleinste, größte und median untere Altersgrenze \n",
    "df['Alter_von'].min(), df['Alter_von'].median(), df['Alter_von'].max()"
   ]
  },
  {
   "cell_type": "code",
   "execution_count": 51,
   "id": "6a7f83f46713c216",
   "metadata": {
    "ExecuteTime": {
     "end_time": "2024-10-05T16:48:02.369355Z",
     "start_time": "2024-10-05T16:48:02.305457Z"
    }
   },
   "outputs": [
    {
     "data": {
      "text/plain": [
       "(19, 34.0, 99)"
      ]
     },
     "execution_count": 51,
     "metadata": {},
     "output_type": "execute_result"
    }
   ],
   "source": [
    "# kleinste, größte und median obere Altersgrenze \n",
    "df['Alter_bis'].min(), df['Alter_bis'].median(), df['Alter_bis'].max()"
   ]
  },
  {
   "cell_type": "code",
   "execution_count": 52,
   "id": "7157f242587c8f5d",
   "metadata": {
    "ExecuteTime": {
     "end_time": "2024-10-05T16:48:02.810917Z",
     "start_time": "2024-10-05T16:48:02.371901Z"
    }
   },
   "outputs": [
    {
     "name": "stdout",
     "output_type": "stream",
     "text": [
      "458\n"
     ]
    },
    {
     "data": {
      "text/plain": [
       "Berufs4Steller\n",
       "B4018    76632\n",
       "B3999    75646\n",
       "B3901    64671\n",
       "B7801    61537\n",
       "B7841    61153\n",
       "         ...  \n",
       "B6328        1\n",
       "B2741        1\n",
       "B1939        1\n",
       "B2701        1\n",
       "B2807        1\n",
       "Name: count, Length: 458, dtype: int64"
      ]
     },
     "execution_count": 52,
     "metadata": {},
     "output_type": "execute_result"
    }
   ],
   "source": [
    "# Anzahl der einzigartigen Berufs4Steller anzeigen und ihre Häufigkeit\n",
    "print(df['Berufs4Steller'].nunique())\n",
    "df['Berufs4Steller'].value_counts()"
   ]
  },
  {
   "cell_type": "code",
   "execution_count": 53,
   "id": "34b6373163949b3d",
   "metadata": {
    "ExecuteTime": {
     "end_time": "2024-10-05T16:48:03.788680Z",
     "start_time": "2024-10-05T16:48:02.814963Z"
    }
   },
   "outputs": [
    {
     "name": "stdout",
     "output_type": "stream",
     "text": [
      "458\n"
     ]
    },
    {
     "data": {
      "text/plain": [
       "Berufs4StellerBez\n",
       "Sonstige Händler/innen u. Verkäufer/innen                       76632\n",
       "Hilfsarbeiter/innen (Helfer), soweit nicht anderw. eing.        75646\n",
       "Warensortierer, -nachseher, -adjustierer, -verpacker (m./w.)    64671\n",
       "Industrie-, Gewerbekaufleute (m./w.), Kontorist(en)innen        61537\n",
       "Büroberufe, Verwaltungshilfsberufe                              61153\n",
       "                                                                ...  \n",
       "Sonstige Techniker/innen für Gärungstechnik                         1\n",
       "Rauhwarenzurichter/innen, -färber/innen                             1\n",
       "Kessel-, Kupferschmiedhelfer/innen                                  1\n",
       "Gerber/innen, Gerbarbeiter/innen                                    1\n",
       "Spuler/innen, Winder/innen, Zwirner/innen                           1\n",
       "Name: count, Length: 458, dtype: int64"
      ]
     },
     "execution_count": 53,
     "metadata": {},
     "output_type": "execute_result"
    }
   ],
   "source": [
    "# Anzahl der einzigartigen Berufs4StellerBezeichnungen anzeigen und ihre Häufigkeit\n",
    "print(df['Berufs4StellerBez'].nunique())\n",
    "df['Berufs4StellerBez'].value_counts()"
   ]
  },
  {
   "cell_type": "code",
   "execution_count": 54,
   "id": "6f6e51f0fe094a18",
   "metadata": {
    "ExecuteTime": {
     "end_time": "2024-10-05T16:48:03.941441Z",
     "start_time": "2024-10-05T16:48:03.792299Z"
    }
   },
   "outputs": [
    {
     "name": "stdout",
     "output_type": "stream",
     "text": [
      "456\n",
      "1 1.0 759\n"
     ]
    },
    {
     "data": {
      "text/plain": [
       "BESTAND\n",
       "1      1256870\n",
       "2       287170\n",
       "3       123057\n",
       "4        67349\n",
       "5        40993\n",
       "        ...   \n",
       "455          1\n",
       "536          1\n",
       "408          1\n",
       "382          1\n",
       "406          1\n",
       "Name: count, Length: 456, dtype: int64"
      ]
     },
     "execution_count": 54,
     "metadata": {},
     "output_type": "execute_result"
    }
   ],
   "source": [
    "# Anzahl der einzigartigen Bestände anzeigen + kleinste, größte und median von Bestand\n",
    "print(df['BESTAND'].nunique())\n",
    "print(df['BESTAND'].min(), df['BESTAND'].median(), df['BESTAND'].max())\n",
    "df['BESTAND'].value_counts()\n"
   ]
  },
  {
   "cell_type": "raw",
   "id": "dc0846ebc64ce9fb",
   "metadata": {},
   "source": [
    "## E2 - Exploratory data analysis (EDA)\n",
    "Use the clean dataset and understand and explore the relationships in the data (numerical, visual, statistical). This includes at least but is not limited to:\n",
    "- A comprehensive textual description of meaning for relevant fields in the dataset\n",
    "- Statistical/numerical descriptions and visualization techniques we learned in the course inluding correlations, distributions and groupings of variing degrees.\n",
    "- Checks for data quality, e. g., completeness, plausibility, outliers\n",
    "- Handling any identified problems with the data\n",
    "- If necessary, use additional data wrangling in line with your EDA and only keep what's necessary for the following steps of your analysis with appropriate data granularity and form (\"tidy data\")\n",
    "\n",
    "Don't:\n",
    "- test/prove hypotheses here. EDA should only motivate hypotheses. \n",
    "\n",
    "Advanced/bonus:\n",
    "- Depending on your hypothesis you may want to join external data (e.g., merge external highest education level to existing vaccination data) for additional insights.\n",
    "\n",
    "Explain all steps taken and your thinking why you deem them necessary."
   ]
  },
  {
   "cell_type": "raw",
   "id": "9d03c97e5000f115",
   "metadata": {},
   "source": [
    "Datum: ['2019-01-31', '2020-05-21', ...]: \n",
    "=> Datum, an dem die Daten der Row erfasst worden sind (Stichtag), im monatlichen Rythmus\n",
    "\n",
    "RGSCode: ['101', '102', '103', '104', '105', '106', '107', '201', ...]\n",
    "=> Code des Arbeitsmarktbezirks\n",
    "\n",
    "RGSName: ['Eisenstadt', 'Mattersburg', 'Neusiedl am See', ...]\n",
    "=> Name des Arbeitsmarktbezirks\n",
    "\n",
    "Geschlecht: ['Frauen', 'Männer']\n",
    "=> Geschlecht\n",
    "\n",
    "Altersgruppe: ['bis 19 Jahre', '20 bis 24 Jahre', ...]\n",
    "=> Altersgruppen \n",
    "\n",
    "Berufs4steller - Code: ['0254', '1761', ...]\n",
    "=> Berufs-4-Steller gemäß AMS-Berufssystematik - Code\n",
    "\n",
    "Berufs4StellerBez: ['Tierzuchtgehilf(en)innen, Tierpfleger/innen', 'Maler/innen, Anstreicher/innen', ...]\n",
    "=> Berufs-4-Steller gemäß AMS-Berufssystematik - Bezeichnung\n",
    "\n",
    "Bestand: [1, 2, 3, ...]\n",
    "=> Bestand zum Stichtag/Monatsendbestand, Anzahl der Schulungsteilnehmer:innen \n",
    "\n",
    "Alter_von: [0, 20, 25, ...]\n",
    "=> untere Grenze der Altersgruppe\n",
    "\n",
    "Alter_bis: [19, 24, 29, ...]\n",
    "=> obere Grenze der Altergruppe\n",
    "\n",
    "Berufsobergruppe: ['Ackerbau-, Tierzucht-, Gartenbauberufe', 'Bauberufe', ...]\n",
    "=> zugehörige Obergruppe (2-St.) laut '24-598_AMS-Berufssystematik_Stand_05-2024.xlsx', externe Datenquelle\n",
    "\n",
    "Bundesland: ['Burgenland', 'Wien', ...]\n",
    "=> zugehörige Bundesländer zu Arbeitsmarktbezirks laut https://www.ams.at/content/dam/download/allgemeine-informationen/001_amd-online_verzeichnis_arbeitsmarktbezirke.pdf"
   ]
  },
  {
   "cell_type": "code",
   "execution_count": 55,
   "id": "370ab718-fa85-4fd8-adee-7643970042ad",
   "metadata": {
    "ExecuteTime": {
     "end_time": "2024-10-05T16:48:03.951721Z",
     "start_time": "2024-10-05T16:48:03.944117Z"
    }
   },
   "outputs": [],
   "source": [
    "# E2:\n"
   ]
  },
  {
   "cell_type": "code",
   "execution_count": 56,
   "id": "3ff881c5c3da95bc",
   "metadata": {
    "ExecuteTime": {
     "end_time": "2024-10-05T22:08:51.462200Z",
     "start_time": "2024-10-05T22:08:51.172773Z"
    }
   },
   "outputs": [
    {
     "data": {
      "image/png": "[encoded data removed]",
      "text/plain": [
       "<Figure size 640x480 with 1 Axes>"
      ]
     },
     "metadata": {},
     "output_type": "display_data"
    }
   ],
   "source": [
    "# geopandas_dataframe für Bundesländergrenzen laden\n",
    "gdf = gpd.read_file(\"laender_95_geo.json\")\n",
    "\n",
    "gdf.plot()\n",
    "plt.show()"
   ]
  },
  {
   "cell_type": "code",
   "execution_count": 57,
   "id": "d235d40015460def",
   "metadata": {
    "ExecuteTime": {
     "end_time": "2024-10-05T21:43:49.353429Z",
     "start_time": "2024-10-05T21:43:49.340981Z"
    }
   },
   "outputs": [
    {
     "data": {
      "text/html": [
       "<div>\n",
       "<style scoped>\n",
       "    .dataframe tbody tr th:only-of-type {\n",
       "        vertical-align: middle;\n",
       "    }\n",
       "\n",
       "    .dataframe tbody tr th {\n",
       "        vertical-align: top;\n",
       "    }\n",
       "\n",
       "    .dataframe thead th {\n",
       "        text-align: right;\n",
       "    }\n",
       "</style>\n",
       "<table border=\"1\" class=\"dataframe\">\n",
       "  <thead>\n",
       "    <tr style=\"text-align: right;\">\n",
       "      <th></th>\n",
       "      <th>name</th>\n",
       "      <th>iso</th>\n",
       "      <th>geometry</th>\n",
       "    </tr>\n",
       "  </thead>\n",
       "  <tbody>\n",
       "    <tr>\n",
       "      <th>0</th>\n",
       "      <td>Vorarlberg</td>\n",
       "      <td>8</td>\n",
       "      <td>MULTIPOLYGON (((10.13171 47.03008, 10.12881 47...</td>\n",
       "    </tr>\n",
       "    <tr>\n",
       "      <th>1</th>\n",
       "      <td>Tirol</td>\n",
       "      <td>7</td>\n",
       "      <td>MULTIPOLYGON (((12.70891 46.73637, 12.71154 46...</td>\n",
       "    </tr>\n",
       "    <tr>\n",
       "      <th>2</th>\n",
       "      <td>Wien</td>\n",
       "      <td>9</td>\n",
       "      <td>MULTIPOLYGON (((16.36286 48.12937, 16.35537 48...</td>\n",
       "    </tr>\n",
       "    <tr>\n",
       "      <th>3</th>\n",
       "      <td>Oberösterreich</td>\n",
       "      <td>4</td>\n",
       "      <td>MULTIPOLYGON (((13.69179 47.57998, 13.69962 47...</td>\n",
       "    </tr>\n",
       "    <tr>\n",
       "      <th>4</th>\n",
       "      <td>Niederösterreich</td>\n",
       "      <td>3</td>\n",
       "      <td>MULTIPOLYGON (((16.25038 47.44879, 16.24936 47...</td>\n",
       "    </tr>\n",
       "  </tbody>\n",
       "</table>\n",
       "</div>"
      ],
      "text/plain": [
       "               name iso                                           geometry\n",
       "0        Vorarlberg   8  MULTIPOLYGON (((10.13171 47.03008, 10.12881 47...\n",
       "1             Tirol   7  MULTIPOLYGON (((12.70891 46.73637, 12.71154 46...\n",
       "2              Wien   9  MULTIPOLYGON (((16.36286 48.12937, 16.35537 48...\n",
       "3    Oberösterreich   4  MULTIPOLYGON (((13.69179 47.57998, 13.69962 47...\n",
       "4  Niederösterreich   3  MULTIPOLYGON (((16.25038 47.44879, 16.24936 47..."
      ]
     },
     "execution_count": 57,
     "metadata": {},
     "output_type": "execute_result"
    }
   ],
   "source": [
    "gdf.head()"
   ]
  },
  {
   "cell_type": "code",
   "execution_count": 58,
   "id": "bc62f132-be6d-46cc-9697-25546ac356cb",
   "metadata": {
    "ExecuteTime": {
     "end_time": "2024-10-05T16:48:06.594874Z",
     "start_time": "2024-10-05T16:48:05.031648Z"
    }
   },
   "outputs": [
    {
     "data": {
      "text/html": [
       "<div>\n",
       "<style scoped>\n",
       "    .dataframe tbody tr th:only-of-type {\n",
       "        vertical-align: middle;\n",
       "    }\n",
       "\n",
       "    .dataframe tbody tr th {\n",
       "        vertical-align: top;\n",
       "    }\n",
       "\n",
       "    .dataframe thead th {\n",
       "        text-align: right;\n",
       "    }\n",
       "</style>\n",
       "<table border=\"1\" class=\"dataframe\">\n",
       "  <thead>\n",
       "    <tr style=\"text-align: right;\">\n",
       "      <th></th>\n",
       "      <th>6-Steller</th>\n",
       "      <th>Berufsbezeichnung</th>\n",
       "      <th>4-St.</th>\n",
       "      <th>Berufsart</th>\n",
       "      <th>3-St.</th>\n",
       "      <th>Berufsgruppe</th>\n",
       "      <th>2-St.</th>\n",
       "      <th>Berufsobergruppe</th>\n",
       "      <th>1-St.</th>\n",
       "      <th>Berufsabteilung</th>\n",
       "    </tr>\n",
       "  </thead>\n",
       "  <tbody>\n",
       "    <tr>\n",
       "      <th>0</th>\n",
       "      <td>010101</td>\n",
       "      <td>Agrarberater/in (DI)</td>\n",
       "      <td>0101</td>\n",
       "      <td>DI (m./w.) für Landwirtschaft, Wein- und Garte...</td>\n",
       "      <td>010</td>\n",
       "      <td>Techniker/innen f. Landw., landw. Förderungsbe...</td>\n",
       "      <td>01</td>\n",
       "      <td>Techniker/innen für Landwirtschaft, landwirtsc...</td>\n",
       "      <td>0</td>\n",
       "      <td>Land- und forstwirtschaftliche Berufe</td>\n",
       "    </tr>\n",
       "    <tr>\n",
       "      <th>1</th>\n",
       "      <td>010102</td>\n",
       "      <td>Landwirtschaftstechniker/in (DI)</td>\n",
       "      <td>0101</td>\n",
       "      <td>DI (m./w.) für Landwirtschaft, Wein- und Garte...</td>\n",
       "      <td>010</td>\n",
       "      <td>Techniker/innen f. Landw., landw. Förderungsbe...</td>\n",
       "      <td>01</td>\n",
       "      <td>Techniker/innen für Landwirtschaft, landwirtsc...</td>\n",
       "      <td>0</td>\n",
       "      <td>Land- und forstwirtschaftliche Berufe</td>\n",
       "    </tr>\n",
       "    <tr>\n",
       "      <th>2</th>\n",
       "      <td>010103</td>\n",
       "      <td>Gartenbautechniker/in (DI)</td>\n",
       "      <td>0101</td>\n",
       "      <td>DI (m./w.) für Landwirtschaft, Wein- und Garte...</td>\n",
       "      <td>010</td>\n",
       "      <td>Techniker/innen f. Landw., landw. Förderungsbe...</td>\n",
       "      <td>01</td>\n",
       "      <td>Techniker/innen für Landwirtschaft, landwirtsc...</td>\n",
       "      <td>0</td>\n",
       "      <td>Land- und forstwirtschaftliche Berufe</td>\n",
       "    </tr>\n",
       "    <tr>\n",
       "      <th>3</th>\n",
       "      <td>010104</td>\n",
       "      <td>Landschaftsplanungs- und Landschaftspflegetech...</td>\n",
       "      <td>0101</td>\n",
       "      <td>DI (m./w.) für Landwirtschaft, Wein- und Garte...</td>\n",
       "      <td>010</td>\n",
       "      <td>Techniker/innen f. Landw., landw. Förderungsbe...</td>\n",
       "      <td>01</td>\n",
       "      <td>Techniker/innen für Landwirtschaft, landwirtsc...</td>\n",
       "      <td>0</td>\n",
       "      <td>Land- und forstwirtschaftliche Berufe</td>\n",
       "    </tr>\n",
       "    <tr>\n",
       "      <th>4</th>\n",
       "      <td>010105</td>\n",
       "      <td>Getreidebautechniker/in (DI)</td>\n",
       "      <td>0101</td>\n",
       "      <td>DI (m./w.) für Landwirtschaft, Wein- und Garte...</td>\n",
       "      <td>010</td>\n",
       "      <td>Techniker/innen f. Landw., landw. Förderungsbe...</td>\n",
       "      <td>01</td>\n",
       "      <td>Techniker/innen für Landwirtschaft, landwirtsc...</td>\n",
       "      <td>0</td>\n",
       "      <td>Land- und forstwirtschaftliche Berufe</td>\n",
       "    </tr>\n",
       "    <tr>\n",
       "      <th>...</th>\n",
       "      <td>...</td>\n",
       "      <td>...</td>\n",
       "      <td>...</td>\n",
       "      <td>...</td>\n",
       "      <td>...</td>\n",
       "      <td>...</td>\n",
       "      <td>...</td>\n",
       "      <td>...</td>\n",
       "      <td>...</td>\n",
       "      <td>...</td>\n",
       "    </tr>\n",
       "    <tr>\n",
       "      <th>4324</th>\n",
       "      <td>571114</td>\n",
       "      <td>Fußpfleger/in (Podolog(e)in)</td>\n",
       "      <td>5711</td>\n",
       "      <td>Kosmetiker/innen, Hand-, Fußpfleger/innen</td>\n",
       "      <td>571</td>\n",
       "      <td>Kosmetiker/innen, Hand-, Fußpfleger/innen</td>\n",
       "      <td>57</td>\n",
       "      <td>Friseur(e)innen, Schönheitspfleger/innen und v...</td>\n",
       "      <td>5</td>\n",
       "      <td>Dienstleistungsberufe</td>\n",
       "    </tr>\n",
       "    <tr>\n",
       "      <th>4325</th>\n",
       "      <td>571115</td>\n",
       "      <td>Kosmetiker/in (Kosmetolog(e)in)</td>\n",
       "      <td>5711</td>\n",
       "      <td>Kosmetiker/innen, Hand-, Fußpfleger/innen</td>\n",
       "      <td>571</td>\n",
       "      <td>Kosmetiker/innen, Hand-, Fußpfleger/innen</td>\n",
       "      <td>57</td>\n",
       "      <td>Friseur(e)innen, Schönheitspfleger/innen und v...</td>\n",
       "      <td>5</td>\n",
       "      <td>Dienstleistungsberufe</td>\n",
       "    </tr>\n",
       "    <tr>\n",
       "      <th>4326</th>\n",
       "      <td>571183</td>\n",
       "      <td>Kosmetiker/in (Kosmetolog(e)in)/Fußpfleger/in ...</td>\n",
       "      <td>5711</td>\n",
       "      <td>Kosmetiker/innen, Hand-, Fußpfleger/innen</td>\n",
       "      <td>571</td>\n",
       "      <td>Kosmetiker/innen, Hand-, Fußpfleger/innen</td>\n",
       "      <td>57</td>\n",
       "      <td>Friseur(e)innen, Schönheitspfleger/innen und v...</td>\n",
       "      <td>5</td>\n",
       "      <td>Dienstleistungsberufe</td>\n",
       "    </tr>\n",
       "    <tr>\n",
       "      <th>4327</th>\n",
       "      <td>571116</td>\n",
       "      <td>Kosmetiker/in (Kosmetolog(e)in)/Fußpfleger/in ...</td>\n",
       "      <td>5711</td>\n",
       "      <td>Kosmetiker/innen, Hand-, Fußpfleger/innen</td>\n",
       "      <td>571</td>\n",
       "      <td>Kosmetiker/innen, Hand-, Fußpfleger/innen</td>\n",
       "      <td>57</td>\n",
       "      <td>Friseur(e)innen, Schönheitspfleger/innen und v...</td>\n",
       "      <td>5</td>\n",
       "      <td>Dienstleistungsberufe</td>\n",
       "    </tr>\n",
       "    <tr>\n",
       "      <th>4328</th>\n",
       "      <td>598811</td>\n",
       "      <td>Hilfskraft im Sport- und Outdoorbereich (m./w.)</td>\n",
       "      <td>5988</td>\n",
       "      <td>Sonstige Dienstleistungsberufe</td>\n",
       "      <td>598</td>\n",
       "      <td>Übrige Dienstleistungsberufe</td>\n",
       "      <td>59</td>\n",
       "      <td>Übrige Dienstleistungsberufe</td>\n",
       "      <td>5</td>\n",
       "      <td>Dienstleistungsberufe</td>\n",
       "    </tr>\n",
       "  </tbody>\n",
       "</table>\n",
       "<p>4329 rows × 10 columns</p>\n",
       "</div>"
      ],
      "text/plain": [
       "     6-Steller                                  Berufsbezeichnung 4-St.  \\\n",
       "0       010101                               Agrarberater/in (DI)  0101   \n",
       "1       010102                   Landwirtschaftstechniker/in (DI)  0101   \n",
       "2       010103                         Gartenbautechniker/in (DI)  0101   \n",
       "3       010104  Landschaftsplanungs- und Landschaftspflegetech...  0101   \n",
       "4       010105                       Getreidebautechniker/in (DI)  0101   \n",
       "...        ...                                                ...   ...   \n",
       "4324    571114                       Fußpfleger/in (Podolog(e)in)  5711   \n",
       "4325    571115                    Kosmetiker/in (Kosmetolog(e)in)  5711   \n",
       "4326    571183  Kosmetiker/in (Kosmetolog(e)in)/Fußpfleger/in ...  5711   \n",
       "4327    571116  Kosmetiker/in (Kosmetolog(e)in)/Fußpfleger/in ...  5711   \n",
       "4328    598811    Hilfskraft im Sport- und Outdoorbereich (m./w.)  5988   \n",
       "\n",
       "                                              Berufsart 3-St.  \\\n",
       "0     DI (m./w.) für Landwirtschaft, Wein- und Garte...   010   \n",
       "1     DI (m./w.) für Landwirtschaft, Wein- und Garte...   010   \n",
       "2     DI (m./w.) für Landwirtschaft, Wein- und Garte...   010   \n",
       "3     DI (m./w.) für Landwirtschaft, Wein- und Garte...   010   \n",
       "4     DI (m./w.) für Landwirtschaft, Wein- und Garte...   010   \n",
       "...                                                 ...   ...   \n",
       "4324          Kosmetiker/innen, Hand-, Fußpfleger/innen   571   \n",
       "4325          Kosmetiker/innen, Hand-, Fußpfleger/innen   571   \n",
       "4326          Kosmetiker/innen, Hand-, Fußpfleger/innen   571   \n",
       "4327          Kosmetiker/innen, Hand-, Fußpfleger/innen   571   \n",
       "4328                     Sonstige Dienstleistungsberufe   598   \n",
       "\n",
       "                                           Berufsgruppe 2-St.  \\\n",
       "0     Techniker/innen f. Landw., landw. Förderungsbe...    01   \n",
       "1     Techniker/innen f. Landw., landw. Förderungsbe...    01   \n",
       "2     Techniker/innen f. Landw., landw. Förderungsbe...    01   \n",
       "3     Techniker/innen f. Landw., landw. Förderungsbe...    01   \n",
       "4     Techniker/innen f. Landw., landw. Förderungsbe...    01   \n",
       "...                                                 ...   ...   \n",
       "4324          Kosmetiker/innen, Hand-, Fußpfleger/innen    57   \n",
       "4325          Kosmetiker/innen, Hand-, Fußpfleger/innen    57   \n",
       "4326          Kosmetiker/innen, Hand-, Fußpfleger/innen    57   \n",
       "4327          Kosmetiker/innen, Hand-, Fußpfleger/innen    57   \n",
       "4328                       Übrige Dienstleistungsberufe    59   \n",
       "\n",
       "                                       Berufsobergruppe 1-St.  \\\n",
       "0     Techniker/innen für Landwirtschaft, landwirtsc...     0   \n",
       "1     Techniker/innen für Landwirtschaft, landwirtsc...     0   \n",
       "2     Techniker/innen für Landwirtschaft, landwirtsc...     0   \n",
       "3     Techniker/innen für Landwirtschaft, landwirtsc...     0   \n",
       "4     Techniker/innen für Landwirtschaft, landwirtsc...     0   \n",
       "...                                                 ...   ...   \n",
       "4324  Friseur(e)innen, Schönheitspfleger/innen und v...     5   \n",
       "4325  Friseur(e)innen, Schönheitspfleger/innen und v...     5   \n",
       "4326  Friseur(e)innen, Schönheitspfleger/innen und v...     5   \n",
       "4327  Friseur(e)innen, Schönheitspfleger/innen und v...     5   \n",
       "4328                       Übrige Dienstleistungsberufe     5   \n",
       "\n",
       "                            Berufsabteilung  \n",
       "0     Land- und forstwirtschaftliche Berufe  \n",
       "1     Land- und forstwirtschaftliche Berufe  \n",
       "2     Land- und forstwirtschaftliche Berufe  \n",
       "3     Land- und forstwirtschaftliche Berufe  \n",
       "4     Land- und forstwirtschaftliche Berufe  \n",
       "...                                     ...  \n",
       "4324                  Dienstleistungsberufe  \n",
       "4325                  Dienstleistungsberufe  \n",
       "4326                  Dienstleistungsberufe  \n",
       "4327                  Dienstleistungsberufe  \n",
       "4328                  Dienstleistungsberufe  \n",
       "\n",
       "[4329 rows x 10 columns]"
      ]
     },
     "execution_count": 58,
     "metadata": {},
     "output_type": "execute_result"
    }
   ],
   "source": [
    "# dataframe für Kategorisierung der Berufe laden\n",
    "df_zuordnungen = pd.read_excel('24-598_AMS-Berufssystematik_Stand_05-2024.xlsx', dtype=str)\n",
    "df_zuordnungen"
   ]
  },
  {
   "cell_type": "code",
   "execution_count": 59,
   "id": "7e13b9e87d53a69",
   "metadata": {
    "ExecuteTime": {
     "end_time": "2024-10-05T16:48:06.622292Z",
     "start_time": "2024-10-05T16:48:06.607488Z"
    }
   },
   "outputs": [
    {
     "data": {
      "text/plain": [
       "(9, 76)"
      ]
     },
     "execution_count": 59,
     "metadata": {},
     "output_type": "execute_result"
    }
   ],
   "source": [
    "# Anzahl der unterschiedlichen Kategorien vergleichen\n",
    "df_zuordnungen['1-St.'].nunique(), df_zuordnungen['2-St.'].nunique()\n",
    "#print(df_zuordnungen['Berufsabteilung'].nunique()) # 7 verschiedene da Stufe 1,2,3 gleich sind\n"
   ]
  },
  {
   "cell_type": "code",
   "execution_count": 60,
   "id": "35f73b38fa9d360a",
   "metadata": {
    "ExecuteTime": {
     "end_time": "2024-10-05T16:48:10.021267Z",
     "start_time": "2024-10-05T16:48:06.625355Z"
    }
   },
   "outputs": [
    {
     "data": {
      "text/html": [
       "<div>\n",
       "<style scoped>\n",
       "    .dataframe tbody tr th:only-of-type {\n",
       "        vertical-align: middle;\n",
       "    }\n",
       "\n",
       "    .dataframe tbody tr th {\n",
       "        vertical-align: top;\n",
       "    }\n",
       "\n",
       "    .dataframe thead th {\n",
       "        text-align: right;\n",
       "    }\n",
       "</style>\n",
       "<table border=\"1\" class=\"dataframe\">\n",
       "  <thead>\n",
       "    <tr style=\"text-align: right;\">\n",
       "      <th></th>\n",
       "      <th>Datum</th>\n",
       "      <th>RGSCode</th>\n",
       "      <th>RGSName</th>\n",
       "      <th>Geschlecht</th>\n",
       "      <th>Altersgruppe</th>\n",
       "      <th>Berufs4Steller</th>\n",
       "      <th>Berufs4StellerBez</th>\n",
       "      <th>BESTAND</th>\n",
       "      <th>Alter_von</th>\n",
       "      <th>Alter_bis</th>\n",
       "    </tr>\n",
       "  </thead>\n",
       "  <tbody>\n",
       "    <tr>\n",
       "      <th>0</th>\n",
       "      <td>2019-01-31</td>\n",
       "      <td>101</td>\n",
       "      <td>Eisenstadt</td>\n",
       "      <td>Frauen</td>\n",
       "      <td>bis 19 Jahre</td>\n",
       "      <td>0254</td>\n",
       "      <td>Tierzuchtgehilf(en)innen, Tierpfleger/innen</td>\n",
       "      <td>1</td>\n",
       "      <td>0</td>\n",
       "      <td>19</td>\n",
       "    </tr>\n",
       "    <tr>\n",
       "      <th>1</th>\n",
       "      <td>2019-01-31</td>\n",
       "      <td>101</td>\n",
       "      <td>Eisenstadt</td>\n",
       "      <td>Frauen</td>\n",
       "      <td>bis 19 Jahre</td>\n",
       "      <td>1761</td>\n",
       "      <td>Maler/innen, Anstreicher/innen</td>\n",
       "      <td>1</td>\n",
       "      <td>0</td>\n",
       "      <td>19</td>\n",
       "    </tr>\n",
       "    <tr>\n",
       "      <th>2</th>\n",
       "      <td>2019-01-31</td>\n",
       "      <td>101</td>\n",
       "      <td>Eisenstadt</td>\n",
       "      <td>Frauen</td>\n",
       "      <td>bis 19 Jahre</td>\n",
       "      <td>2105</td>\n",
       "      <td>Karosserie-, Kühlerspengler/innen</td>\n",
       "      <td>1</td>\n",
       "      <td>0</td>\n",
       "      <td>19</td>\n",
       "    </tr>\n",
       "    <tr>\n",
       "      <th>3</th>\n",
       "      <td>2019-01-31</td>\n",
       "      <td>101</td>\n",
       "      <td>Eisenstadt</td>\n",
       "      <td>Frauen</td>\n",
       "      <td>bis 19 Jahre</td>\n",
       "      <td>2405</td>\n",
       "      <td>Elektromechaniker/innen</td>\n",
       "      <td>1</td>\n",
       "      <td>0</td>\n",
       "      <td>19</td>\n",
       "    </tr>\n",
       "    <tr>\n",
       "      <th>4</th>\n",
       "      <td>2019-01-31</td>\n",
       "      <td>101</td>\n",
       "      <td>Eisenstadt</td>\n",
       "      <td>Frauen</td>\n",
       "      <td>bis 19 Jahre</td>\n",
       "      <td>3631</td>\n",
       "      <td>Bäcker/innen</td>\n",
       "      <td>1</td>\n",
       "      <td>0</td>\n",
       "      <td>19</td>\n",
       "    </tr>\n",
       "    <tr>\n",
       "      <th>...</th>\n",
       "      <td>...</td>\n",
       "      <td>...</td>\n",
       "      <td>...</td>\n",
       "      <td>...</td>\n",
       "      <td>...</td>\n",
       "      <td>...</td>\n",
       "      <td>...</td>\n",
       "      <td>...</td>\n",
       "      <td>...</td>\n",
       "      <td>...</td>\n",
       "    </tr>\n",
       "    <tr>\n",
       "      <th>1921888</th>\n",
       "      <td>2024-08-31</td>\n",
       "      <td>977</td>\n",
       "      <td>Wien Jugendliche II</td>\n",
       "      <td>Männer</td>\n",
       "      <td>25 bis 29 Jahre</td>\n",
       "      <td>7712</td>\n",
       "      <td>Laden-, Eintrittskartenkassier(e)innen</td>\n",
       "      <td>2</td>\n",
       "      <td>25</td>\n",
       "      <td>29</td>\n",
       "    </tr>\n",
       "    <tr>\n",
       "      <th>1921889</th>\n",
       "      <td>2024-08-31</td>\n",
       "      <td>977</td>\n",
       "      <td>Wien Jugendliche II</td>\n",
       "      <td>Männer</td>\n",
       "      <td>25 bis 29 Jahre</td>\n",
       "      <td>7801</td>\n",
       "      <td>Industrie-, Gewerbekaufleute (m./w.), Kontoris...</td>\n",
       "      <td>2</td>\n",
       "      <td>25</td>\n",
       "      <td>29</td>\n",
       "    </tr>\n",
       "    <tr>\n",
       "      <th>1921890</th>\n",
       "      <td>2024-08-31</td>\n",
       "      <td>977</td>\n",
       "      <td>Wien Jugendliche II</td>\n",
       "      <td>Männer</td>\n",
       "      <td>25 bis 29 Jahre</td>\n",
       "      <td>8081</td>\n",
       "      <td>Nicht diplomierte Krankenpfleger/innen und ver...</td>\n",
       "      <td>3</td>\n",
       "      <td>25</td>\n",
       "      <td>29</td>\n",
       "    </tr>\n",
       "    <tr>\n",
       "      <th>1921891</th>\n",
       "      <td>2024-08-31</td>\n",
       "      <td>977</td>\n",
       "      <td>Wien Jugendliche II</td>\n",
       "      <td>Männer</td>\n",
       "      <td>25 bis 29 Jahre</td>\n",
       "      <td>8101</td>\n",
       "      <td>Fürsorger/innen, Sozialarbeiter/innen</td>\n",
       "      <td>1</td>\n",
       "      <td>25</td>\n",
       "      <td>29</td>\n",
       "    </tr>\n",
       "    <tr>\n",
       "      <th>1921892</th>\n",
       "      <td>2024-08-31</td>\n",
       "      <td>977</td>\n",
       "      <td>Wien Jugendliche II</td>\n",
       "      <td>Männer</td>\n",
       "      <td>25 bis 29 Jahre</td>\n",
       "      <td>8371</td>\n",
       "      <td>Erzieher/innen</td>\n",
       "      <td>1</td>\n",
       "      <td>25</td>\n",
       "      <td>29</td>\n",
       "    </tr>\n",
       "  </tbody>\n",
       "</table>\n",
       "<p>1898153 rows × 10 columns</p>\n",
       "</div>"
      ],
      "text/plain": [
       "             Datum  RGSCode              RGSName Geschlecht     Altersgruppe  \\\n",
       "0       2019-01-31      101           Eisenstadt     Frauen     bis 19 Jahre   \n",
       "1       2019-01-31      101           Eisenstadt     Frauen     bis 19 Jahre   \n",
       "2       2019-01-31      101           Eisenstadt     Frauen     bis 19 Jahre   \n",
       "3       2019-01-31      101           Eisenstadt     Frauen     bis 19 Jahre   \n",
       "4       2019-01-31      101           Eisenstadt     Frauen     bis 19 Jahre   \n",
       "...            ...      ...                  ...        ...              ...   \n",
       "1921888 2024-08-31      977  Wien Jugendliche II     Männer  25 bis 29 Jahre   \n",
       "1921889 2024-08-31      977  Wien Jugendliche II     Männer  25 bis 29 Jahre   \n",
       "1921890 2024-08-31      977  Wien Jugendliche II     Männer  25 bis 29 Jahre   \n",
       "1921891 2024-08-31      977  Wien Jugendliche II     Männer  25 bis 29 Jahre   \n",
       "1921892 2024-08-31      977  Wien Jugendliche II     Männer  25 bis 29 Jahre   \n",
       "\n",
       "        Berufs4Steller                                  Berufs4StellerBez  \\\n",
       "0                 0254        Tierzuchtgehilf(en)innen, Tierpfleger/innen   \n",
       "1                 1761                     Maler/innen, Anstreicher/innen   \n",
       "2                 2105                  Karosserie-, Kühlerspengler/innen   \n",
       "3                 2405                            Elektromechaniker/innen   \n",
       "4                 3631                                       Bäcker/innen   \n",
       "...                ...                                                ...   \n",
       "1921888           7712             Laden-, Eintrittskartenkassier(e)innen   \n",
       "1921889           7801  Industrie-, Gewerbekaufleute (m./w.), Kontoris...   \n",
       "1921890           8081  Nicht diplomierte Krankenpfleger/innen und ver...   \n",
       "1921891           8101              Fürsorger/innen, Sozialarbeiter/innen   \n",
       "1921892           8371                                     Erzieher/innen   \n",
       "\n",
       "         BESTAND  Alter_von  Alter_bis  \n",
       "0              1          0         19  \n",
       "1              1          0         19  \n",
       "2              1          0         19  \n",
       "3              1          0         19  \n",
       "4              1          0         19  \n",
       "...          ...        ...        ...  \n",
       "1921888        2         25         29  \n",
       "1921889        2         25         29  \n",
       "1921890        3         25         29  \n",
       "1921891        1         25         29  \n",
       "1921892        1         25         29  \n",
       "\n",
       "[1898153 rows x 10 columns]"
      ]
     },
     "execution_count": 60,
     "metadata": {},
     "output_type": "execute_result"
    }
   ],
   "source": [
    "# B von Berufscodes entfernen, um mit den Kategorien zu mergen\n",
    "df['Berufs4Steller'] = df['Berufs4Steller'].replace('B', '', regex=True)\n",
    "df"
   ]
  },
  {
   "cell_type": "code",
   "execution_count": 61,
   "id": "3f405e7a6995ed26",
   "metadata": {
    "ExecuteTime": {
     "end_time": "2024-10-05T16:48:10.666748Z",
     "start_time": "2024-10-05T16:48:10.023279Z"
    }
   },
   "outputs": [
    {
     "data": {
      "text/html": [
       "<div>\n",
       "<style scoped>\n",
       "    .dataframe tbody tr th:only-of-type {\n",
       "        vertical-align: middle;\n",
       "    }\n",
       "\n",
       "    .dataframe tbody tr th {\n",
       "        vertical-align: top;\n",
       "    }\n",
       "\n",
       "    .dataframe thead th {\n",
       "        text-align: right;\n",
       "    }\n",
       "</style>\n",
       "<table border=\"1\" class=\"dataframe\">\n",
       "  <thead>\n",
       "    <tr style=\"text-align: right;\">\n",
       "      <th></th>\n",
       "      <th>Datum</th>\n",
       "      <th>RGSCode</th>\n",
       "      <th>RGSName</th>\n",
       "      <th>Geschlecht</th>\n",
       "      <th>Altersgruppe</th>\n",
       "      <th>Berufs4Steller</th>\n",
       "      <th>Berufs4StellerBez</th>\n",
       "      <th>BESTAND</th>\n",
       "      <th>Alter_von</th>\n",
       "      <th>Alter_bis</th>\n",
       "      <th>4-St.</th>\n",
       "      <th>Berufsobergruppe</th>\n",
       "    </tr>\n",
       "  </thead>\n",
       "  <tbody>\n",
       "    <tr>\n",
       "      <th>0</th>\n",
       "      <td>2019-01-31</td>\n",
       "      <td>101</td>\n",
       "      <td>Eisenstadt</td>\n",
       "      <td>Frauen</td>\n",
       "      <td>bis 19 Jahre</td>\n",
       "      <td>0254</td>\n",
       "      <td>Tierzuchtgehilf(en)innen, Tierpfleger/innen</td>\n",
       "      <td>1</td>\n",
       "      <td>0</td>\n",
       "      <td>19</td>\n",
       "      <td>0254</td>\n",
       "      <td>Ackerbau-, Tierzucht-, Gartenbauberufe</td>\n",
       "    </tr>\n",
       "    <tr>\n",
       "      <th>1</th>\n",
       "      <td>2019-01-31</td>\n",
       "      <td>101</td>\n",
       "      <td>Eisenstadt</td>\n",
       "      <td>Frauen</td>\n",
       "      <td>50 bis 54 Jahre</td>\n",
       "      <td>0254</td>\n",
       "      <td>Tierzuchtgehilf(en)innen, Tierpfleger/innen</td>\n",
       "      <td>1</td>\n",
       "      <td>50</td>\n",
       "      <td>54</td>\n",
       "      <td>0254</td>\n",
       "      <td>Ackerbau-, Tierzucht-, Gartenbauberufe</td>\n",
       "    </tr>\n",
       "    <tr>\n",
       "      <th>2</th>\n",
       "      <td>2019-01-31</td>\n",
       "      <td>102</td>\n",
       "      <td>Mattersburg</td>\n",
       "      <td>Männer</td>\n",
       "      <td>bis 19 Jahre</td>\n",
       "      <td>0254</td>\n",
       "      <td>Tierzuchtgehilf(en)innen, Tierpfleger/innen</td>\n",
       "      <td>2</td>\n",
       "      <td>0</td>\n",
       "      <td>19</td>\n",
       "      <td>0254</td>\n",
       "      <td>Ackerbau-, Tierzucht-, Gartenbauberufe</td>\n",
       "    </tr>\n",
       "    <tr>\n",
       "      <th>3</th>\n",
       "      <td>2019-01-31</td>\n",
       "      <td>103</td>\n",
       "      <td>Neusiedl am See</td>\n",
       "      <td>Frauen</td>\n",
       "      <td>bis 19 Jahre</td>\n",
       "      <td>0254</td>\n",
       "      <td>Tierzuchtgehilf(en)innen, Tierpfleger/innen</td>\n",
       "      <td>2</td>\n",
       "      <td>0</td>\n",
       "      <td>19</td>\n",
       "      <td>0254</td>\n",
       "      <td>Ackerbau-, Tierzucht-, Gartenbauberufe</td>\n",
       "    </tr>\n",
       "    <tr>\n",
       "      <th>4</th>\n",
       "      <td>2019-01-31</td>\n",
       "      <td>105</td>\n",
       "      <td>Oberwart</td>\n",
       "      <td>Frauen</td>\n",
       "      <td>30 bis 34 Jahre</td>\n",
       "      <td>0254</td>\n",
       "      <td>Tierzuchtgehilf(en)innen, Tierpfleger/innen</td>\n",
       "      <td>1</td>\n",
       "      <td>30</td>\n",
       "      <td>34</td>\n",
       "      <td>0254</td>\n",
       "      <td>Ackerbau-, Tierzucht-, Gartenbauberufe</td>\n",
       "    </tr>\n",
       "    <tr>\n",
       "      <th>...</th>\n",
       "      <td>...</td>\n",
       "      <td>...</td>\n",
       "      <td>...</td>\n",
       "      <td>...</td>\n",
       "      <td>...</td>\n",
       "      <td>...</td>\n",
       "      <td>...</td>\n",
       "      <td>...</td>\n",
       "      <td>...</td>\n",
       "      <td>...</td>\n",
       "      <td>...</td>\n",
       "      <td>...</td>\n",
       "    </tr>\n",
       "    <tr>\n",
       "      <th>1898148</th>\n",
       "      <td>2024-04-30</td>\n",
       "      <td>965</td>\n",
       "      <td>Wien Schönbrunner Straße</td>\n",
       "      <td>Frauen</td>\n",
       "      <td>35 bis 39 Jahre</td>\n",
       "      <td>8208</td>\n",
       "      <td>Sonstige Geistliche (Sprecher/innen)</td>\n",
       "      <td>1</td>\n",
       "      <td>35</td>\n",
       "      <td>39</td>\n",
       "      <td>8208</td>\n",
       "      <td>Berufe des religiösen Dienstes</td>\n",
       "    </tr>\n",
       "    <tr>\n",
       "      <th>1898149</th>\n",
       "      <td>2024-04-30</td>\n",
       "      <td>975</td>\n",
       "      <td>Wien Jäger Straße</td>\n",
       "      <td>Männer</td>\n",
       "      <td>25 bis 29 Jahre</td>\n",
       "      <td>8208</td>\n",
       "      <td>Sonstige Geistliche (Sprecher/innen)</td>\n",
       "      <td>1</td>\n",
       "      <td>25</td>\n",
       "      <td>29</td>\n",
       "      <td>8208</td>\n",
       "      <td>Berufe des religiösen Dienstes</td>\n",
       "    </tr>\n",
       "    <tr>\n",
       "      <th>1898150</th>\n",
       "      <td>2024-05-31</td>\n",
       "      <td>965</td>\n",
       "      <td>Wien Schönbrunner Straße</td>\n",
       "      <td>Frauen</td>\n",
       "      <td>35 bis 39 Jahre</td>\n",
       "      <td>8208</td>\n",
       "      <td>Sonstige Geistliche (Sprecher/innen)</td>\n",
       "      <td>1</td>\n",
       "      <td>35</td>\n",
       "      <td>39</td>\n",
       "      <td>8208</td>\n",
       "      <td>Berufe des religiösen Dienstes</td>\n",
       "    </tr>\n",
       "    <tr>\n",
       "      <th>1898151</th>\n",
       "      <td>2024-05-31</td>\n",
       "      <td>975</td>\n",
       "      <td>Wien Jäger Straße</td>\n",
       "      <td>Männer</td>\n",
       "      <td>25 bis 29 Jahre</td>\n",
       "      <td>8208</td>\n",
       "      <td>Sonstige Geistliche (Sprecher/innen)</td>\n",
       "      <td>1</td>\n",
       "      <td>25</td>\n",
       "      <td>29</td>\n",
       "      <td>8208</td>\n",
       "      <td>Berufe des religiösen Dienstes</td>\n",
       "    </tr>\n",
       "    <tr>\n",
       "      <th>1898152</th>\n",
       "      <td>2024-06-30</td>\n",
       "      <td>965</td>\n",
       "      <td>Wien Schönbrunner Straße</td>\n",
       "      <td>Frauen</td>\n",
       "      <td>35 bis 39 Jahre</td>\n",
       "      <td>8208</td>\n",
       "      <td>Sonstige Geistliche (Sprecher/innen)</td>\n",
       "      <td>1</td>\n",
       "      <td>35</td>\n",
       "      <td>39</td>\n",
       "      <td>8208</td>\n",
       "      <td>Berufe des religiösen Dienstes</td>\n",
       "    </tr>\n",
       "  </tbody>\n",
       "</table>\n",
       "<p>1898153 rows × 12 columns</p>\n",
       "</div>"
      ],
      "text/plain": [
       "             Datum  RGSCode                   RGSName Geschlecht  \\\n",
       "0       2019-01-31      101                Eisenstadt     Frauen   \n",
       "1       2019-01-31      101                Eisenstadt     Frauen   \n",
       "2       2019-01-31      102               Mattersburg     Männer   \n",
       "3       2019-01-31      103           Neusiedl am See     Frauen   \n",
       "4       2019-01-31      105                  Oberwart     Frauen   \n",
       "...            ...      ...                       ...        ...   \n",
       "1898148 2024-04-30      965  Wien Schönbrunner Straße     Frauen   \n",
       "1898149 2024-04-30      975         Wien Jäger Straße     Männer   \n",
       "1898150 2024-05-31      965  Wien Schönbrunner Straße     Frauen   \n",
       "1898151 2024-05-31      975         Wien Jäger Straße     Männer   \n",
       "1898152 2024-06-30      965  Wien Schönbrunner Straße     Frauen   \n",
       "\n",
       "            Altersgruppe Berufs4Steller  \\\n",
       "0           bis 19 Jahre           0254   \n",
       "1        50 bis 54 Jahre           0254   \n",
       "2           bis 19 Jahre           0254   \n",
       "3           bis 19 Jahre           0254   \n",
       "4        30 bis 34 Jahre           0254   \n",
       "...                  ...            ...   \n",
       "1898148  35 bis 39 Jahre           8208   \n",
       "1898149  25 bis 29 Jahre           8208   \n",
       "1898150  35 bis 39 Jahre           8208   \n",
       "1898151  25 bis 29 Jahre           8208   \n",
       "1898152  35 bis 39 Jahre           8208   \n",
       "\n",
       "                                   Berufs4StellerBez  BESTAND  Alter_von  \\\n",
       "0        Tierzuchtgehilf(en)innen, Tierpfleger/innen        1          0   \n",
       "1        Tierzuchtgehilf(en)innen, Tierpfleger/innen        1         50   \n",
       "2        Tierzuchtgehilf(en)innen, Tierpfleger/innen        2          0   \n",
       "3        Tierzuchtgehilf(en)innen, Tierpfleger/innen        2          0   \n",
       "4        Tierzuchtgehilf(en)innen, Tierpfleger/innen        1         30   \n",
       "...                                              ...      ...        ...   \n",
       "1898148         Sonstige Geistliche (Sprecher/innen)        1         35   \n",
       "1898149         Sonstige Geistliche (Sprecher/innen)        1         25   \n",
       "1898150         Sonstige Geistliche (Sprecher/innen)        1         35   \n",
       "1898151         Sonstige Geistliche (Sprecher/innen)        1         25   \n",
       "1898152         Sonstige Geistliche (Sprecher/innen)        1         35   \n",
       "\n",
       "         Alter_bis 4-St.                        Berufsobergruppe  \n",
       "0               19  0254  Ackerbau-, Tierzucht-, Gartenbauberufe  \n",
       "1               54  0254  Ackerbau-, Tierzucht-, Gartenbauberufe  \n",
       "2               19  0254  Ackerbau-, Tierzucht-, Gartenbauberufe  \n",
       "3               19  0254  Ackerbau-, Tierzucht-, Gartenbauberufe  \n",
       "4               34  0254  Ackerbau-, Tierzucht-, Gartenbauberufe  \n",
       "...            ...   ...                                     ...  \n",
       "1898148         39  8208          Berufe des religiösen Dienstes  \n",
       "1898149         29  8208          Berufe des religiösen Dienstes  \n",
       "1898150         39  8208          Berufe des religiösen Dienstes  \n",
       "1898151         29  8208          Berufe des religiösen Dienstes  \n",
       "1898152         39  8208          Berufe des religiösen Dienstes  \n",
       "\n",
       "[1898153 rows x 12 columns]"
      ]
     },
     "execution_count": 61,
     "metadata": {},
     "output_type": "execute_result"
    }
   ],
   "source": [
    "# Auswahl der interessanten Columns, um keine unnötigen Daten hinzuzufügen\n",
    "# Mergen des Originaldatensets mit der Auswahl der Kategorie-Columns\n",
    "df_zuordnungen_small = df_zuordnungen[['4-St.', 'Berufsobergruppe']].drop_duplicates()\n",
    "merged_df = df.merge(df_zuordnungen_small, left_on='Berufs4Steller', right_on='4-St.', how='inner')\n",
    "#df_zuordnungen_small\n",
    "merged_df"
   ]
  },
  {
   "cell_type": "code",
   "execution_count": 62,
   "id": "bc83d38361a07033",
   "metadata": {
    "ExecuteTime": {
     "end_time": "2024-10-05T22:09:30.505904Z",
     "start_time": "2024-10-05T22:09:29.970415Z"
    }
   },
   "outputs": [
    {
     "data": {
      "text/html": [
       "<div>\n",
       "<style scoped>\n",
       "    .dataframe tbody tr th:only-of-type {\n",
       "        vertical-align: middle;\n",
       "    }\n",
       "\n",
       "    .dataframe tbody tr th {\n",
       "        vertical-align: top;\n",
       "    }\n",
       "\n",
       "    .dataframe thead th {\n",
       "        text-align: right;\n",
       "    }\n",
       "</style>\n",
       "<table border=\"1\" class=\"dataframe\">\n",
       "  <thead>\n",
       "    <tr style=\"text-align: right;\">\n",
       "      <th></th>\n",
       "      <th>Datum</th>\n",
       "      <th>RGSCode</th>\n",
       "      <th>RGSName</th>\n",
       "      <th>Geschlecht</th>\n",
       "      <th>Altersgruppe</th>\n",
       "      <th>Berufs4Steller</th>\n",
       "      <th>Berufs4StellerBez</th>\n",
       "      <th>BESTAND</th>\n",
       "      <th>Alter_von</th>\n",
       "      <th>Alter_bis</th>\n",
       "      <th>Berufsobergruppe</th>\n",
       "      <th>Bundesland</th>\n",
       "    </tr>\n",
       "  </thead>\n",
       "  <tbody>\n",
       "    <tr>\n",
       "      <th>0</th>\n",
       "      <td>2019-01-31</td>\n",
       "      <td>101</td>\n",
       "      <td>Eisenstadt</td>\n",
       "      <td>Frauen</td>\n",
       "      <td>bis 19 Jahre</td>\n",
       "      <td>0254</td>\n",
       "      <td>Tierzuchtgehilf(en)innen, Tierpfleger/innen</td>\n",
       "      <td>1</td>\n",
       "      <td>0</td>\n",
       "      <td>19</td>\n",
       "      <td>Ackerbau-, Tierzucht-, Gartenbauberufe</td>\n",
       "      <td>Burgenland</td>\n",
       "    </tr>\n",
       "    <tr>\n",
       "      <th>1</th>\n",
       "      <td>2019-01-31</td>\n",
       "      <td>101</td>\n",
       "      <td>Eisenstadt</td>\n",
       "      <td>Frauen</td>\n",
       "      <td>50 bis 54 Jahre</td>\n",
       "      <td>0254</td>\n",
       "      <td>Tierzuchtgehilf(en)innen, Tierpfleger/innen</td>\n",
       "      <td>1</td>\n",
       "      <td>50</td>\n",
       "      <td>54</td>\n",
       "      <td>Ackerbau-, Tierzucht-, Gartenbauberufe</td>\n",
       "      <td>Burgenland</td>\n",
       "    </tr>\n",
       "    <tr>\n",
       "      <th>2</th>\n",
       "      <td>2019-01-31</td>\n",
       "      <td>102</td>\n",
       "      <td>Mattersburg</td>\n",
       "      <td>Männer</td>\n",
       "      <td>bis 19 Jahre</td>\n",
       "      <td>0254</td>\n",
       "      <td>Tierzuchtgehilf(en)innen, Tierpfleger/innen</td>\n",
       "      <td>2</td>\n",
       "      <td>0</td>\n",
       "      <td>19</td>\n",
       "      <td>Ackerbau-, Tierzucht-, Gartenbauberufe</td>\n",
       "      <td>Burgenland</td>\n",
       "    </tr>\n",
       "    <tr>\n",
       "      <th>3</th>\n",
       "      <td>2019-01-31</td>\n",
       "      <td>103</td>\n",
       "      <td>Neusiedl am See</td>\n",
       "      <td>Frauen</td>\n",
       "      <td>bis 19 Jahre</td>\n",
       "      <td>0254</td>\n",
       "      <td>Tierzuchtgehilf(en)innen, Tierpfleger/innen</td>\n",
       "      <td>2</td>\n",
       "      <td>0</td>\n",
       "      <td>19</td>\n",
       "      <td>Ackerbau-, Tierzucht-, Gartenbauberufe</td>\n",
       "      <td>Burgenland</td>\n",
       "    </tr>\n",
       "    <tr>\n",
       "      <th>4</th>\n",
       "      <td>2019-01-31</td>\n",
       "      <td>105</td>\n",
       "      <td>Oberwart</td>\n",
       "      <td>Frauen</td>\n",
       "      <td>30 bis 34 Jahre</td>\n",
       "      <td>0254</td>\n",
       "      <td>Tierzuchtgehilf(en)innen, Tierpfleger/innen</td>\n",
       "      <td>1</td>\n",
       "      <td>30</td>\n",
       "      <td>34</td>\n",
       "      <td>Ackerbau-, Tierzucht-, Gartenbauberufe</td>\n",
       "      <td>Burgenland</td>\n",
       "    </tr>\n",
       "  </tbody>\n",
       "</table>\n",
       "</div>"
      ],
      "text/plain": [
       "       Datum  RGSCode          RGSName Geschlecht     Altersgruppe  \\\n",
       "0 2019-01-31      101       Eisenstadt     Frauen     bis 19 Jahre   \n",
       "1 2019-01-31      101       Eisenstadt     Frauen  50 bis 54 Jahre   \n",
       "2 2019-01-31      102      Mattersburg     Männer     bis 19 Jahre   \n",
       "3 2019-01-31      103  Neusiedl am See     Frauen     bis 19 Jahre   \n",
       "4 2019-01-31      105         Oberwart     Frauen  30 bis 34 Jahre   \n",
       "\n",
       "  Berufs4Steller                            Berufs4StellerBez  BESTAND  \\\n",
       "0           0254  Tierzuchtgehilf(en)innen, Tierpfleger/innen        1   \n",
       "1           0254  Tierzuchtgehilf(en)innen, Tierpfleger/innen        1   \n",
       "2           0254  Tierzuchtgehilf(en)innen, Tierpfleger/innen        2   \n",
       "3           0254  Tierzuchtgehilf(en)innen, Tierpfleger/innen        2   \n",
       "4           0254  Tierzuchtgehilf(en)innen, Tierpfleger/innen        1   \n",
       "\n",
       "   Alter_von  Alter_bis                        Berufsobergruppe  Bundesland  \n",
       "0          0         19  Ackerbau-, Tierzucht-, Gartenbauberufe  Burgenland  \n",
       "1         50         54  Ackerbau-, Tierzucht-, Gartenbauberufe  Burgenland  \n",
       "2          0         19  Ackerbau-, Tierzucht-, Gartenbauberufe  Burgenland  \n",
       "3          0         19  Ackerbau-, Tierzucht-, Gartenbauberufe  Burgenland  \n",
       "4         30         34  Ackerbau-, Tierzucht-, Gartenbauberufe  Burgenland  "
      ]
     },
     "execution_count": 62,
     "metadata": {},
     "output_type": "execute_result"
    }
   ],
   "source": [
    "# https://www.ams.at/content/dam/download/allgemeine-informationen/001_amd-online_verzeichnis_arbeitsmarktbezirke.pdf\n",
    "# manuelles Mappen der Bundesländer, um aus der ersten Ziffer der RGSCodes auf das zugehörige Bundesland zu schließen\n",
    "bundesland_mapping = {\n",
    "    '1': 'Burgenland',\n",
    "    '2': 'Kärnten',\n",
    "    '3': 'Niederösterreich',\n",
    "    '4': 'Oberösterreich',\n",
    "    '5': 'Salzburg',\n",
    "    '6': 'Steiermark',\n",
    "    '7': 'Tirol',\n",
    "    '8': 'Vorarlberg',\n",
    "    '9': 'Wien'\n",
    "}\n",
    "\n",
    "# extract first character of RGSCode and map to Bundesland\n",
    "merged_df['Bundesland'] = merged_df['RGSCode'].astype(str).str[0].map(bundesland_mapping)\n",
    "merged_df.drop('4-St.', axis=1, inplace=True) # doppelte Daten, nur zum Mergen benötigt\n",
    "merged_df.head()"
   ]
  },
  {
   "cell_type": "code",
   "execution_count": 63,
   "id": "c6bedd855c202c8c",
   "metadata": {
    "ExecuteTime": {
     "end_time": "2024-10-05T16:48:14.802842Z",
     "start_time": "2024-10-05T16:48:14.182878Z"
    }
   },
   "outputs": [
    {
     "data": {
      "text/plain": [
       "Datum                0.0\n",
       "RGSCode              0.0\n",
       "RGSName              0.0\n",
       "Geschlecht           0.0\n",
       "Altersgruppe         0.0\n",
       "Berufs4Steller       0.0\n",
       "Berufs4StellerBez    0.0\n",
       "BESTAND              0.0\n",
       "Alter_von            0.0\n",
       "Alter_bis            0.0\n",
       "Berufsobergruppe     0.0\n",
       "Bundesland           0.0\n",
       "dtype: float64"
      ]
     },
     "execution_count": 63,
     "metadata": {},
     "output_type": "execute_result"
    }
   ],
   "source": [
    "# fehlende Daten bei neu gemergeden dataframe checken\n",
    "missing_data = merged_df.isnull().sum()\n",
    "missing_percentages = round((missing_data / len(merged_df)) * 100, 2)\n",
    "\n",
    "missing_percentages.sort_values(ascending=False)"
   ]
  },
  {
   "cell_type": "code",
   "execution_count": 64,
   "id": "59240e949115f2f9",
   "metadata": {
    "ExecuteTime": {
     "end_time": "2024-10-05T22:09:13.194492Z",
     "start_time": "2024-10-05T22:09:10.819741Z"
    }
   },
   "outputs": [],
   "source": [
    "# exportieren der gemergeden Daten als csv\n",
    "merged_df.to_csv('merged_data.csv')\n",
    "#merged_df = pd.read_csv('merged_data.csv', parse_dates=['Datum'], encoding='ISO-8859-1')"
   ]
  },
  {
   "cell_type": "code",
   "execution_count": 65,
   "id": "123eb116e9c7472b",
   "metadata": {
    "ExecuteTime": {
     "end_time": "2024-10-05T16:48:31.707072Z",
     "start_time": "2024-10-05T16:48:31.374679Z"
    }
   },
   "outputs": [
    {
     "data": {
      "text/html": [
       "<div>\n",
       "<style scoped>\n",
       "    .dataframe tbody tr th:only-of-type {\n",
       "        vertical-align: middle;\n",
       "    }\n",
       "\n",
       "    .dataframe tbody tr th {\n",
       "        vertical-align: top;\n",
       "    }\n",
       "\n",
       "    .dataframe thead th {\n",
       "        text-align: right;\n",
       "    }\n",
       "</style>\n",
       "<table border=\"1\" class=\"dataframe\">\n",
       "  <thead>\n",
       "    <tr style=\"text-align: right;\">\n",
       "      <th></th>\n",
       "      <th>Datum</th>\n",
       "      <th>RGSCode</th>\n",
       "      <th>RGSName</th>\n",
       "      <th>Geschlecht</th>\n",
       "      <th>Altersgruppe</th>\n",
       "      <th>Berufs4Steller</th>\n",
       "      <th>Berufs4StellerBez</th>\n",
       "      <th>BESTAND</th>\n",
       "      <th>Alter_von</th>\n",
       "      <th>Alter_bis</th>\n",
       "      <th>Berufsobergruppe</th>\n",
       "      <th>Bundesland</th>\n",
       "    </tr>\n",
       "  </thead>\n",
       "  <tbody>\n",
       "    <tr>\n",
       "      <th>111555</th>\n",
       "      <td>2022-04-30</td>\n",
       "      <td>976</td>\n",
       "      <td>Wien Jugendliche I</td>\n",
       "      <td>Männer</td>\n",
       "      <td>20 bis 24 Jahre</td>\n",
       "      <td>3999</td>\n",
       "      <td>Hilfsarbeiter/innen (Helfer), soweit nicht and...</td>\n",
       "      <td>759</td>\n",
       "      <td>20</td>\n",
       "      <td>24</td>\n",
       "      <td>Hilfsberufe allgemeiner Art</td>\n",
       "      <td>Wien</td>\n",
       "    </tr>\n",
       "    <tr>\n",
       "      <th>112679</th>\n",
       "      <td>2022-05-31</td>\n",
       "      <td>976</td>\n",
       "      <td>Wien Jugendliche I</td>\n",
       "      <td>Männer</td>\n",
       "      <td>20 bis 24 Jahre</td>\n",
       "      <td>3999</td>\n",
       "      <td>Hilfsarbeiter/innen (Helfer), soweit nicht and...</td>\n",
       "      <td>750</td>\n",
       "      <td>20</td>\n",
       "      <td>24</td>\n",
       "      <td>Hilfsberufe allgemeiner Art</td>\n",
       "      <td>Wien</td>\n",
       "    </tr>\n",
       "    <tr>\n",
       "      <th>110440</th>\n",
       "      <td>2022-03-31</td>\n",
       "      <td>976</td>\n",
       "      <td>Wien Jugendliche I</td>\n",
       "      <td>Männer</td>\n",
       "      <td>20 bis 24 Jahre</td>\n",
       "      <td>3999</td>\n",
       "      <td>Hilfsarbeiter/innen (Helfer), soweit nicht and...</td>\n",
       "      <td>724</td>\n",
       "      <td>20</td>\n",
       "      <td>24</td>\n",
       "      <td>Hilfsberufe allgemeiner Art</td>\n",
       "      <td>Wien</td>\n",
       "    </tr>\n",
       "    <tr>\n",
       "      <th>113803</th>\n",
       "      <td>2022-06-30</td>\n",
       "      <td>976</td>\n",
       "      <td>Wien Jugendliche I</td>\n",
       "      <td>Männer</td>\n",
       "      <td>20 bis 24 Jahre</td>\n",
       "      <td>3999</td>\n",
       "      <td>Hilfsarbeiter/innen (Helfer), soweit nicht and...</td>\n",
       "      <td>718</td>\n",
       "      <td>20</td>\n",
       "      <td>24</td>\n",
       "      <td>Hilfsberufe allgemeiner Art</td>\n",
       "      <td>Wien</td>\n",
       "    </tr>\n",
       "    <tr>\n",
       "      <th>115933</th>\n",
       "      <td>2022-08-31</td>\n",
       "      <td>976</td>\n",
       "      <td>Wien Jugendliche I</td>\n",
       "      <td>Männer</td>\n",
       "      <td>20 bis 24 Jahre</td>\n",
       "      <td>3999</td>\n",
       "      <td>Hilfsarbeiter/innen (Helfer), soweit nicht and...</td>\n",
       "      <td>688</td>\n",
       "      <td>20</td>\n",
       "      <td>24</td>\n",
       "      <td>Hilfsberufe allgemeiner Art</td>\n",
       "      <td>Wien</td>\n",
       "    </tr>\n",
       "    <tr>\n",
       "      <th>109318</th>\n",
       "      <td>2022-02-28</td>\n",
       "      <td>976</td>\n",
       "      <td>Wien Jugendliche I</td>\n",
       "      <td>Männer</td>\n",
       "      <td>20 bis 24 Jahre</td>\n",
       "      <td>3999</td>\n",
       "      <td>Hilfsarbeiter/innen (Helfer), soweit nicht and...</td>\n",
       "      <td>686</td>\n",
       "      <td>20</td>\n",
       "      <td>24</td>\n",
       "      <td>Hilfsberufe allgemeiner Art</td>\n",
       "      <td>Wien</td>\n",
       "    </tr>\n",
       "    <tr>\n",
       "      <th>79023</th>\n",
       "      <td>2019-10-31</td>\n",
       "      <td>970</td>\n",
       "      <td>Wien Jugendliche</td>\n",
       "      <td>Männer</td>\n",
       "      <td>bis 19 Jahre</td>\n",
       "      <td>3999</td>\n",
       "      <td>Hilfsarbeiter/innen (Helfer), soweit nicht and...</td>\n",
       "      <td>674</td>\n",
       "      <td>0</td>\n",
       "      <td>19</td>\n",
       "      <td>Hilfsberufe allgemeiner Art</td>\n",
       "      <td>Wien</td>\n",
       "    </tr>\n",
       "    <tr>\n",
       "      <th>114870</th>\n",
       "      <td>2022-07-31</td>\n",
       "      <td>976</td>\n",
       "      <td>Wien Jugendliche I</td>\n",
       "      <td>Männer</td>\n",
       "      <td>20 bis 24 Jahre</td>\n",
       "      <td>3999</td>\n",
       "      <td>Hilfsarbeiter/innen (Helfer), soweit nicht and...</td>\n",
       "      <td>671</td>\n",
       "      <td>20</td>\n",
       "      <td>24</td>\n",
       "      <td>Hilfsberufe allgemeiner Art</td>\n",
       "      <td>Wien</td>\n",
       "    </tr>\n",
       "    <tr>\n",
       "      <th>80165</th>\n",
       "      <td>2019-11-30</td>\n",
       "      <td>970</td>\n",
       "      <td>Wien Jugendliche</td>\n",
       "      <td>Männer</td>\n",
       "      <td>bis 19 Jahre</td>\n",
       "      <td>3999</td>\n",
       "      <td>Hilfsarbeiter/innen (Helfer), soweit nicht and...</td>\n",
       "      <td>667</td>\n",
       "      <td>0</td>\n",
       "      <td>19</td>\n",
       "      <td>Hilfsberufe allgemeiner Art</td>\n",
       "      <td>Wien</td>\n",
       "    </tr>\n",
       "    <tr>\n",
       "      <th>117089</th>\n",
       "      <td>2022-09-30</td>\n",
       "      <td>976</td>\n",
       "      <td>Wien Jugendliche I</td>\n",
       "      <td>Männer</td>\n",
       "      <td>20 bis 24 Jahre</td>\n",
       "      <td>3999</td>\n",
       "      <td>Hilfsarbeiter/innen (Helfer), soweit nicht and...</td>\n",
       "      <td>648</td>\n",
       "      <td>20</td>\n",
       "      <td>24</td>\n",
       "      <td>Hilfsberufe allgemeiner Art</td>\n",
       "      <td>Wien</td>\n",
       "    </tr>\n",
       "  </tbody>\n",
       "</table>\n",
       "</div>"
      ],
      "text/plain": [
       "            Datum  RGSCode             RGSName Geschlecht     Altersgruppe  \\\n",
       "111555 2022-04-30      976  Wien Jugendliche I     Männer  20 bis 24 Jahre   \n",
       "112679 2022-05-31      976  Wien Jugendliche I     Männer  20 bis 24 Jahre   \n",
       "110440 2022-03-31      976  Wien Jugendliche I     Männer  20 bis 24 Jahre   \n",
       "113803 2022-06-30      976  Wien Jugendliche I     Männer  20 bis 24 Jahre   \n",
       "115933 2022-08-31      976  Wien Jugendliche I     Männer  20 bis 24 Jahre   \n",
       "109318 2022-02-28      976  Wien Jugendliche I     Männer  20 bis 24 Jahre   \n",
       "79023  2019-10-31      970    Wien Jugendliche     Männer     bis 19 Jahre   \n",
       "114870 2022-07-31      976  Wien Jugendliche I     Männer  20 bis 24 Jahre   \n",
       "80165  2019-11-30      970    Wien Jugendliche     Männer     bis 19 Jahre   \n",
       "117089 2022-09-30      976  Wien Jugendliche I     Männer  20 bis 24 Jahre   \n",
       "\n",
       "       Berufs4Steller                                  Berufs4StellerBez  \\\n",
       "111555           3999  Hilfsarbeiter/innen (Helfer), soweit nicht and...   \n",
       "112679           3999  Hilfsarbeiter/innen (Helfer), soweit nicht and...   \n",
       "110440           3999  Hilfsarbeiter/innen (Helfer), soweit nicht and...   \n",
       "113803           3999  Hilfsarbeiter/innen (Helfer), soweit nicht and...   \n",
       "115933           3999  Hilfsarbeiter/innen (Helfer), soweit nicht and...   \n",
       "109318           3999  Hilfsarbeiter/innen (Helfer), soweit nicht and...   \n",
       "79023            3999  Hilfsarbeiter/innen (Helfer), soweit nicht and...   \n",
       "114870           3999  Hilfsarbeiter/innen (Helfer), soweit nicht and...   \n",
       "80165            3999  Hilfsarbeiter/innen (Helfer), soweit nicht and...   \n",
       "117089           3999  Hilfsarbeiter/innen (Helfer), soweit nicht and...   \n",
       "\n",
       "        BESTAND  Alter_von  Alter_bis             Berufsobergruppe Bundesland  \n",
       "111555      759         20         24  Hilfsberufe allgemeiner Art       Wien  \n",
       "112679      750         20         24  Hilfsberufe allgemeiner Art       Wien  \n",
       "110440      724         20         24  Hilfsberufe allgemeiner Art       Wien  \n",
       "113803      718         20         24  Hilfsberufe allgemeiner Art       Wien  \n",
       "115933      688         20         24  Hilfsberufe allgemeiner Art       Wien  \n",
       "109318      686         20         24  Hilfsberufe allgemeiner Art       Wien  \n",
       "79023       674          0         19  Hilfsberufe allgemeiner Art       Wien  \n",
       "114870      671         20         24  Hilfsberufe allgemeiner Art       Wien  \n",
       "80165       667          0         19  Hilfsberufe allgemeiner Art       Wien  \n",
       "117089      648         20         24  Hilfsberufe allgemeiner Art       Wien  "
      ]
     },
     "execution_count": 65,
     "metadata": {},
     "output_type": "execute_result"
    }
   ],
   "source": [
    "# Top-10 Bestand überprüfen, um mögliche Outlier zu identifizieren\n",
    "df_top_10_bestand = merged_df.sort_values(by='BESTAND', ascending=False)[:10]\n",
    "df_top_10_bestand"
   ]
  },
  {
   "cell_type": "code",
   "execution_count": 66,
   "id": "7a428d32099b440d",
   "metadata": {
    "ExecuteTime": {
     "end_time": "2024-10-05T16:48:32.164746Z",
     "start_time": "2024-10-05T16:48:31.708132Z"
    }
   },
   "outputs": [
    {
     "data": {
      "image/png": "[encoded data removed]",
      "text/plain": [
       "<Figure size 1000x600 with 1 Axes>"
      ]
     },
     "metadata": {},
     "output_type": "display_data"
    }
   ],
   "source": [
    "# Anzahl der SchulungsteilnehmerInnen pro Bundesland in Summe von 2019 bis 2024\n",
    "\n",
    "grouped_data = merged_df.groupby('Bundesland')['BESTAND'].sum().reset_index()\n",
    "\n",
    "plt.figure(figsize=(10, 6))\n",
    "ax = sns.barplot(data=grouped_data, x='Bundesland', y='BESTAND', hue='Bundesland')\n",
    "\n",
    "plt.title('SchulungsteilnehmerInnen pro Bundesland Summe von 2019 - 2024')\n",
    "plt.ylabel('Summe vom BESTAND')\n",
    "plt.xticks(rotation=45)\n",
    "plt.gca().yaxis.set_major_formatter(ticker.StrMethodFormatter('{x:,.0f}'))\n",
    "\n",
    "for container in ax.containers:\n",
    "    ax.bar_label(container, fmt='{:,.0f}', label_type='edge', padding=5)\n",
    "\n",
    "plt.grid()\n",
    "plt.show()"
   ]
  },
  {
   "cell_type": "code",
   "execution_count": 68,
   "id": "dcd866c34f70d74c",
   "metadata": {},
   "outputs": [
    {
     "data": {
      "text/html": [
       "<div>\n",
       "<style scoped>\n",
       "    .dataframe tbody tr th:only-of-type {\n",
       "        vertical-align: middle;\n",
       "    }\n",
       "\n",
       "    .dataframe tbody tr th {\n",
       "        vertical-align: top;\n",
       "    }\n",
       "\n",
       "    .dataframe thead th {\n",
       "        text-align: right;\n",
       "    }\n",
       "</style>\n",
       "<table border=\"1\" class=\"dataframe\">\n",
       "  <thead>\n",
       "    <tr style=\"text-align: right;\">\n",
       "      <th></th>\n",
       "      <th>Datum</th>\n",
       "      <th>RGSCode</th>\n",
       "      <th>RGSName</th>\n",
       "      <th>Geschlecht</th>\n",
       "      <th>Altersgruppe</th>\n",
       "      <th>Berufs4Steller</th>\n",
       "      <th>Berufs4StellerBez</th>\n",
       "      <th>BESTAND</th>\n",
       "      <th>Alter_von</th>\n",
       "      <th>Alter_bis</th>\n",
       "      <th>Berufsobergruppe</th>\n",
       "      <th>Bundesland</th>\n",
       "      <th>geometry</th>\n",
       "    </tr>\n",
       "  </thead>\n",
       "  <tbody>\n",
       "    <tr>\n",
       "      <th>0</th>\n",
       "      <td>2019-01-31</td>\n",
       "      <td>101</td>\n",
       "      <td>Eisenstadt</td>\n",
       "      <td>Frauen</td>\n",
       "      <td>bis 19 Jahre</td>\n",
       "      <td>0254</td>\n",
       "      <td>Tierzuchtgehilf(en)innen, Tierpfleger/innen</td>\n",
       "      <td>1</td>\n",
       "      <td>0</td>\n",
       "      <td>19</td>\n",
       "      <td>Ackerbau-, Tierzucht-, Gartenbauberufe</td>\n",
       "      <td>Burgenland</td>\n",
       "      <td>MULTIPOLYGON (((16.06293 46.85060, 16.06318 46...</td>\n",
       "    </tr>\n",
       "    <tr>\n",
       "      <th>1</th>\n",
       "      <td>2019-01-31</td>\n",
       "      <td>101</td>\n",
       "      <td>Eisenstadt</td>\n",
       "      <td>Frauen</td>\n",
       "      <td>50 bis 54 Jahre</td>\n",
       "      <td>0254</td>\n",
       "      <td>Tierzuchtgehilf(en)innen, Tierpfleger/innen</td>\n",
       "      <td>1</td>\n",
       "      <td>50</td>\n",
       "      <td>54</td>\n",
       "      <td>Ackerbau-, Tierzucht-, Gartenbauberufe</td>\n",
       "      <td>Burgenland</td>\n",
       "      <td>MULTIPOLYGON (((16.06293 46.85060, 16.06318 46...</td>\n",
       "    </tr>\n",
       "    <tr>\n",
       "      <th>2</th>\n",
       "      <td>2019-01-31</td>\n",
       "      <td>102</td>\n",
       "      <td>Mattersburg</td>\n",
       "      <td>Männer</td>\n",
       "      <td>bis 19 Jahre</td>\n",
       "      <td>0254</td>\n",
       "      <td>Tierzuchtgehilf(en)innen, Tierpfleger/innen</td>\n",
       "      <td>2</td>\n",
       "      <td>0</td>\n",
       "      <td>19</td>\n",
       "      <td>Ackerbau-, Tierzucht-, Gartenbauberufe</td>\n",
       "      <td>Burgenland</td>\n",
       "      <td>MULTIPOLYGON (((16.06293 46.85060, 16.06318 46...</td>\n",
       "    </tr>\n",
       "    <tr>\n",
       "      <th>3</th>\n",
       "      <td>2019-01-31</td>\n",
       "      <td>103</td>\n",
       "      <td>Neusiedl am See</td>\n",
       "      <td>Frauen</td>\n",
       "      <td>bis 19 Jahre</td>\n",
       "      <td>0254</td>\n",
       "      <td>Tierzuchtgehilf(en)innen, Tierpfleger/innen</td>\n",
       "      <td>2</td>\n",
       "      <td>0</td>\n",
       "      <td>19</td>\n",
       "      <td>Ackerbau-, Tierzucht-, Gartenbauberufe</td>\n",
       "      <td>Burgenland</td>\n",
       "      <td>MULTIPOLYGON (((16.06293 46.85060, 16.06318 46...</td>\n",
       "    </tr>\n",
       "    <tr>\n",
       "      <th>4</th>\n",
       "      <td>2019-01-31</td>\n",
       "      <td>105</td>\n",
       "      <td>Oberwart</td>\n",
       "      <td>Frauen</td>\n",
       "      <td>30 bis 34 Jahre</td>\n",
       "      <td>0254</td>\n",
       "      <td>Tierzuchtgehilf(en)innen, Tierpfleger/innen</td>\n",
       "      <td>1</td>\n",
       "      <td>30</td>\n",
       "      <td>34</td>\n",
       "      <td>Ackerbau-, Tierzucht-, Gartenbauberufe</td>\n",
       "      <td>Burgenland</td>\n",
       "      <td>MULTIPOLYGON (((16.06293 46.85060, 16.06318 46...</td>\n",
       "    </tr>\n",
       "    <tr>\n",
       "      <th>...</th>\n",
       "      <td>...</td>\n",
       "      <td>...</td>\n",
       "      <td>...</td>\n",
       "      <td>...</td>\n",
       "      <td>...</td>\n",
       "      <td>...</td>\n",
       "      <td>...</td>\n",
       "      <td>...</td>\n",
       "      <td>...</td>\n",
       "      <td>...</td>\n",
       "      <td>...</td>\n",
       "      <td>...</td>\n",
       "      <td>...</td>\n",
       "    </tr>\n",
       "    <tr>\n",
       "      <th>1898148</th>\n",
       "      <td>2024-04-30</td>\n",
       "      <td>965</td>\n",
       "      <td>Wien Schönbrunner Straße</td>\n",
       "      <td>Frauen</td>\n",
       "      <td>35 bis 39 Jahre</td>\n",
       "      <td>8208</td>\n",
       "      <td>Sonstige Geistliche (Sprecher/innen)</td>\n",
       "      <td>1</td>\n",
       "      <td>35</td>\n",
       "      <td>39</td>\n",
       "      <td>Berufe des religiösen Dienstes</td>\n",
       "      <td>Wien</td>\n",
       "      <td>MULTIPOLYGON (((16.36286 48.12937, 16.35537 48...</td>\n",
       "    </tr>\n",
       "    <tr>\n",
       "      <th>1898149</th>\n",
       "      <td>2024-04-30</td>\n",
       "      <td>975</td>\n",
       "      <td>Wien Jäger Straße</td>\n",
       "      <td>Männer</td>\n",
       "      <td>25 bis 29 Jahre</td>\n",
       "      <td>8208</td>\n",
       "      <td>Sonstige Geistliche (Sprecher/innen)</td>\n",
       "      <td>1</td>\n",
       "      <td>25</td>\n",
       "      <td>29</td>\n",
       "      <td>Berufe des religiösen Dienstes</td>\n",
       "      <td>Wien</td>\n",
       "      <td>MULTIPOLYGON (((16.36286 48.12937, 16.35537 48...</td>\n",
       "    </tr>\n",
       "    <tr>\n",
       "      <th>1898150</th>\n",
       "      <td>2024-05-31</td>\n",
       "      <td>965</td>\n",
       "      <td>Wien Schönbrunner Straße</td>\n",
       "      <td>Frauen</td>\n",
       "      <td>35 bis 39 Jahre</td>\n",
       "      <td>8208</td>\n",
       "      <td>Sonstige Geistliche (Sprecher/innen)</td>\n",
       "      <td>1</td>\n",
       "      <td>35</td>\n",
       "      <td>39</td>\n",
       "      <td>Berufe des religiösen Dienstes</td>\n",
       "      <td>Wien</td>\n",
       "      <td>MULTIPOLYGON (((16.36286 48.12937, 16.35537 48...</td>\n",
       "    </tr>\n",
       "    <tr>\n",
       "      <th>1898151</th>\n",
       "      <td>2024-05-31</td>\n",
       "      <td>975</td>\n",
       "      <td>Wien Jäger Straße</td>\n",
       "      <td>Männer</td>\n",
       "      <td>25 bis 29 Jahre</td>\n",
       "      <td>8208</td>\n",
       "      <td>Sonstige Geistliche (Sprecher/innen)</td>\n",
       "      <td>1</td>\n",
       "      <td>25</td>\n",
       "      <td>29</td>\n",
       "      <td>Berufe des religiösen Dienstes</td>\n",
       "      <td>Wien</td>\n",
       "      <td>MULTIPOLYGON (((16.36286 48.12937, 16.35537 48...</td>\n",
       "    </tr>\n",
       "    <tr>\n",
       "      <th>1898152</th>\n",
       "      <td>2024-06-30</td>\n",
       "      <td>965</td>\n",
       "      <td>Wien Schönbrunner Straße</td>\n",
       "      <td>Frauen</td>\n",
       "      <td>35 bis 39 Jahre</td>\n",
       "      <td>8208</td>\n",
       "      <td>Sonstige Geistliche (Sprecher/innen)</td>\n",
       "      <td>1</td>\n",
       "      <td>35</td>\n",
       "      <td>39</td>\n",
       "      <td>Berufe des religiösen Dienstes</td>\n",
       "      <td>Wien</td>\n",
       "      <td>MULTIPOLYGON (((16.36286 48.12937, 16.35537 48...</td>\n",
       "    </tr>\n",
       "  </tbody>\n",
       "</table>\n",
       "<p>1898153 rows × 13 columns</p>\n",
       "</div>"
      ],
      "text/plain": [
       "             Datum  RGSCode                   RGSName Geschlecht  \\\n",
       "0       2019-01-31      101                Eisenstadt     Frauen   \n",
       "1       2019-01-31      101                Eisenstadt     Frauen   \n",
       "2       2019-01-31      102               Mattersburg     Männer   \n",
       "3       2019-01-31      103           Neusiedl am See     Frauen   \n",
       "4       2019-01-31      105                  Oberwart     Frauen   \n",
       "...            ...      ...                       ...        ...   \n",
       "1898148 2024-04-30      965  Wien Schönbrunner Straße     Frauen   \n",
       "1898149 2024-04-30      975         Wien Jäger Straße     Männer   \n",
       "1898150 2024-05-31      965  Wien Schönbrunner Straße     Frauen   \n",
       "1898151 2024-05-31      975         Wien Jäger Straße     Männer   \n",
       "1898152 2024-06-30      965  Wien Schönbrunner Straße     Frauen   \n",
       "\n",
       "            Altersgruppe Berufs4Steller  \\\n",
       "0           bis 19 Jahre           0254   \n",
       "1        50 bis 54 Jahre           0254   \n",
       "2           bis 19 Jahre           0254   \n",
       "3           bis 19 Jahre           0254   \n",
       "4        30 bis 34 Jahre           0254   \n",
       "...                  ...            ...   \n",
       "1898148  35 bis 39 Jahre           8208   \n",
       "1898149  25 bis 29 Jahre           8208   \n",
       "1898150  35 bis 39 Jahre           8208   \n",
       "1898151  25 bis 29 Jahre           8208   \n",
       "1898152  35 bis 39 Jahre           8208   \n",
       "\n",
       "                                   Berufs4StellerBez  BESTAND  Alter_von  \\\n",
       "0        Tierzuchtgehilf(en)innen, Tierpfleger/innen        1          0   \n",
       "1        Tierzuchtgehilf(en)innen, Tierpfleger/innen        1         50   \n",
       "2        Tierzuchtgehilf(en)innen, Tierpfleger/innen        2          0   \n",
       "3        Tierzuchtgehilf(en)innen, Tierpfleger/innen        2          0   \n",
       "4        Tierzuchtgehilf(en)innen, Tierpfleger/innen        1         30   \n",
       "...                                              ...      ...        ...   \n",
       "1898148         Sonstige Geistliche (Sprecher/innen)        1         35   \n",
       "1898149         Sonstige Geistliche (Sprecher/innen)        1         25   \n",
       "1898150         Sonstige Geistliche (Sprecher/innen)        1         35   \n",
       "1898151         Sonstige Geistliche (Sprecher/innen)        1         25   \n",
       "1898152         Sonstige Geistliche (Sprecher/innen)        1         35   \n",
       "\n",
       "         Alter_bis                        Berufsobergruppe  Bundesland  \\\n",
       "0               19  Ackerbau-, Tierzucht-, Gartenbauberufe  Burgenland   \n",
       "1               54  Ackerbau-, Tierzucht-, Gartenbauberufe  Burgenland   \n",
       "2               19  Ackerbau-, Tierzucht-, Gartenbauberufe  Burgenland   \n",
       "3               19  Ackerbau-, Tierzucht-, Gartenbauberufe  Burgenland   \n",
       "4               34  Ackerbau-, Tierzucht-, Gartenbauberufe  Burgenland   \n",
       "...            ...                                     ...         ...   \n",
       "1898148         39          Berufe des religiösen Dienstes        Wien   \n",
       "1898149         29          Berufe des religiösen Dienstes        Wien   \n",
       "1898150         39          Berufe des religiösen Dienstes        Wien   \n",
       "1898151         29          Berufe des religiösen Dienstes        Wien   \n",
       "1898152         39          Berufe des religiösen Dienstes        Wien   \n",
       "\n",
       "                                                  geometry  \n",
       "0        MULTIPOLYGON (((16.06293 46.85060, 16.06318 46...  \n",
       "1        MULTIPOLYGON (((16.06293 46.85060, 16.06318 46...  \n",
       "2        MULTIPOLYGON (((16.06293 46.85060, 16.06318 46...  \n",
       "3        MULTIPOLYGON (((16.06293 46.85060, 16.06318 46...  \n",
       "4        MULTIPOLYGON (((16.06293 46.85060, 16.06318 46...  \n",
       "...                                                    ...  \n",
       "1898148  MULTIPOLYGON (((16.36286 48.12937, 16.35537 48...  \n",
       "1898149  MULTIPOLYGON (((16.36286 48.12937, 16.35537 48...  \n",
       "1898150  MULTIPOLYGON (((16.36286 48.12937, 16.35537 48...  \n",
       "1898151  MULTIPOLYGON (((16.36286 48.12937, 16.35537 48...  \n",
       "1898152  MULTIPOLYGON (((16.36286 48.12937, 16.35537 48...  \n",
       "\n",
       "[1898153 rows x 13 columns]"
      ]
     },
     "execution_count": 68,
     "metadata": {},
     "output_type": "execute_result"
    }
   ],
   "source": [
    "# ein neues Dataframe erzeugen, um die Geodaten der Bundesländer hinzuzufügen\n",
    "geo_df = merged_df.merge(gdf, left_on='Bundesland', right_on='name', how='inner')\n",
    "geo_df.drop(['iso', 'name'], axis=1, inplace=True)\n",
    "geo_df = gpd.GeoDataFrame(geo_df, geometry='geometry') # nur ein DataFrame nach merge, also in gpd umwandeln\n",
    "geo_df"
   ]
  },
  {
   "cell_type": "code",
   "execution_count": 88,
   "id": "b264b8c564bb6cc2",
   "metadata": {
    "jupyter": {
     "is_executing": true
    }
   },
   "outputs": [
    {
     "data": {
      "image/png": "[encoded data removed]",
      "text/plain": [
       "<Figure size 1000x800 with 2 Axes>"
      ]
     },
     "metadata": {},
     "output_type": "display_data"
    }
   ],
   "source": [
    "grouped_data = merged_df.groupby(['Bundesland'])['BESTAND'].sum().reset_index()\n",
    "grouped_data = grouped_data.merge(gdf, left_on='Bundesland', right_on='name', how='inner')\n",
    "grouped_data.drop(['iso', 'name'], axis=1, inplace=True)\n",
    "grouped_data = gpd.GeoDataFrame(grouped_data, geometry='geometry')\n",
    "grouped_data.sort_values(by=['BESTAND'], inplace = True) # sort values for color mapping to work\n",
    "\n",
    "\n",
    "# Plotten von Bestand pro Bundesland in Österreich von 2019 bis 2024\n",
    "fig, ax = plt.subplots(figsize=(10, 8))\n",
    "\n",
    "# Normalisieren von den Bestands-Werten für das Color-Mapping \n",
    "norm = plt.Normalize(vmin=grouped_data['BESTAND'].min(), \n",
    "                     vmax=grouped_data['BESTAND'].max())\n",
    "\n",
    "cmap = plt.get_cmap('Oranges') # Orange Colormap\n",
    "\n",
    "grouped_data.plot(column='BESTAND', ax=ax, cmap=cmap)\n",
    "sm = plt.cm.ScalarMappable(cmap=cmap, norm=norm) # normalize to fit full spectrum\n",
    "#sm._A = []\n",
    "# Colorbar formatieren\n",
    "cbar = plt.colorbar(sm, ax=ax)\n",
    "cbar.set_label('BESTAND')\n",
    "cbar.ax.yaxis.set_major_formatter(ticker.StrMethodFormatter('{x:,.0f}'))\n",
    "\n",
    "ax.set_xticks([])\n",
    "ax.set_yticks([])\n",
    "ax.set_title(\"Bestand pro Bundesland in Österreich von 2019 bis 2024\")\n",
    "plt.show()\n"
   ]
  },
  {
   "cell_type": "code",
   "execution_count": 90,
   "id": "351097462590080d",
   "metadata": {
    "ExecuteTime": {
     "end_time": "2024-10-05T16:48:32.440897Z",
     "start_time": "2024-10-05T16:48:32.167805Z"
    }
   },
   "outputs": [
    {
     "name": "stderr",
     "output_type": "stream",
     "text": [
      "C:\\anaconda\\Lib\\site-packages\\seaborn\\categorical.py:641: FutureWarning: The default of observed=False is deprecated and will be changed to True in a future version of pandas. Pass observed=False to retain current behavior or observed=True to adopt the future default and silence this warning.\n",
      "  grouped_vals = vals.groupby(grouper)\n"
     ]
    },
    {
     "data": {
      "image/png": "[encoded data removed]",
      "text/plain": [
       "<Figure size 1000x600 with 1 Axes>"
      ]
     },
     "metadata": {},
     "output_type": "display_data"
    }
   ],
   "source": [
    "# Anzahl der SchulungsteilnehmerInnen pro Geschlecht in Summe von 2019 bis 2024\n",
    "grouped_data = merged_df.groupby('Geschlecht', observed = False)['BESTAND'].sum().reset_index()\n",
    "\n",
    "plt.figure(figsize=(10, 6))\n",
    "ax = sns.barplot(data=grouped_data, x='Geschlecht', y='BESTAND', width=0.5, hue='Geschlecht')\n",
    "\n",
    "plt.title('SchulungsteilnehmerInnen pro Geschlecht Summe insgesamt von 2019 - 2024')\n",
    "plt.ylabel('Summe vom BESTAND')\n",
    "plt.xticks(rotation=45)\n",
    "plt.gca().yaxis.set_major_formatter(ticker.StrMethodFormatter('{x:,.0f}'))\n",
    "\n",
    "max_value = grouped_data['BESTAND'].max()\n",
    "plt.ylim(0, max_value * 1.1)\n",
    "\n",
    "for container in ax.containers:\n",
    "    ax.bar_label(container, fmt='{:,.0f}', label_type='edge', padding=5)\n",
    "\n",
    "plt.show()"
   ]
  },
  {
   "cell_type": "code",
   "execution_count": 91,
   "id": "f4fbf6f86635af8f",
   "metadata": {
    "ExecuteTime": {
     "end_time": "2024-10-05T16:48:33.355548Z",
     "start_time": "2024-10-05T16:48:32.441916Z"
    }
   },
   "outputs": [
    {
     "data": {
      "image/png": "[encoded data removed]",
      "text/plain": [
       "<Figure size 1000x600 with 1 Axes>"
      ]
     },
     "metadata": {},
     "output_type": "display_data"
    }
   ],
   "source": [
    "# Anzahl der SchulungsteilnehmerInnen pro Jahr und Geschlecht 2019 bis 2024\n",
    "grouped_data = merged_df.groupby([merged_df['Datum'].dt.year, 'Geschlecht'], observed=False)['BESTAND'].sum().reset_index()\n",
    "plt.figure(figsize=(10, 6))\n",
    "ax = sns.barplot(data=grouped_data, x='Datum', y='BESTAND', hue='Geschlecht')\n",
    "plt.xticks(rotation=45, ha='right')\n",
    "plt.gca().yaxis.set_major_formatter(ticker.StrMethodFormatter('{x:,.0f}'))\n",
    "plt.ylabel('Summe von Bestand')\n",
    "plt.title('SchulungsteilnehmerInnen pro Jahr und Geschlecht 2019 - 2024')\n",
    "\n",
    "max_value = grouped_data['BESTAND'].max()\n",
    "plt.ylim(0, max_value * 1.1)\n",
    "\n",
    "for container in ax.containers:\n",
    "    ax.bar_label(container, fmt='{:,.0f}', label_type='edge', padding=5)\n",
    "\n"
   ]
  },
  {
   "cell_type": "code",
   "execution_count": 92,
   "id": "d840dc7033cb2251",
   "metadata": {
    "ExecuteTime": {
     "end_time": "2024-10-05T16:48:33.906682Z",
     "start_time": "2024-10-05T16:48:33.360090Z"
    }
   },
   "outputs": [
    {
     "data": {
      "text/html": [
       "<div>\n",
       "<style scoped>\n",
       "    .dataframe tbody tr th:only-of-type {\n",
       "        vertical-align: middle;\n",
       "    }\n",
       "\n",
       "    .dataframe tbody tr th {\n",
       "        vertical-align: top;\n",
       "    }\n",
       "\n",
       "    .dataframe thead th {\n",
       "        text-align: right;\n",
       "    }\n",
       "</style>\n",
       "<table border=\"1\" class=\"dataframe\">\n",
       "  <thead>\n",
       "    <tr style=\"text-align: right;\">\n",
       "      <th></th>\n",
       "      <th>Altersgruppe</th>\n",
       "      <th>Alter_von</th>\n",
       "      <th>Geschlecht</th>\n",
       "      <th>BESTAND</th>\n",
       "    </tr>\n",
       "  </thead>\n",
       "  <tbody>\n",
       "    <tr>\n",
       "      <th>21</th>\n",
       "      <td>bis 19 Jahre</td>\n",
       "      <td>0</td>\n",
       "      <td>Männer</td>\n",
       "      <td>502150</td>\n",
       "    </tr>\n",
       "    <tr>\n",
       "      <th>20</th>\n",
       "      <td>bis 19 Jahre</td>\n",
       "      <td>0</td>\n",
       "      <td>Frauen</td>\n",
       "      <td>361261</td>\n",
       "    </tr>\n",
       "    <tr>\n",
       "      <th>0</th>\n",
       "      <td>20 bis 24 Jahre</td>\n",
       "      <td>20</td>\n",
       "      <td>Frauen</td>\n",
       "      <td>400062</td>\n",
       "    </tr>\n",
       "    <tr>\n",
       "      <th>1</th>\n",
       "      <td>20 bis 24 Jahre</td>\n",
       "      <td>20</td>\n",
       "      <td>Männer</td>\n",
       "      <td>466050</td>\n",
       "    </tr>\n",
       "    <tr>\n",
       "      <th>3</th>\n",
       "      <td>25 bis 29 Jahre</td>\n",
       "      <td>25</td>\n",
       "      <td>Männer</td>\n",
       "      <td>262124</td>\n",
       "    </tr>\n",
       "    <tr>\n",
       "      <th>2</th>\n",
       "      <td>25 bis 29 Jahre</td>\n",
       "      <td>25</td>\n",
       "      <td>Frauen</td>\n",
       "      <td>283716</td>\n",
       "    </tr>\n",
       "    <tr>\n",
       "      <th>4</th>\n",
       "      <td>30 bis 34 Jahre</td>\n",
       "      <td>30</td>\n",
       "      <td>Frauen</td>\n",
       "      <td>302513</td>\n",
       "    </tr>\n",
       "    <tr>\n",
       "      <th>5</th>\n",
       "      <td>30 bis 34 Jahre</td>\n",
       "      <td>30</td>\n",
       "      <td>Männer</td>\n",
       "      <td>223481</td>\n",
       "    </tr>\n",
       "    <tr>\n",
       "      <th>6</th>\n",
       "      <td>35 bis 39 Jahre</td>\n",
       "      <td>35</td>\n",
       "      <td>Frauen</td>\n",
       "      <td>306710</td>\n",
       "    </tr>\n",
       "    <tr>\n",
       "      <th>7</th>\n",
       "      <td>35 bis 39 Jahre</td>\n",
       "      <td>35</td>\n",
       "      <td>Männer</td>\n",
       "      <td>187698</td>\n",
       "    </tr>\n",
       "    <tr>\n",
       "      <th>8</th>\n",
       "      <td>40 bis 44 Jahre</td>\n",
       "      <td>40</td>\n",
       "      <td>Frauen</td>\n",
       "      <td>263007</td>\n",
       "    </tr>\n",
       "    <tr>\n",
       "      <th>9</th>\n",
       "      <td>40 bis 44 Jahre</td>\n",
       "      <td>40</td>\n",
       "      <td>Männer</td>\n",
       "      <td>148498</td>\n",
       "    </tr>\n",
       "    <tr>\n",
       "      <th>10</th>\n",
       "      <td>45 bis 49 Jahre</td>\n",
       "      <td>45</td>\n",
       "      <td>Frauen</td>\n",
       "      <td>208437</td>\n",
       "    </tr>\n",
       "    <tr>\n",
       "      <th>11</th>\n",
       "      <td>45 bis 49 Jahre</td>\n",
       "      <td>45</td>\n",
       "      <td>Männer</td>\n",
       "      <td>124024</td>\n",
       "    </tr>\n",
       "    <tr>\n",
       "      <th>13</th>\n",
       "      <td>50 bis 54 Jahre</td>\n",
       "      <td>50</td>\n",
       "      <td>Männer</td>\n",
       "      <td>107619</td>\n",
       "    </tr>\n",
       "    <tr>\n",
       "      <th>12</th>\n",
       "      <td>50 bis 54 Jahre</td>\n",
       "      <td>50</td>\n",
       "      <td>Frauen</td>\n",
       "      <td>151311</td>\n",
       "    </tr>\n",
       "    <tr>\n",
       "      <th>14</th>\n",
       "      <td>55 bis 59 Jahre</td>\n",
       "      <td>55</td>\n",
       "      <td>Frauen</td>\n",
       "      <td>81468</td>\n",
       "    </tr>\n",
       "    <tr>\n",
       "      <th>15</th>\n",
       "      <td>55 bis 59 Jahre</td>\n",
       "      <td>55</td>\n",
       "      <td>Männer</td>\n",
       "      <td>83950</td>\n",
       "    </tr>\n",
       "    <tr>\n",
       "      <th>16</th>\n",
       "      <td>60 bis 64 Jahre</td>\n",
       "      <td>60</td>\n",
       "      <td>Frauen</td>\n",
       "      <td>3938</td>\n",
       "    </tr>\n",
       "    <tr>\n",
       "      <th>17</th>\n",
       "      <td>60 bis 64 Jahre</td>\n",
       "      <td>60</td>\n",
       "      <td>Männer</td>\n",
       "      <td>27121</td>\n",
       "    </tr>\n",
       "    <tr>\n",
       "      <th>18</th>\n",
       "      <td>65 Jahre und älter</td>\n",
       "      <td>65</td>\n",
       "      <td>Frauen</td>\n",
       "      <td>180</td>\n",
       "    </tr>\n",
       "    <tr>\n",
       "      <th>19</th>\n",
       "      <td>65 Jahre und älter</td>\n",
       "      <td>65</td>\n",
       "      <td>Männer</td>\n",
       "      <td>371</td>\n",
       "    </tr>\n",
       "  </tbody>\n",
       "</table>\n",
       "</div>"
      ],
      "text/plain": [
       "          Altersgruppe  Alter_von Geschlecht  BESTAND\n",
       "21        bis 19 Jahre          0     Männer   502150\n",
       "20        bis 19 Jahre          0     Frauen   361261\n",
       "0      20 bis 24 Jahre         20     Frauen   400062\n",
       "1      20 bis 24 Jahre         20     Männer   466050\n",
       "3      25 bis 29 Jahre         25     Männer   262124\n",
       "2      25 bis 29 Jahre         25     Frauen   283716\n",
       "4      30 bis 34 Jahre         30     Frauen   302513\n",
       "5      30 bis 34 Jahre         30     Männer   223481\n",
       "6      35 bis 39 Jahre         35     Frauen   306710\n",
       "7      35 bis 39 Jahre         35     Männer   187698\n",
       "8      40 bis 44 Jahre         40     Frauen   263007\n",
       "9      40 bis 44 Jahre         40     Männer   148498\n",
       "10     45 bis 49 Jahre         45     Frauen   208437\n",
       "11     45 bis 49 Jahre         45     Männer   124024\n",
       "13     50 bis 54 Jahre         50     Männer   107619\n",
       "12     50 bis 54 Jahre         50     Frauen   151311\n",
       "14     55 bis 59 Jahre         55     Frauen    81468\n",
       "15     55 bis 59 Jahre         55     Männer    83950\n",
       "16     60 bis 64 Jahre         60     Frauen     3938\n",
       "17     60 bis 64 Jahre         60     Männer    27121\n",
       "18  65 Jahre und älter         65     Frauen      180\n",
       "19  65 Jahre und älter         65     Männer      371"
      ]
     },
     "execution_count": 92,
     "metadata": {},
     "output_type": "execute_result"
    }
   ],
   "source": [
    "# Vorbereitung der Daten für Plot \n",
    "grouped_data = merged_df.groupby(['Altersgruppe', 'Alter_von','Geschlecht'], observed=True)['BESTAND'].sum().reset_index()\n",
    "# Bestände von 0 sind immer überflüssige Rows\n",
    "grouped_data.drop(grouped_data[grouped_data['BESTAND'] == 0].index, inplace=True)\n",
    "grouped_data.sort_values(by='Alter_von', inplace=True)\n",
    "grouped_data"
   ]
  },
  {
   "cell_type": "code",
   "execution_count": 93,
   "id": "509b4b5dac36ca9b",
   "metadata": {
    "ExecuteTime": {
     "end_time": "2024-10-05T16:48:35.028175Z",
     "start_time": "2024-10-05T16:48:33.911Z"
    }
   },
   "outputs": [
    {
     "data": {
      "image/png": "[encoded data removed]",
      "text/plain": [
       "<Figure size 1500x800 with 1 Axes>"
      ]
     },
     "metadata": {},
     "output_type": "display_data"
    }
   ],
   "source": [
    "# Anzahl der SchulungsteilnehmerInnen pro Altersgruppe pro Geschlecht von 2019 bis 2024\n",
    "plt.figure(figsize=(15, 8))\n",
    "ax = sns.barplot(data=grouped_data, x='Altersgruppe', y='BESTAND', hue='Geschlecht')\n",
    "\n",
    "plt.title('SchulungsteilnehmerInnen pro Altersgruppe pro Geschlecht von 2019 - 2024')\n",
    "plt.ylabel('Summe von SchulungsteilnehmerInnen')\n",
    "plt.xticks(rotation=45, ha='right')\n",
    "plt.gca().yaxis.set_major_formatter(ticker.StrMethodFormatter('{x:,.0f}'))\n",
    "\n",
    "for container in ax.containers:\n",
    "    ax.bar_label(container, fmt='{:,.0f}', label_type='edge', padding=5, )\n",
    "\n",
    "plt.grid()\n",
    "plt.show()"
   ]
  },
  {
   "cell_type": "code",
   "execution_count": 94,
   "id": "6b48c6c11ae05b9",
   "metadata": {
    "ExecuteTime": {
     "end_time": "2024-10-05T16:48:36.270890Z",
     "start_time": "2024-10-05T16:48:35.032751Z"
    }
   },
   "outputs": [
    {
     "data": {
      "image/png": "[encoded data removed]",
      "text/plain": [
       "<Figure size 1000x600 with 1 Axes>"
      ]
     },
     "metadata": {},
     "output_type": "display_data"
    }
   ],
   "source": [
    "# Anzahl der SchulungsteilnehmerInnen pro Altersgruppe von 2019 bis 2024\n",
    "grouped_data = merged_df.groupby(['Altersgruppe', 'Alter_von'])['BESTAND'].sum().reset_index().sort_values(by='Alter_von')\n",
    "\n",
    "plt.figure(figsize=(10, 6))\n",
    "ax = sns.barplot(data=grouped_data, x='Altersgruppe', y='BESTAND', hue='Altersgruppe')\n",
    "\n",
    "plt.title('SchulungsteilnehmerInnen pro Altersgruppe von 2019 - 2024')\n",
    "plt.ylabel('Summe von SchulungsteilnehmerInnen')\n",
    "plt.xticks(rotation=45, ha='right')\n",
    "plt.gca().yaxis.set_major_formatter(ticker.StrMethodFormatter('{x:,.0f}'))\n",
    "\n",
    "max_value = grouped_data['BESTAND'].max()\n",
    "plt.ylim(0, max_value * 1.1)\n",
    "\n",
    "for container in ax.containers:\n",
    "    ax.bar_label(container, fmt='{:,.0f}', label_type='edge', padding=5)\n",
    "\n",
    "plt.grid()\n",
    "plt.show()"
   ]
  },
  {
   "cell_type": "code",
   "execution_count": 95,
   "id": "6a0e178fcff340d9",
   "metadata": {
    "ExecuteTime": {
     "end_time": "2024-10-05T16:48:37.033505Z",
     "start_time": "2024-10-05T16:48:36.274932Z"
    }
   },
   "outputs": [
    {
     "name": "stderr",
     "output_type": "stream",
     "text": [
      "C:\\anaconda\\Lib\\site-packages\\seaborn\\_oldcore.py:1119: FutureWarning: use_inf_as_na option is deprecated and will be removed in a future version. Convert inf values to NaN before operating instead.\n",
      "  with pd.option_context('mode.use_inf_as_na', True):\n",
      "C:\\anaconda\\Lib\\site-packages\\seaborn\\_oldcore.py:1119: FutureWarning: use_inf_as_na option is deprecated and will be removed in a future version. Convert inf values to NaN before operating instead.\n",
      "  with pd.option_context('mode.use_inf_as_na', True):\n"
     ]
    },
    {
     "data": {
      "image/png": "[encoded data removed]",
      "text/plain": [
       "<Figure size 1000x600 with 1 Axes>"
      ]
     },
     "metadata": {},
     "output_type": "display_data"
    }
   ],
   "source": [
    "# Veränderung der Anzahl der SchulungsteilnehmerInnen von 2019 bis 2024\n",
    "grouped_data = df.groupby('Datum')['BESTAND'].sum().reset_index()\n",
    "\n",
    "plt.figure(figsize=(10, 6))\n",
    "sns.lineplot(data=grouped_data, x='Datum', y='BESTAND', marker='o')\n",
    "\n",
    "plt.title('SchulungsteilnehmerInnen-Veränderung von 2019 - 2024')\n",
    "plt.xlabel('Datum')\n",
    "plt.ylabel('Summe von SchulungsteilnehmerInnen')\n",
    "plt.xticks(rotation=45)\n",
    "plt.grid(True)\n",
    "plt.show()"
   ]
  },
  {
   "cell_type": "code",
   "execution_count": 96,
   "id": "9211c40d01980b30",
   "metadata": {
    "ExecuteTime": {
     "end_time": "2024-10-05T16:48:37.563487Z",
     "start_time": "2024-10-05T16:48:37.036531Z"
    }
   },
   "outputs": [
    {
     "name": "stderr",
     "output_type": "stream",
     "text": [
      "C:\\anaconda\\Lib\\site-packages\\seaborn\\_oldcore.py:1119: FutureWarning: use_inf_as_na option is deprecated and will be removed in a future version. Convert inf values to NaN before operating instead.\n",
      "  with pd.option_context('mode.use_inf_as_na', True):\n",
      "C:\\anaconda\\Lib\\site-packages\\seaborn\\_oldcore.py:1119: FutureWarning: use_inf_as_na option is deprecated and will be removed in a future version. Convert inf values to NaN before operating instead.\n",
      "  with pd.option_context('mode.use_inf_as_na', True):\n"
     ]
    },
    {
     "data": {
      "image/png": "[encoded data removed]",
      "text/plain": [
       "<Figure size 1000x600 with 1 Axes>"
      ]
     },
     "metadata": {},
     "output_type": "display_data"
    }
   ],
   "source": [
    "# Anzahl der SchulungsteilnehmerInnen mit unbestimmtem Berufswunsch von 2019 bis 2024\n",
    "grouped_data = df_unbest.groupby(['Datum'])['BESTAND'].sum().reset_index()\n",
    "\n",
    "plt.figure(figsize=(10, 6))\n",
    "ax = sns.lineplot(data=grouped_data, x='Datum', marker='o', y='BESTAND')\n",
    "\n",
    "plt.title('SchulungsteilnehmerInnen mit unbestimmten Berufswunsch von 2019 - 2024')\n",
    "plt.ylabel('Summe von SchulungsteilnehmerInnen')\n",
    "plt.xticks(rotation=45, ha='right')\n",
    "\n",
    "plt.grid(True)\n",
    "plt.show()"
   ]
  },
  {
   "cell_type": "code",
   "execution_count": 97,
   "id": "758bb447103db87a",
   "metadata": {
    "ExecuteTime": {
     "end_time": "2024-10-05T16:48:38.083864Z",
     "start_time": "2024-10-05T16:48:37.567564Z"
    }
   },
   "outputs": [
    {
     "name": "stderr",
     "output_type": "stream",
     "text": [
      "C:\\anaconda\\Lib\\site-packages\\seaborn\\_oldcore.py:1119: FutureWarning: use_inf_as_na option is deprecated and will be removed in a future version. Convert inf values to NaN before operating instead.\n",
      "  with pd.option_context('mode.use_inf_as_na', True):\n",
      "C:\\anaconda\\Lib\\site-packages\\seaborn\\_oldcore.py:1119: FutureWarning: use_inf_as_na option is deprecated and will be removed in a future version. Convert inf values to NaN before operating instead.\n",
      "  with pd.option_context('mode.use_inf_as_na', True):\n"
     ]
    },
    {
     "data": {
      "image/png": "[encoded data removed]",
      "text/plain": [
       "<Figure size 1000x600 with 1 Axes>"
      ]
     },
     "metadata": {},
     "output_type": "display_data"
    }
   ],
   "source": [
    "# Anzahl der SchulungsteilnehmerInnen mit NaN Berufswunsch von 2019 bis 2024\n",
    "grouped_data = df_nan.groupby(['Datum'])['BESTAND'].sum().reset_index()\n",
    "\n",
    "plt.figure(figsize=(10, 6))\n",
    "ax = sns.lineplot(data=grouped_data, x='Datum', marker='o', y='BESTAND')\n",
    "\n",
    "plt.title('SchulungsteilnehmerInnen mit unbestimmten Berufswunsch von 2019 - 2024')\n",
    "plt.ylabel('Summe von SchulungsteilnehmerInnen')\n",
    "plt.xticks(rotation=45, ha='right')\n",
    "\n",
    "plt.grid(True)\n",
    "plt.show()"
   ]
  },
  {
   "cell_type": "code",
   "execution_count": null,
   "id": "124d90370c52b40b",
   "metadata": {
    "ExecuteTime": {
     "end_time": "2024-10-05T16:48:39.910908Z",
     "start_time": "2024-10-05T16:48:38.088427Z"
    }
   },
   "outputs": [],
   "source": [
    "# Anzahl der SchulungsteilnehmerInnen pro Berufsobergruppe von 2019 bis 2024\n",
    "grouped_data = merged_df.groupby(['Berufsobergruppe'])['BESTAND'].sum().reset_index()\n",
    "ilp = px.bar(grouped_data, \n",
    "    x='Berufsobergruppe', \n",
    "    y='BESTAND', \n",
    "    color='Berufsobergruppe',\n",
    "    title=\"SchulungsteilnehmerInnen pro Berufsobergruppe von 2019 - 2024\",\n",
    "    labels={\"Berufsobergruppe\": \"Obergruppen der Berufe\", \"BESTAND\": \"Bestand\"} # labels the axes\n",
    "    )\n",
    "\n",
    "\n",
    "# add legend\n",
    "ilp.update_layout(\n",
    "    xaxis=dict(showticklabels=False),\n",
    "    legend_title_text='Berufsobergruppe', \n",
    "    width=1200, \n",
    "    height=600,\n",
    "    legend=dict(\n",
    "        orientation=\"v\", # vertical\n",
    "        font=dict(size=10)\n",
    "    )\n",
    ")\n",
    "\n",
    "ilp.show()\n"
   ]
  },
  {
   "cell_type": "code",
   "execution_count": null,
   "id": "cbbce824746076",
   "metadata": {
    "ExecuteTime": {
     "end_time": "2024-10-05T16:48:40.753994Z",
     "start_time": "2024-10-05T16:48:39.913945Z"
    }
   },
   "outputs": [],
   "source": [
    "# Anzahl der SchulungsteilnehmerInnen pro Berufsobergruppe von 2019 bis 2024\n",
    "grouped_data = merged_df.groupby(['Berufsobergruppe'])['BESTAND'].sum().reset_index()\n",
    "\n",
    "fig = px.treemap(\n",
    "    grouped_data, \n",
    "    path=['Berufsobergruppe'],\n",
    "    values='BESTAND',\n",
    "    title='SchulungsteilnehmerInnen pro Berufsobergruppe von 2019 - 2024',\n",
    "    color='BESTAND',\n",
    "    color_continuous_scale='Viridis'\n",
    ")\n",
    "\n",
    "# Update layout to ensure clear labeling\n",
    "fig.update_traces(textinfo='label+value+percent entry')  # Show label, value, and percentage on each box\n",
    "fig.update_traces(hovertemplate='<b>Label:</b> %{label}<br>'\n",
    "                                '<b>Value:</b> %{value}<br>'\n",
    "                                '<b>Percentage:</b> %{percentRoot:.0%}<extra></extra>')\n",
    "\n",
    "fig.show()"
   ]
  },
  {
   "cell_type": "code",
   "execution_count": null,
   "id": "c78faa4217c26c9a",
   "metadata": {
    "ExecuteTime": {
     "end_time": "2024-10-05T16:48:42.788703Z",
     "start_time": "2024-10-05T16:48:40.758017Z"
    }
   },
   "outputs": [],
   "source": [
    "# Top 10 Jobwünsche von 2019 bis 2024\n",
    "grouped_data = merged_df.groupby(['Berufs4StellerBez'])['BESTAND'].sum().reset_index().sort_values(by='BESTAND', ascending=False)\n",
    "grouped_data = grouped_data[:10]\n",
    "\n",
    "plt.figure(figsize=(10, 6))\n",
    "ax = sns.barplot(data=grouped_data, x='Berufs4StellerBez', y='BESTAND', hue='Berufs4StellerBez')\n",
    "\n",
    "plt.title('Top 10 Jobwünsche von 2019 - 2024')\n",
    "plt.ylabel('Summe von Jobwünschen')\n",
    "plt.xticks(rotation=45, ha='right')\n",
    "plt.gca().yaxis.set_major_formatter(ticker.StrMethodFormatter('{x:,.0f}'))\n",
    "\n",
    "max_value = grouped_data['BESTAND'].max()\n",
    "plt.ylim(0, max_value * 1.1)\n",
    "\n",
    "for container in ax.containers:\n",
    "    ax.bar_label(container, fmt='{:,.0f}', label_type='edge', padding=5)\n",
    "\n",
    "plt.grid()\n",
    "plt.show()"
   ]
  },
  {
   "cell_type": "code",
   "execution_count": null,
   "id": "27db34374902fb4",
   "metadata": {
    "ExecuteTime": {
     "end_time": "2024-10-05T16:48:43.596602Z",
     "start_time": "2024-10-05T16:48:42.791257Z"
    }
   },
   "outputs": [],
   "source": [
    "# Top 3 Berufswünsche pro Jahr auswählen\n",
    "grouped_data = merged_df.groupby([merged_df['Datum'].dt.year, 'Berufs4StellerBez'])['BESTAND'].sum().reset_index()\n",
    "grouped_data = grouped_data.groupby('Datum').apply(lambda x: x.nlargest(3, 'BESTAND')).reset_index(drop=True)\n",
    "\n",
    "grouped_data"
   ]
  },
  {
   "cell_type": "code",
   "execution_count": null,
   "id": "3fb2fa96e04b06b4",
   "metadata": {
    "ExecuteTime": {
     "end_time": "2024-10-05T16:48:44.152419Z",
     "start_time": "2024-10-05T16:48:43.598138Z"
    }
   },
   "outputs": [],
   "source": [
    "# Top 3 Jobwünsche pro Jahr von 2019 bis 2024\n",
    "plt.figure(figsize=(16, 8))\n",
    "ax = sns.barplot(data=grouped_data, x='Datum', y='BESTAND', hue='Berufs4StellerBez', width=0.5)\n",
    "\n",
    "plt.title('Top 3 Jobwünsche pro Jahr von 2019 - 2024')\n",
    "plt.ylabel('Summe von Jobwünschen')\n",
    "plt.xticks(rotation=45, ha='right')\n",
    "plt.gca().yaxis.set_major_formatter(ticker.StrMethodFormatter('{x:,.0f}'))\n",
    "\n",
    "max_value = grouped_data['BESTAND'].max()\n",
    "plt.ylim(0, max_value * 1.1)\n",
    "\n",
    "for container in ax.containers:\n",
    "    labels = ax.bar_label(container, fmt='{:,.0f}', label_type='edge', padding=3)\n",
    "    for label in labels:\n",
    "        #label.set_rotation(45)\n",
    "        label.set_horizontalalignment('left')     \n",
    "    \n",
    "plt.legend(title='Berufsbezeichnung', bbox_to_anchor=(1, 1), loc='upper left')\n",
    "plt.grid()\n",
    "plt.show()"
   ]
  },
  {
   "cell_type": "code",
   "execution_count": null,
   "id": "c5151c4a045dae88",
   "metadata": {
    "ExecuteTime": {
     "end_time": "2024-10-05T16:48:44.157538Z",
     "start_time": "2024-10-05T16:48:44.154429Z"
    }
   },
   "outputs": [],
   "source": []
  },
  {
   "cell_type": "markdown",
   "id": "277ea477-7d0c-407b-970e-212d64b5ec94",
   "metadata": {},
   "source": [
    "## E3 - Formulate hypotheses\n",
    "\n",
    "*Note: Read this section entirely and understand it - every group member.*\n",
    "\n",
    "A hypothesis is an idea or explanation for something that is based on known facts but has not yet been proved. A hypothesis is a compact, concise statement, such as: \"Individuals with higher income have (on average) more offspring.\", that will be answered based on facts (the data). https://gradcoach.com/what-is-a-research-hypothesis-or-scientific-hypothesis/\n",
    "\n",
    "Formulate *N* non-trivial hypotheses, 1 per group member, and regard the following criteria: \n",
    "- State the hypothesis explicitly in concise language. \n",
    "- The hypothesis must be **motivated** by either **EDA results** or **literature** (citation in the report needed).\n",
    "- The hypothesis must refer to **endpoints** that are **testable**. Specifically, the endpoint must be derived from the data.\n",
    "- Think of real-life use cases/consequences of your results (textual description). \n",
    "- For each hypothesis explain all executed steps. \n",
    "- In case of extreme or implausible results check the validity of your data.\n",
    "- For each hypothesis export the artifacts (figures, tables, etc.) required for the report.\n",
    "- If you decide to use a statistical test, use it properly. In particular, check the validity and comparability of the samples.\n",
    "\n",
    "Do not:\n",
    "- State nebulous, vague hypotheses. These don't contain endpoints and are unclear to test (i.e., answer).\n",
    "- Use post-hoc hypotheses. Portraying an empirically inspired **post hoc hypothesis as a priori** violates the **falsification principle** crucial for hypothesis-driven (that is, confirmatory) empirical research. Falsification is severe scientific fraud.\n",
    "- State trivial hypotheses (e.g., hypthesis 2: \"Not Hypothesis 1\").\n",
    "- Answer based on \"common knowledge\".\n",
    "- Try to **produce positively tested hypotheses**. If a well motivated hypothesis is negative, this is an important finding (see Simpson's Paradox). The value of a tested hypothesis lies in the information or learning it provides.\n",
    "\n",
    "Example: The homework with Simpson's Paradox. The pooled overall comparison between the genders would be the EDA motivating the hypothesis: \"At UC Berkeley the by-department admissions rate for females is lower than for males.\" It should be tested using samples of department admission rates for the 2 **groups** male and female. No steps of the test should be done in EDA (or a priory to stating the hypothesis). The groups should be compared graphically, e.g., via a stripplot overlayed with a boxplot. The figure should be labelled properly and exported for the report. A (paired) t-test **may** be used (it's optional) to test this hypothesis statistically. For different data (e.g., time series) different approaches may be required. You don't have to use statistical tests, in particular if you don't know what they are doing.\n"
   ]
  },
  {
   "cell_type": "markdown",
   "id": "09613f9f-d3ff-4b8d-b975-88437a72815c",
   "metadata": {},
   "source": [
    "### E3-H1: \"xxx\"\n",
    "Author: Group member 1\n"
   ]
  },
  {
   "cell_type": "code",
   "execution_count": null,
   "id": "702cdce9-5d4f-41f3-8b9e-a4363ec5d8d5",
   "metadata": {
    "ExecuteTime": {
     "end_time": "2024-10-05T16:48:44.163583Z",
     "start_time": "2024-10-05T16:48:44.159553Z"
    }
   },
   "outputs": [],
   "source": [
    "# hypothesen:\n",
    "# Anzahl der Frauen, die Ausb. im Bereich Technik machen, ist von 2019 bis 2024 signifikant angestiegen\n",
    "# Anzahl der Frauen, die Ausb. im Bereich Technik machen, ist in Wien (und Graz) signifikant höher als im Rest Österreichs"
   ]
  },
  {
   "cell_type": "markdown",
   "id": "8a404fa7-19f3-49bc-adc7-9a6ae07da0c9",
   "metadata": {},
   "source": [
    "### E3-H2: \"xxx\"\n",
    "Author: Group member 2\n",
    "\n"
   ]
  },
  {
   "cell_type": "code",
   "execution_count": null,
   "id": "4a3711e0-13d6-4115-9d64-c9f154d27f7f",
   "metadata": {
    "ExecuteTime": {
     "end_time": "2024-10-05T16:48:44.169683Z",
     "start_time": "2024-10-05T16:48:44.165122Z"
    }
   },
   "outputs": [],
   "source": []
  },
  {
   "cell_type": "markdown",
   "id": "70e60944-b857-4a32-872a-6db028c51c87",
   "metadata": {
    "tags": []
   },
   "source": [
    "### E3-H3: \"xxx\"\n",
    "Author: Group member 3\n"
   ]
  },
  {
   "cell_type": "code",
   "execution_count": null,
   "id": "6bf1314d-47bb-4440-90f9-bef900320597",
   "metadata": {
    "ExecuteTime": {
     "end_time": "2024-10-05T16:48:44.174353Z",
     "start_time": "2024-10-05T16:48:44.170699Z"
    }
   },
   "outputs": [],
   "source": []
  },
  {
   "cell_type": "markdown",
   "id": "ede91b90-ee3d-40c0-b2c4-4712413fe0e6",
   "metadata": {
    "tags": []
   },
   "source": [
    "### E3-H4: \"xxx\"\n",
    "Author: Group member 4\n"
   ]
  },
  {
   "cell_type": "code",
   "execution_count": null,
   "id": "710a7064-05e8-4d52-9c1b-a6dcd143a4ae",
   "metadata": {
    "ExecuteTime": {
     "end_time": "2024-10-05T16:48:44.179880Z",
     "start_time": "2024-10-05T16:48:44.176369Z"
    }
   },
   "outputs": [],
   "source": []
  },
  {
   "cell_type": "markdown",
   "id": "5da06647-b803-4ad3-8e40-b372cf7044df",
   "metadata": {
    "tags": []
   },
   "source": [
    "### E3-H5: \"xxx\"\n",
    "Author: Group member 5\n"
   ]
  },
  {
   "cell_type": "code",
   "execution_count": null,
   "id": "9f174ed8-3291-4b1e-80a3-ea441b7efc19",
   "metadata": {
    "ExecuteTime": {
     "end_time": "2024-10-05T16:48:44.184473Z",
     "start_time": "2024-10-05T16:48:44.181894Z"
    }
   },
   "outputs": [],
   "source": []
  }
 ],
 "metadata": {
  "kernelspec": {
   "display_name": "Python 3 (ipykernel)",
   "language": "python",
   "name": "python3"
  },
  "language_info": {
   "codemirror_mode": {
    "name": "ipython",
    "version": 3
   },
   "file_extension": ".py",
   "mimetype": "text/x-python",
   "name": "python",
   "nbconvert_exporter": "python",
   "pygments_lexer": "ipython3",
   "version": "3.11.7"
  }
 },
 "nbformat": 4,
 "nbformat_minor": 5
}
