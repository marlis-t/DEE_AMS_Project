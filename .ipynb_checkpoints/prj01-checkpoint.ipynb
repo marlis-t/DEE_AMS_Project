{
 "cells": [
  {
   "cell_type": "markdown",
   "id": "e12ece56-fcd4-4665-bf8b-773b5e8c789d",
   "metadata": {
    "tags": []
   },
   "source": [
    "# Project 1 - Data Engineering\n",
    "## 2 Data Exploration and Analysis\n",
    "This notebook is for the implementation of task \"2 Data Exploration and Analysis\", as listed in the **Project Instructions**."
   ]
  },
  {
   "metadata": {},
   "cell_type": "raw",
   "source": [
    "<div class=\"alert alert-success\">\n",
    "<b>Overview:</b><br>\n",
    "Data Exploration and Analysis consists of the following parts worth 70 points:\n",
    "<ul>\n",
    "    <li><b>E1 - Obtain and Scrub</b> (15 points)</li>\n",
    "    <li><b>E2 - Exploratory data analysis (EDA) </b>(20 points)</li>\n",
    "    <li><b>E3 - Formulate hypotheses </b>(25 points)</li>\n",
    "    <li><b>Follow the guidelines for Data Exploration and Analysis below </b>(10 points)</li>\n",
    "</ul></div>"
   ],
   "id": "2c197e0ce980e51a"
  },
  {
   "metadata": {},
   "cell_type": "raw",
   "source": [
    "<div class=\"alert alert-success\">\n",
    "<b>Guidelines for Data Exploration and Analysis:</b><br>\n",
    "    <ol>\n",
    "        <li>Use a single Jupyer notebook for your project.</li>\n",
    "        <li>Use only Python-code for your project.</li>\n",
    "        <li>The use of automatic and semi-automatic data analyis tools is not allowed (e. g., PandasGUI, D-Tale, Mito, etc.). Only use packages we used in the coded lectures.</li>\n",
    "        <li>Export your environment for submission as 'prj01-environment.txt'.</li>\n",
    "        <li>Upload your resulting work as a zip file containing only a single jupyter notebook and required files to run the notebook. All cell outputs and <b>figures must display in jupyter lab</b>. (Test this, in particular when you use another environment like VS Code.)</li>\n",
    "        <li>All code cells in your notebook must be runnable without errors or warnings (e. g., deprecated functions). Each error/warning subtracts -2 points (up to the full 10 points for following the  guidelines).</li>\n",
    "        <li>Use only relative paths in your project.</li>\n",
    "        <li>Avoid (excessive) code duplication.</li>\n",
    "        <li>Avoid loops iterating over pandas objects (Series, DataFrames). Explicitly justify each exception via a comment. </li>\n",
    "        <li>All coded steps in your analysis must be commented.</li>\n",
    "        <li>Keep your code as well as outputs short, precise and readable. Each long or unnecessary output subtracts -2 points (up to the full 10 points for following the project guidelines).</li>\n",
    "    </ol>\n",
    "    <b>Late submissions are not accepted and earn you 0 points on the python project. </b>\n",
    "</div>"
   ],
   "id": "c47a314441230019"
  },
  {
   "cell_type": "markdown",
   "id": "ea992ba9-f942-445d-a515-16dc32837466",
   "metadata": {},
   "source": [
    "Explicitly list which notebook toolset was used (jupyter lab/jupyter notebook/VS Code/etc.) \n",
    "\n",
    "**here**: Jupyter Notebook, Pycharm"
   ]
  },
  {
   "cell_type": "markdown",
   "id": "92f63424-1d61-4b8b-94a6-f50afea65d79",
   "metadata": {
    "tags": []
   },
   "source": [
    "Explicitly and clearly state the chosen dataset number and title:\n",
    "### Arbeitsmarkt ODÖ \n",
    "## 99. Gesamtübersicht über die Arbeitslosigkeit - Bestand, Zugang, Abgang\n"
   ]
  },
  {
   "cell_type": "markdown",
   "id": "0999a549-323a-4537-963f-3a1a746b77fd",
   "metadata": {},
   "source": [
    "## E1 - Obtain and Scrub"
   ]
  },
  {
   "metadata": {},
   "cell_type": "raw",
   "source": [
    "### Obtain\n",
    "Download the dataset and understand both: \n",
    "- format: wide vs. long, separaters, decimal points, encoding, etc., and \n",
    "- content: what variables are in the columns, what is their meaning?\n",
    "To this end, identify and download metadata such as headers, category listings, explanatory reports, etc.\n",
    "### Scrub\n",
    "The aim of scrub is to create a clean version of the data for further analysis. \n",
    "- Load the dataset and take care of dtypes (dates, numbers, categories, etc.). Justify why you don't load/use specific columns.\n",
    "- Check for footnotes or any other notifications on special cell content, such as time series breaks. Follow up that information, and document your decision how to deal with it. Remember: A homework contained such info in the cell \"76.1 b\". The metadata defines what that \"b\" stands for.\n",
    "![image.png](attachment:8eab5647-0d31-4875-a3ac-990349e90b76.png)\n",
    "- Choose an appropriate (Multi-)Index.\n",
    "- Identify:\n",
    "    1. missing values and get row and column overviews. Use graphical and/or numeric approaches. Once identified, handle missing values according to column type, time series property and data set size.\n",
    "    2. duplicates (justify the used column subset). Remove duplicates - if any - and inspect what you removed.\n",
    "- Transform to shape (tidy vs. wide) best suited for further analysis.\n",
    "- Export the clean data to a file for inspection with an external data browser (e.g., MS Excel).\n",
    "- Provide an overview of the clean dataset:\n",
    "    1. show the dtypes\n",
    "    2. quantitative column descriptions: \n",
    "        1. categorical columns: number of unique values, counts \n",
    "        2. numeric columns: range and median"
   ],
   "id": "6cf3d8fa17b2545c"
  },
  {
   "metadata": {
    "ExecuteTime": {
     "end_time": "2024-10-05T16:40:42.274761Z",
     "start_time": "2024-10-05T16:40:42.266216Z"
    }
   },
   "cell_type": "code",
   "source": [
    "# E0: setup imports\n",
    "import pandas as pd\n",
    "import numpy as np\n",
    "import matplotlib.pyplot as plt\n",
    "import matplotlib.ticker as ticker\n",
    "import seaborn as sns\n",
    "import geopandas as gpd\n",
    "import plotly.express as px\n",
    "import re\n"
   ],
   "id": "1575f46ccbe064d",
   "outputs": [],
   "execution_count": 2
  },
  {
   "cell_type": "code",
   "id": "cec63c55-0a55-4b05-943f-565ed1aa2b06",
   "metadata": {
    "jupyter": {
     "is_executing": true
    }
   },
   "source": [
    "# E1:\n",
    "# Personen in Schulung nach Alter und Berufswunsch - Bestand\n",
    "# read csv file\n",
    "df = pd.read_csv('Bestand_SC_Alter_Berufswunsch_RGS.csv', sep=';', encoding = 'ISO-8859-1', parse_dates=[\"Datum\"])\n",
    "\n",
    "df.info(), df['Unnamed: 8'].nunique()\n",
    "# df['Unnamed 8'].describe()"
   ],
   "outputs": [],
   "execution_count": null
  },
  {
   "metadata": {
    "jupyter": {
     "is_executing": true
    }
   },
   "cell_type": "code",
   "source": [
    "# drop unnötige Column\n",
    "df.drop('Unnamed: 8', axis = 1, inplace = True)\n",
    "df.head()"
   ],
   "id": "2d913bd1fc1c6f52",
   "outputs": [],
   "execution_count": null
  },
  {
   "metadata": {
    "jupyter": {
     "is_executing": true
    }
   },
   "cell_type": "code",
   "source": [
    "# definiere Geschlecht als Category, da nie mehr Werte zugelassen sein sollen\n",
    "df['Geschlecht'] = df['Geschlecht'].astype('category') # only 2 values\n",
    "df"
   ],
   "id": "25cec24954e86da5",
   "outputs": [],
   "execution_count": null
  },
  {
   "metadata": {
    "jupyter": {
     "is_executing": true
    }
   },
   "cell_type": "code",
   "source": [
    "# Altersgruppe aufteilen, um Nummern separat als Int zu speichern (plotten, sortieren)\n",
    "def sep_age(age_range):\n",
    "    numbers = re.findall(r'\\d+', age_range)\n",
    "    if len(numbers) == 1:\n",
    "        if age_range.startswith('bis'):\n",
    "            return pd.Series([0, int(numbers[0])]) # bis 19 Jahre\n",
    "        else:\n",
    "            return pd.Series([int(numbers[0]), 99]) # 65 Jahre und älter\n",
    "    elif len(numbers) == 2:\n",
    "        # If two numbers, extract both as lower and upper bounds\n",
    "        return pd.Series([int(numbers[0]), int(numbers[1])])\n",
    "    return pd.Series([None, None])  # Fallback case (if no match)\n",
    " # Fill age_to with the found number\n",
    "age = df['Altersgruppe'].apply(sep_age)\n",
    "age"
   ],
   "id": "48c1910194815791",
   "outputs": [],
   "execution_count": null
  },
  {
   "metadata": {
    "jupyter": {
     "is_executing": true
    }
   },
   "cell_type": "code",
   "source": [
    "# erstellen neuer Columns, um Altersgrenzen zu speichern\n",
    "df['Alter_von'] = age[0]\n",
    "df['Alter_bis'] = age[1]\n",
    "df"
   ],
   "id": "bd8982894a1617e6",
   "outputs": [],
   "execution_count": null
  },
  {
   "metadata": {
    "jupyter": {
     "is_executing": true
    }
   },
   "cell_type": "code",
   "source": [
    "# Anzahlen von BerufsCode und Bezeichnung vergleichen\n",
    "print(df['Berufs4Steller'].nunique(), df['Berufs4StellerBez'].nunique())\n",
    "df['Datum'].value_counts()"
   ],
   "id": "d5cecafc4de657bc",
   "outputs": [],
   "execution_count": null
  },
  {
   "metadata": {
    "jupyter": {
     "is_executing": true
    }
   },
   "cell_type": "code",
   "source": [
    "# fehlende Daten pro column anschauen\n",
    "missing_data = df.isnull().sum()\n",
    "missing_percentages = round((missing_data / len(df)) * 100, 2)\n",
    "\n",
    "missing_percentages.sort_values(ascending=False)"
   ],
   "id": "9b628c9cc70557c8",
   "outputs": [],
   "execution_count": null
  },
  {
   "metadata": {
    "jupyter": {
     "is_executing": true
    }
   },
   "cell_type": "code",
   "source": [
    "# erstellen eines neuen Datasets, welche Nan-Values enthält - für spätere Untersuchung\n",
    "df_nan = df[df['Berufs4StellerBez'].isnull()] # dataset with NaN values (521 rows)\n",
    "print(df.shape)\n",
    "df.dropna(inplace=True)\n",
    "print(df.shape)"
   ],
   "id": "f1c985eb9e2f4d3c",
   "outputs": [],
   "execution_count": null
  },
  {
   "metadata": {
    "jupyter": {
     "is_executing": true
    }
   },
   "cell_type": "code",
   "source": [
    "# erstellen eines neuen Datasets, welche \"unbestimmte\"-Values enthält - für spätere Untersuchung\n",
    "df_unbest = df[df['Berufs4Steller']=='B9999'] # unbestimmt (nur Pst) ~Personenstammdaten? \n",
    "df_missing = pd.concat([df_unbest, df_nan])\n",
    "print(df_unbest.shape)\n",
    "print(f\"Missing values percentage: {round((len(df_unbest) / len(df)) * 100, 2)}\")\n",
    "df_missing"
   ],
   "id": "fbecf74026996492",
   "outputs": [],
   "execution_count": null
  },
  {
   "metadata": {
    "jupyter": {
     "is_executing": true
    }
   },
   "cell_type": "code",
   "source": [
    "# \"unbestimmte\" Daten aus dem Haupt-Dataset entfernen\n",
    "print(df.shape)\n",
    "df.drop(df[df['Berufs4Steller']=='B9999'].index, inplace=True)\n",
    "print(df.shape)"
   ],
   "id": "a350bf747a41fe30",
   "outputs": [],
   "execution_count": null
  },
  {
   "metadata": {
    "jupyter": {
     "is_executing": true
    }
   },
   "cell_type": "code",
   "source": [
    "# duplikate anzeigen; mit allen und einem Subset von Columns\n",
    "print(df[df.duplicated(keep=False)]) # completely duplicated rows\n",
    "subset = df.columns\n",
    "subset = subset.drop('BESTAND')\n",
    "print(df[df.duplicated(subset=subset, keep=False)])"
   ],
   "id": "b2224cbb9a45fad7",
   "outputs": [],
   "execution_count": null
  },
  {
   "metadata": {
    "jupyter": {
     "is_executing": true
    }
   },
   "cell_type": "code",
   "source": [
    "# bereinigte Daten in ein csv File speichern (zu viele Daten für Excel)\n",
    "df.to_csv('clean_data.csv')"
   ],
   "id": "fe0b7875ac4d6044",
   "outputs": [],
   "execution_count": null
  },
  {
   "metadata": {
    "jupyter": {
     "is_executing": true
    }
   },
   "cell_type": "code",
   "source": [
    "# alle Datentypen anzeigen\n",
    "df.info()"
   ],
   "id": "490314007c7541ca",
   "outputs": [],
   "execution_count": null
  },
  {
   "metadata": {
    "jupyter": {
     "is_executing": true
    }
   },
   "cell_type": "code",
   "source": [
    "# kleinstes, größtes und median Datum anzeigen\n",
    "df['Datum'].min(), df['Datum'].median(), df['Datum'].max(),"
   ],
   "id": "68035fbcff770ace",
   "outputs": [],
   "execution_count": null
  },
  {
   "metadata": {
    "jupyter": {
     "is_executing": true
    }
   },
   "cell_type": "code",
   "source": [
    "# Anzahl der einzigartigen RGSCodes anzeigen und ihre Häufigkeit\n",
    "print(df['RGSCode'].nunique())\n",
    "df['RGSCode'].value_counts()"
   ],
   "id": "9c72f9a44789a955",
   "outputs": [],
   "execution_count": null
  },
  {
   "metadata": {
    "jupyter": {
     "is_executing": true
    }
   },
   "cell_type": "code",
   "source": [
    "# Anzahl der einzigartigen RGSNamen anzeigen und ihre Häufigkeit\n",
    "print(df['RGSName'].nunique())\n",
    "df['RGSName'].value_counts()"
   ],
   "id": "5422a4b7d9d56e0c",
   "outputs": [],
   "execution_count": null
  },
  {
   "metadata": {
    "jupyter": {
     "is_executing": true
    }
   },
   "cell_type": "code",
   "source": [
    "# Anzahl der einzigartigen Geschlechter anzeigen und ihre Häufigkeit\n",
    "print(df['Geschlecht'].nunique())\n",
    "df['Geschlecht'].value_counts()"
   ],
   "id": "c5bffa920e865dba",
   "outputs": [],
   "execution_count": null
  },
  {
   "metadata": {
    "jupyter": {
     "is_executing": true
    }
   },
   "cell_type": "code",
   "source": [
    "# Anzahl der einzigartigen Altersgruppen anzeigen und ihre Häufigkeit\n",
    "print(df['Altersgruppe'].nunique())\n",
    "df['Altersgruppe'].value_counts()"
   ],
   "id": "80536d585181685",
   "outputs": [],
   "execution_count": null
  },
  {
   "metadata": {
    "jupyter": {
     "is_executing": true
    }
   },
   "cell_type": "code",
   "source": [
    "# kleinste, größte und median untere Altersgrenze \n",
    "df['Alter_von'].min(), df['Alter_von'].median(), df['Alter_von'].max()"
   ],
   "id": "f414563518ea8",
   "outputs": [],
   "execution_count": null
  },
  {
   "metadata": {
    "jupyter": {
     "is_executing": true
    }
   },
   "cell_type": "code",
   "source": [
    "# kleinste, größte und median obere Altersgrenze \n",
    "df['Alter_bis'].min(), df['Alter_bis'].median(), df['Alter_bis'].max()"
   ],
   "id": "6a7f83f46713c216",
   "outputs": [],
   "execution_count": null
  },
  {
   "metadata": {
    "jupyter": {
     "is_executing": true
    }
   },
   "cell_type": "code",
   "source": [
    "# Anzahl der einzigartigen Berufs4Steller anzeigen und ihre Häufigkeit\n",
    "print(df['Berufs4Steller'].nunique())\n",
    "df['Berufs4Steller'].value_counts()"
   ],
   "id": "7157f242587c8f5d",
   "outputs": [],
   "execution_count": null
  },
  {
   "metadata": {
    "jupyter": {
     "is_executing": true
    }
   },
   "cell_type": "code",
   "source": [
    "# Anzahl der einzigartigen Berufs4StellerBezeichnungen anzeigen und ihre Häufigkeit\n",
    "print(df['Berufs4StellerBez'].nunique())\n",
    "df['Berufs4StellerBez'].value_counts()"
   ],
   "id": "34b6373163949b3d",
   "outputs": [],
   "execution_count": null
  },
  {
   "metadata": {
    "jupyter": {
     "is_executing": true
    }
   },
   "cell_type": "code",
   "source": [
    "# Anzahl der einzigartigen Bestände anzeigen + kleinste, größte und median von Bestand\n",
    "print(df['BESTAND'].nunique())\n",
    "print(df['BESTAND'].min(), df['BESTAND'].median(), df['BESTAND'].max())\n",
    "df['BESTAND'].value_counts()\n"
   ],
   "id": "6f6e51f0fe094a18",
   "outputs": [],
   "execution_count": null
  },
  {
   "metadata": {},
   "cell_type": "raw",
   "source": [
    "## E2 - Exploratory data analysis (EDA)\n",
    "Use the clean dataset and understand and explore the relationships in the data (numerical, visual, statistical). This includes at least but is not limited to:\n",
    "- A comprehensive textual description of meaning for relevant fields in the dataset\n",
    "- Statistical/numerical descriptions and visualization techniques we learned in the course inluding correlations, distributions and groupings of variing degrees.\n",
    "- Checks for data quality, e. g., completeness, plausibility, outliers\n",
    "- Handling any identified problems with the data\n",
    "- If necessary, use additional data wrangling in line with your EDA and only keep what's necessary for the following steps of your analysis with appropriate data granularity and form (\"tidy data\")\n",
    "\n",
    "Don't:\n",
    "- test/prove hypotheses here. EDA should only motivate hypotheses. \n",
    "\n",
    "Advanced/bonus:\n",
    "- Depending on your hypothesis you may want to join external data (e.g., merge external highest education level to existing vaccination data) for additional insights.\n",
    "\n",
    "Explain all steps taken and your thinking why you deem them necessary."
   ],
   "id": "dc0846ebc64ce9fb"
  },
  {
   "metadata": {},
   "cell_type": "raw",
   "source": [
    "Datum: ['2019-01-31', '2020-05-21', ...]: \n",
    "=> Datum, an dem die Daten der Row erfasst worden sind (Stichtag), im monatlichen Rythmus\n",
    "\n",
    "RGSCode: ['101', '102', '103', '104', '105', '106', '107', '201', ...]\n",
    "=> Code des Arbeitsmarktbezirks\n",
    "\n",
    "RGSName: ['Eisenstadt', 'Mattersburg', 'Neusiedl am See', ...]\n",
    "=> Name des Arbeitsmarktbezirks\n",
    "\n",
    "Geschlecht: ['Frauen', 'Männer']\n",
    "=> Geschlecht\n",
    "\n",
    "Altersgruppe: ['bis 19 Jahre', '20 bis 24 Jahre', ...]\n",
    "=> Altersgruppen \n",
    "\n",
    "Berufs4steller - Code: ['0254', '1761', ...]\n",
    "=> Berufs-4-Steller gemäß AMS-Berufssystematik - Code\n",
    "\n",
    "Berufs4StellerBez: ['Tierzuchtgehilf(en)innen, Tierpfleger/innen', 'Maler/innen, Anstreicher/innen', ...]\n",
    "=> Berufs-4-Steller gemäß AMS-Berufssystematik - Bezeichnung\n",
    "\n",
    "Bestand: [1, 2, 3, ...]\n",
    "=> Bestand zum Stichtag/Monatsendbestand, Anzahl der Schulungsteilnehmer:innen \n",
    "\n",
    "Alter_von: [0, 20, 25, ...]\n",
    "=> untere Grenze der Altersgruppe\n",
    "\n",
    "Alter_bis: [19, 24, 29, ...]\n",
    "=> obere Grenze der Altergruppe\n",
    "\n",
    "Berufsobergruppe: ['Ackerbau-, Tierzucht-, Gartenbauberufe', 'Bauberufe', ...]\n",
    "=> zugehörige Obergruppe (2-St.) laut '24-598_AMS-Berufssystematik_Stand_05-2024.xlsx', externe Datenquelle\n",
    "\n",
    "Bundesland: ['Burgenland', 'Wien', ...]\n",
    "=> zugehörige Bundesländer zu Arbeitsmarktbezirks laut https://www.ams.at/content/dam/download/allgemeine-informationen/001_amd-online_verzeichnis_arbeitsmarktbezirke.pdf"
   ],
   "id": "9d03c97e5000f115"
  },
  {
   "cell_type": "code",
   "id": "370ab718-fa85-4fd8-adee-7643970042ad",
   "metadata": {
    "jupyter": {
     "is_executing": true
    }
   },
   "source": "# E2:\n",
   "outputs": [],
   "execution_count": null
  },
  {
   "metadata": {
    "jupyter": {
     "is_executing": true
    }
   },
   "cell_type": "code",
   "source": [
    "# geopandas_dataframe für Bundesländergrenzen laden\n",
    "gdf = gpd.read_file(\"laender_95_geo.json\")\n",
    "\n",
    "gdf.plot()\n",
    "plt.show()"
   ],
   "id": "3ff881c5c3da95bc",
   "outputs": [],
   "execution_count": null
  },
  {
   "metadata": {
    "jupyter": {
     "is_executing": true
    }
   },
   "cell_type": "code",
   "source": "gdf.head()",
   "id": "d235d40015460def",
   "outputs": [],
   "execution_count": null
  },
  {
   "cell_type": "code",
   "id": "bc62f132-be6d-46cc-9697-25546ac356cb",
   "metadata": {
    "jupyter": {
     "is_executing": true
    }
   },
   "source": [
    "# dataframe für Kategorisierung der Berufe laden\n",
    "df_zuordnungen = pd.read_excel('24-598_AMS-Berufssystematik_Stand_05-2024.xlsx', dtype=str)\n",
    "df_zuordnungen"
   ],
   "outputs": [],
   "execution_count": null
  },
  {
   "metadata": {
    "jupyter": {
     "is_executing": true
    }
   },
   "cell_type": "code",
   "source": [
    "# Anzahl der unterschiedlichen Kategorien vergleichen\n",
    "df_zuordnungen['1-St.'].nunique(), df_zuordnungen['2-St.'].nunique()\n",
    "#print(df_zuordnungen['Berufsabteilung'].nunique()) # 7 verschiedene da Stufe 1,2,3 gleich sind\n"
   ],
   "id": "7e13b9e87d53a69",
   "outputs": [],
   "execution_count": null
  },
  {
   "metadata": {
    "jupyter": {
     "is_executing": true
    }
   },
   "cell_type": "code",
   "source": [
    "# B von Berufscodes entfernen, um mit den Kategorien zu mergen\n",
    "df['Berufs4Steller'] = df['Berufs4Steller'].replace('B', '', regex=True)\n",
    "df"
   ],
   "id": "35f73b38fa9d360a",
   "outputs": [],
   "execution_count": null
  },
  {
   "metadata": {
    "jupyter": {
     "is_executing": true
    }
   },
   "cell_type": "code",
   "source": [
    "# Auswahl der interessanten Columns, um keine unnötigen Daten hinzuzufügen\n",
    "# Mergen des Originaldatensets mit der Auswahl der Kategorie-Columns\n",
    "df_zuordnungen_small = df_zuordnungen[['4-St.', 'Berufsobergruppe']].drop_duplicates()\n",
    "merged_df = df.merge(df_zuordnungen_small, left_on='Berufs4Steller', right_on='4-St.', how='inner')\n",
    "#df_zuordnungen_small\n",
    "merged_df"
   ],
   "id": "3f405e7a6995ed26",
   "outputs": [],
   "execution_count": null
  },
  {
   "metadata": {
    "jupyter": {
     "is_executing": true
    }
   },
   "cell_type": "code",
   "source": [
    "# https://www.ams.at/content/dam/download/allgemeine-informationen/001_amd-online_verzeichnis_arbeitsmarktbezirke.pdf\n",
    "# manuelles Mappen der Bundesländer, um aus der ersten Ziffer der RGSCodes auf das zugehörige Bundesland zu schließen\n",
    "bundesland_mapping = {\n",
    "    '1': 'Burgenland',\n",
    "    '2': 'Kärnten',\n",
    "    '3': 'Niederösterreich',\n",
    "    '4': 'Oberösterreich',\n",
    "    '5': 'Salzburg',\n",
    "    '6': 'Steiermark',\n",
    "    '7': 'Tirol',\n",
    "    '8': 'Vorarlberg',\n",
    "    '9': 'Wien'\n",
    "}\n",
    "\n",
    "# extract first character of RGSCode and map to Bundesland\n",
    "merged_df['Bundesland'] = merged_df['RGSCode'].astype(str).str[0].map(bundesland_mapping)\n",
    "merged_df.drop('4-St.', axis=1, inplace=True) # doppelte Daten, nur zum Mergen benötigt"
   ],
   "id": "bc83d38361a07033",
   "outputs": [],
   "execution_count": null
  },
  {
   "metadata": {
    "jupyter": {
     "is_executing": true
    }
   },
   "cell_type": "code",
   "source": [
    "# ein neues Dataframe erzeugen, um die Geodaten der Bundesländer hinzuzufügen\n",
    "geo_df = merged_df.merge(gdf, left_on='Bundesland', right_on='name', how='inner')\n",
    "geo_df.drop(['iso', 'name'], axis=1, inplace=True)\n",
    "geo_df"
   ],
   "id": "83f16842b5eb3814",
   "outputs": [],
   "execution_count": null
  },
  {
   "metadata": {
    "jupyter": {
     "is_executing": true
    }
   },
   "cell_type": "code",
   "source": [
    "# fehlende Daten bei neu gemergeden dataframe checken\n",
    "missing_data = merged_df.isnull().sum()\n",
    "missing_percentages = round((missing_data / len(merged_df)) * 100, 2)\n",
    "\n",
    "missing_percentages.sort_values(ascending=False)"
   ],
   "id": "c6bedd855c202c8c",
   "outputs": [],
   "execution_count": null
  },
  {
   "metadata": {
    "jupyter": {
     "is_executing": true
    }
   },
   "cell_type": "code",
   "source": [
    "# exportieren der gemergeden Daten als csv\n",
    "merged_df.to_csv('merged_data.csv')\n",
    "merged_df"
   ],
   "id": "59240e949115f2f9",
   "outputs": [],
   "execution_count": null
  },
  {
   "metadata": {
    "jupyter": {
     "is_executing": true
    }
   },
   "cell_type": "code",
   "source": [
    "# Top-10 Bestand überprüfen, um mögliche Outlier zu identifizieren\n",
    "df_top_10_bestand = merged_df.sort_values(by='BESTAND', ascending=False)[:10]\n",
    "df_top_10_bestand"
   ],
   "id": "123eb116e9c7472b",
   "outputs": [],
   "execution_count": null
  },
  {
   "metadata": {
    "jupyter": {
     "is_executing": true
    }
   },
   "cell_type": "code",
   "source": [
    "# Anzahl der SchulungsteilnehmerInnen pro Bundesland in Summe von 2019 bis 2024\n",
    "\n",
    "grouped_data = merged_df.groupby('Bundesland')['BESTAND'].sum().reset_index()\n",
    "\n",
    "plt.figure(figsize=(10, 6))\n",
    "ax = sns.barplot(data=grouped_data, x='Bundesland', y='BESTAND', hue='Bundesland')\n",
    "\n",
    "plt.title('SchulungsteilnehmerInnen pro Bundesland Summe von 2019 - 2024')\n",
    "plt.ylabel('Summe vom BESTAND')\n",
    "plt.xticks(rotation=45)\n",
    "plt.gca().yaxis.set_major_formatter(ticker.StrMethodFormatter('{x:,.0f}'))\n",
    "\n",
    "for container in ax.containers:\n",
    "    ax.bar_label(container, fmt='{:,.0f}', label_type='edge', padding=5)\n",
    "\n",
    "plt.grid()\n",
    "plt.show()"
   ],
   "id": "7a428d32099b440d",
   "outputs": [],
   "execution_count": null
  },
  {
   "metadata": {
    "jupyter": {
     "is_executing": true
    }
   },
   "cell_type": "code",
   "source": [
    "# Anzahl der SchulungsteilnehmerInnen pro Geschlecht in Summe von 2019 bis 2024\n",
    "grouped_data = merged_df.groupby('Geschlecht', observed = False)['BESTAND'].sum().reset_index()\n",
    "\n",
    "plt.figure(figsize=(10, 6))\n",
    "ax = sns.barplot(data=grouped_data, x='Geschlecht', y='BESTAND', width=0.5, hue='Geschlecht')\n",
    "\n",
    "plt.title('SchulungsteilnehmerInnen pro Geschlecht Summe insgesamt von 2019 - 2024')\n",
    "plt.ylabel('Summe vom BESTAND')\n",
    "plt.xticks(rotation=45)\n",
    "plt.gca().yaxis.set_major_formatter(ticker.StrMethodFormatter('{x:,.0f}'))\n",
    "\n",
    "max_value = grouped_data['BESTAND'].max()\n",
    "plt.ylim(0, max_value * 1.1)\n",
    "\n",
    "for container in ax.containers:\n",
    "    ax.bar_label(container, fmt='{:,.0f}', label_type='edge', padding=5)\n",
    "\n",
    "plt.show()"
   ],
   "id": "351097462590080d",
   "outputs": [],
   "execution_count": null
  },
  {
   "metadata": {
    "jupyter": {
     "is_executing": true
    }
   },
   "cell_type": "code",
   "source": [
    "# Anzahl der SchulungsteilnehmerInnen pro Jahr und Geschlecht 2019 bis 2024\n",
    "grouped_data = merged_df.groupby([merged_df['Datum'].dt.year, 'Geschlecht'], observed=False)['BESTAND'].sum().reset_index()\n",
    "plt.figure(figsize=(10, 6))\n",
    "ax = sns.barplot(data=grouped_data, x='Datum', y='BESTAND', hue='Geschlecht')\n",
    "plt.xticks(rotation=45, ha='right')\n",
    "plt.gca().yaxis.set_major_formatter(ticker.StrMethodFormatter('{x:,.0f}'))\n",
    "plt.ylabel('Summe von Bestand')\n",
    "plt.title('SchulungsteilnehmerInnen pro Jahr und Geschlecht 2019 - 2024')\n",
    "\n",
    "max_value = grouped_data['BESTAND'].max()\n",
    "plt.ylim(0, max_value * 1.1)\n",
    "\n",
    "for container in ax.containers:\n",
    "    ax.bar_label(container, fmt='{:,.0f}', label_type='edge', padding=5)\n",
    "\n"
   ],
   "id": "f4fbf6f86635af8f",
   "outputs": [],
   "execution_count": null
  },
  {
   "metadata": {
    "jupyter": {
     "is_executing": true
    }
   },
   "cell_type": "code",
   "source": [
    "# Vorbereitung der Daten für Plot \n",
    "grouped_data = merged_df.groupby(['Altersgruppe', 'Alter_von','Geschlecht'], observed=True)['BESTAND'].sum().reset_index()\n",
    "# Bestände von 0 sind immer überflüssige Rows\n",
    "grouped_data.drop(grouped_data[grouped_data['BESTAND'] == 0].index, inplace=True)\n",
    "grouped_data.sort_values(by='Alter_von', inplace=True)\n",
    "grouped_data"
   ],
   "id": "d840dc7033cb2251",
   "outputs": [],
   "execution_count": null
  },
  {
   "metadata": {
    "jupyter": {
     "is_executing": true
    }
   },
   "cell_type": "code",
   "source": [
    "# Anzahl der SchulungsteilnehmerInnen pro Altersgruppe pro Geschlecht von 2019 bis 2024\n",
    "plt.figure(figsize=(15, 8))\n",
    "ax = sns.barplot(data=grouped_data, x='Altersgruppe', y='BESTAND', hue='Geschlecht')\n",
    "\n",
    "plt.title('SchulungsteilnehmerInnen pro Altersgruppe pro Geschlecht von 2019 - 2024')\n",
    "plt.ylabel('Summe von SchulungsteilnehmerInnen')\n",
    "plt.xticks(rotation=45, ha='right')\n",
    "plt.gca().yaxis.set_major_formatter(ticker.StrMethodFormatter('{x:,.0f}'))\n",
    "\n",
    "for container in ax.containers:\n",
    "    ax.bar_label(container, fmt='{:,.0f}', label_type='edge', padding=5, )\n",
    "\n",
    "plt.grid()\n",
    "plt.show()"
   ],
   "id": "509b4b5dac36ca9b",
   "outputs": [],
   "execution_count": null
  },
  {
   "metadata": {
    "jupyter": {
     "is_executing": true
    }
   },
   "cell_type": "code",
   "source": [
    "# Anzahl der SchulungsteilnehmerInnen pro Altersgruppe von 2019 bis 2024\n",
    "grouped_data = merged_df.groupby(['Altersgruppe', 'Alter_von'])['BESTAND'].sum().reset_index().sort_values(by='Alter_von')\n",
    "\n",
    "plt.figure(figsize=(10, 6))\n",
    "ax = sns.barplot(data=grouped_data, x='Altersgruppe', y='BESTAND', hue='Altersgruppe')\n",
    "\n",
    "plt.title('SchulungsteilnehmerInnen pro Altersgruppe von 2019 - 2024')\n",
    "plt.ylabel('Summe von SchulungsteilnehmerInnen')\n",
    "plt.xticks(rotation=45, ha='right')\n",
    "plt.gca().yaxis.set_major_formatter(ticker.StrMethodFormatter('{x:,.0f}'))\n",
    "\n",
    "max_value = grouped_data['BESTAND'].max()\n",
    "plt.ylim(0, max_value * 1.1)\n",
    "\n",
    "for container in ax.containers:\n",
    "    ax.bar_label(container, fmt='{:,.0f}', label_type='edge', padding=5)\n",
    "\n",
    "plt.grid()\n",
    "plt.show()"
   ],
   "id": "6b48c6c11ae05b9",
   "outputs": [],
   "execution_count": null
  },
  {
   "metadata": {
    "jupyter": {
     "is_executing": true
    }
   },
   "cell_type": "code",
   "source": [
    "# Veränderung der Anzahl der SchulungsteilnehmerInnen von 2019 bis 2024\n",
    "grouped_data = df.groupby('Datum')['BESTAND'].sum().reset_index()\n",
    "\n",
    "plt.figure(figsize=(10, 6))\n",
    "sns.lineplot(data=grouped_data, x='Datum', y='BESTAND', marker='o')\n",
    "\n",
    "plt.title('SchulungsteilnehmerInnen-Veränderung von 2019 - 2024')\n",
    "plt.xlabel('Datum')\n",
    "plt.ylabel('Summe von SchulungsteilnehmerInnen')\n",
    "plt.xticks(rotation=45)\n",
    "plt.grid(True)\n",
    "plt.show()"
   ],
   "id": "6a0e178fcff340d9",
   "outputs": [],
   "execution_count": null
  },
  {
   "metadata": {
    "jupyter": {
     "is_executing": true
    }
   },
   "cell_type": "code",
   "source": [
    "# Anzahl der SchulungsteilnehmerInnen mit unbestimmtem Berufswunsch von 2019 bis 2024\n",
    "grouped_data = df_unbest.groupby(['Datum'])['BESTAND'].sum().reset_index()\n",
    "\n",
    "plt.figure(figsize=(10, 6))\n",
    "ax = sns.lineplot(data=grouped_data, x='Datum', marker='o', y='BESTAND')\n",
    "\n",
    "plt.title('SchulungsteilnehmerInnen mit unbestimmten Berufswunsch von 2019 - 2024')\n",
    "plt.ylabel('Summe von SchulungsteilnehmerInnen')\n",
    "plt.xticks(rotation=45, ha='right')\n",
    "\n",
    "plt.grid(True)\n",
    "plt.show()"
   ],
   "id": "9211c40d01980b30",
   "outputs": [],
   "execution_count": null
  },
  {
   "metadata": {
    "jupyter": {
     "is_executing": true
    }
   },
   "cell_type": "code",
   "source": [
    "# Anzahl der SchulungsteilnehmerInnen mit NaN Berufswunsch von 2019 bis 2024\n",
    "grouped_data = df_nan.groupby(['Datum'])['BESTAND'].sum().reset_index()\n",
    "\n",
    "plt.figure(figsize=(10, 6))\n",
    "ax = sns.lineplot(data=grouped_data, x='Datum', marker='o', y='BESTAND')\n",
    "\n",
    "plt.title('SchulungsteilnehmerInnen mit unbestimmten Berufswunsch von 2019 - 2024')\n",
    "plt.ylabel('Summe von SchulungsteilnehmerInnen')\n",
    "plt.xticks(rotation=45, ha='right')\n",
    "\n",
    "plt.grid(True)\n",
    "plt.show()"
   ],
   "id": "758bb447103db87a",
   "outputs": [],
   "execution_count": null
  },
  {
   "metadata": {
    "jupyter": {
     "is_executing": true
    }
   },
   "cell_type": "code",
   "source": [
    "# Anzahl der SchulungsteilnehmerInnen pro Berufsobergruppe von 2019 bis 2024\n",
    "grouped_data = merged_df.groupby(['Berufsobergruppe'])['BESTAND'].sum().reset_index()\n",
    "ilp = px.bar(grouped_data, \n",
    "    x='Berufsobergruppe', \n",
    "    y='BESTAND', \n",
    "    color='Berufsobergruppe',\n",
    "    title=\"SchulungsteilnehmerInnen pro Berufsobergruppe von 2019 - 2024\",\n",
    "    labels={\"Berufsobergruppe\": \"Obergruppen der Berufe\", \"BESTAND\": \"Bestand\"} # labels the axes\n",
    "    )\n",
    "\n",
    "\n",
    "# add legend\n",
    "ilp.update_layout(\n",
    "    xaxis=dict(showticklabels=False),\n",
    "    legend_title_text='Berufsobergruppe', \n",
    "    width=1200, \n",
    "    height=600,\n",
    "    legend=dict(\n",
    "        orientation=\"v\", # vertical\n",
    "        font=dict(size=10)\n",
    "    )\n",
    ")\n",
    "\n",
    "ilp.show()\n"
   ],
   "id": "124d90370c52b40b",
   "outputs": [],
   "execution_count": null
  },
  {
   "metadata": {
    "jupyter": {
     "is_executing": true
    }
   },
   "cell_type": "code",
   "source": [
    "# Anzahl der SchulungsteilnehmerInnen pro Berufsobergruppe von 2019 bis 2024\n",
    "grouped_data = merged_df.groupby(['Berufsobergruppe'])['BESTAND'].sum().reset_index()\n",
    "\n",
    "fig = px.treemap(\n",
    "    grouped_data, \n",
    "    path=['Berufsobergruppe'],\n",
    "    values='BESTAND',\n",
    "    title='SchulungsteilnehmerInnen pro Berufsobergruppe von 2019 - 2024',\n",
    "    color='BESTAND',\n",
    "    color_continuous_scale='Viridis'\n",
    ")\n",
    "\n",
    "# Update layout to ensure clear labeling\n",
    "fig.update_traces(textinfo='label+value+percent entry')  # Show label, value, and percentage on each box\n",
    "fig.update_traces(hovertemplate='<b>Label:</b> %{label}<br>'\n",
    "                                '<b>Value:</b> %{value}<br>'\n",
    "                                '<b>Percentage:</b> %{percentRoot:.0%}<extra></extra>')\n",
    "\n",
    "fig.show()"
   ],
   "id": "cbbce824746076",
   "outputs": [],
   "execution_count": null
  },
  {
   "metadata": {
    "jupyter": {
     "is_executing": true
    }
   },
   "cell_type": "code",
   "source": [
    "# Top 10 Jobwünsche von 2019 bis 2024\n",
    "grouped_data = merged_df.groupby(['Berufs4StellerBez'])['BESTAND'].sum().reset_index().sort_values(by='BESTAND', ascending=False)\n",
    "grouped_data = grouped_data[:10]\n",
    "\n",
    "plt.figure(figsize=(10, 6))\n",
    "ax = sns.barplot(data=grouped_data, x='Berufs4StellerBez', y='BESTAND', hue='Berufs4StellerBez')\n",
    "\n",
    "plt.title('Top 10 Jobwünsche von 2019 - 2024')\n",
    "plt.ylabel('Summe von Jobwünschen')\n",
    "plt.xticks(rotation=45, ha='right')\n",
    "plt.gca().yaxis.set_major_formatter(ticker.StrMethodFormatter('{x:,.0f}'))\n",
    "\n",
    "max_value = grouped_data['BESTAND'].max()\n",
    "plt.ylim(0, max_value * 1.1)\n",
    "\n",
    "for container in ax.containers:\n",
    "    ax.bar_label(container, fmt='{:,.0f}', label_type='edge', padding=5)\n",
    "\n",
    "plt.grid()\n",
    "plt.show()"
   ],
   "id": "c78faa4217c26c9a",
   "outputs": [],
   "execution_count": null
  },
  {
   "metadata": {
    "jupyter": {
     "is_executing": true
    }
   },
   "cell_type": "code",
   "source": [
    "# Top 3 Berufswünsche pro Jahr auswählen\n",
    "grouped_data = merged_df.groupby([merged_df['Datum'].dt.year, 'Berufs4StellerBez'])['BESTAND'].sum().reset_index()\n",
    "grouped_data = grouped_data.groupby('Datum').apply(lambda x: x.nlargest(3, 'BESTAND')).reset_index(drop=True)\n",
    "\n",
    "grouped_data"
   ],
   "id": "27db34374902fb4",
   "outputs": [],
   "execution_count": null
  },
  {
   "metadata": {
    "jupyter": {
     "is_executing": true
    }
   },
   "cell_type": "code",
   "source": [
    "# Top 3 Jobwünsche pro Jahr von 2019 bis 2024\n",
    "plt.figure(figsize=(16, 8))\n",
    "ax = sns.barplot(data=grouped_data, x='Datum', y='BESTAND', hue='Berufs4StellerBez', width=0.5)\n",
    "\n",
    "plt.title('Top 3 Jobwünsche pro Jahr von 2019 - 2024')\n",
    "plt.ylabel('Summe von Jobwünschen')\n",
    "plt.xticks(rotation=45, ha='right')\n",
    "plt.gca().yaxis.set_major_formatter(ticker.StrMethodFormatter('{x:,.0f}'))\n",
    "\n",
    "max_value = grouped_data['BESTAND'].max()\n",
    "plt.ylim(0, max_value * 1.1)\n",
    "\n",
    "for container in ax.containers:\n",
    "    labels = ax.bar_label(container, fmt='{:,.0f}', label_type='edge', padding=3)\n",
    "    for label in labels:\n",
    "        #label.set_rotation(45)\n",
    "        label.set_horizontalalignment('left')     \n",
    "    \n",
    "plt.legend(title='Berufsbezeichnung', bbox_to_anchor=(1, 1), loc='upper left')\n",
    "plt.grid()\n",
    "plt.show()"
   ],
   "id": "3fb2fa96e04b06b4",
   "outputs": [],
   "execution_count": null
  },
  {
   "metadata": {
    "jupyter": {
     "is_executing": true
    }
   },
   "cell_type": "code",
   "source": "",
   "id": "c5151c4a045dae88",
   "outputs": [],
   "execution_count": null
  },
  {
   "cell_type": "markdown",
   "id": "277ea477-7d0c-407b-970e-212d64b5ec94",
   "metadata": {},
   "source": [
    "## E3 - Formulate hypotheses\n",
    "\n",
    "*Note: Read this section entirely and understand it - every group member.*\n",
    "\n",
    "A hypothesis is an idea or explanation for something that is based on known facts but has not yet been proved. A hypothesis is a compact, concise statement, such as: \"Individuals with higher income have (on average) more offspring.\", that will be answered based on facts (the data). https://gradcoach.com/what-is-a-research-hypothesis-or-scientific-hypothesis/\n",
    "\n",
    "Formulate *N* non-trivial hypotheses, 1 per group member, and regard the following criteria: \n",
    "- State the hypothesis explicitly in concise language. \n",
    "- The hypothesis must be **motivated** by either **EDA results** or **literature** (citation in the report needed).\n",
    "- The hypothesis must refer to **endpoints** that are **testable**. Specifically, the endpoint must be derived from the data.\n",
    "- Think of real-life use cases/consequences of your results (textual description). \n",
    "- For each hypothesis explain all executed steps. \n",
    "- In case of extreme or implausible results check the validity of your data.\n",
    "- For each hypothesis export the artifacts (figures, tables, etc.) required for the report.\n",
    "- If you decide to use a statistical test, use it properly. In particular, check the validity and comparability of the samples.\n",
    "\n",
    "Do not:\n",
    "- State nebulous, vague hypotheses. These don't contain endpoints and are unclear to test (i.e., answer).\n",
    "- Use post-hoc hypotheses. Portraying an empirically inspired **post hoc hypothesis as a priori** violates the **falsification principle** crucial for hypothesis-driven (that is, confirmatory) empirical research. Falsification is severe scientific fraud.\n",
    "- State trivial hypotheses (e.g., hypthesis 2: \"Not Hypothesis 1\").\n",
    "- Answer based on \"common knowledge\".\n",
    "- Try to **produce positively tested hypotheses**. If a well motivated hypothesis is negative, this is an important finding (see Simpson's Paradox). The value of a tested hypothesis lies in the information or learning it provides.\n",
    "\n",
    "Example: The homework with Simpson's Paradox. The pooled overall comparison between the genders would be the EDA motivating the hypothesis: \"At UC Berkeley the by-department admissions rate for females is lower than for males.\" It should be tested using samples of department admission rates for the 2 **groups** male and female. No steps of the test should be done in EDA (or a priory to stating the hypothesis). The groups should be compared graphically, e.g., via a stripplot overlayed with a boxplot. The figure should be labelled properly and exported for the report. A (paired) t-test **may** be used (it's optional) to test this hypothesis statistically. For different data (e.g., time series) different approaches may be required. You don't have to use statistical tests, in particular if you don't know what they are doing.\n"
   ]
  },
  {
   "cell_type": "markdown",
   "id": "09613f9f-d3ff-4b8d-b975-88437a72815c",
   "metadata": {},
   "source": [
    "### E3-H1: \"xxx\"\n",
    "Author: Group member 1\n"
   ]
  },
  {
   "cell_type": "code",
   "id": "702cdce9-5d4f-41f3-8b9e-a4363ec5d8d5",
   "metadata": {
    "jupyter": {
     "is_executing": true
    }
   },
   "source": [
    "# hypothesen:\n",
    "# Anzahl der Frauen, die Ausb. im Bereich Technik machen, ist von 2019 bis 2024 signifikant angestiegen\n",
    "# Anzahl der Frauen, die Ausb. im Bereich Technik machen, ist in Wien (und Graz) signifikant höher als im Rest Österreichs"
   ],
   "outputs": [],
   "execution_count": null
  },
  {
   "cell_type": "markdown",
   "id": "8a404fa7-19f3-49bc-adc7-9a6ae07da0c9",
   "metadata": {},
   "source": [
    "### E3-H2: \"xxx\"\n",
    "Author: Group member 2\n",
    "\n"
   ]
  },
  {
   "cell_type": "code",
   "id": "4a3711e0-13d6-4115-9d64-c9f154d27f7f",
   "metadata": {
    "jupyter": {
     "is_executing": true
    }
   },
   "source": [],
   "outputs": [],
   "execution_count": null
  },
  {
   "cell_type": "markdown",
   "id": "70e60944-b857-4a32-872a-6db028c51c87",
   "metadata": {
    "tags": []
   },
   "source": [
    "### E3-H3: \"xxx\"\n",
    "Author: Group member 3\n"
   ]
  },
  {
   "cell_type": "code",
   "id": "6bf1314d-47bb-4440-90f9-bef900320597",
   "metadata": {
    "jupyter": {
     "is_executing": true
    }
   },
   "source": [],
   "outputs": [],
   "execution_count": null
  },
  {
   "cell_type": "markdown",
   "id": "ede91b90-ee3d-40c0-b2c4-4712413fe0e6",
   "metadata": {
    "tags": []
   },
   "source": [
    "### E3-H4: \"xxx\"\n",
    "Author: Group member 4\n"
   ]
  },
  {
   "cell_type": "code",
   "id": "710a7064-05e8-4d52-9c1b-a6dcd143a4ae",
   "metadata": {
    "jupyter": {
     "is_executing": true
    }
   },
   "source": [],
   "outputs": [],
   "execution_count": null
  },
  {
   "cell_type": "markdown",
   "id": "5da06647-b803-4ad3-8e40-b372cf7044df",
   "metadata": {
    "tags": []
   },
   "source": [
    "### E3-H5: \"xxx\"\n",
    "Author: Group member 5\n"
   ]
  },
  {
   "cell_type": "code",
   "id": "9f174ed8-3291-4b1e-80a3-ea441b7efc19",
   "metadata": {
    "jupyter": {
     "is_executing": true
    }
   },
   "source": [],
   "outputs": [],
   "execution_count": null
  }
 ],
 "metadata": {
  "kernelspec": {
   "display_name": "Python 3 (ipykernel)",
   "language": "python",
   "name": "python3"
  },
  "language_info": {
   "codemirror_mode": {
    "name": "ipython",
    "version": 3
   },
   "file_extension": ".py",
   "mimetype": "text/x-python",
   "name": "python",
   "nbconvert_exporter": "python",
   "pygments_lexer": "ipython3",
   "version": "3.11.6"
  }
 },
 "nbformat": 4,
 "nbformat_minor": 5
}
